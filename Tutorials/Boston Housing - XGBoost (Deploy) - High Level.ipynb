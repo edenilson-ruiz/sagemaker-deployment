{
 "cells": [
  {
   "cell_type": "markdown",
   "metadata": {},
   "source": [
    "# Predicting Boston Housing Prices\n",
    "\n",
    "## Using XGBoost in SageMaker (Deploy)\n",
    "\n",
    "_Deep Learning Nanodegree Program | Deployment_\n",
    "\n",
    "---\n",
    "\n",
    "As an introduction to using SageMaker's High Level Python API we will look at a relatively simple problem. Namely, we will use the [Boston Housing Dataset](https://www.cs.toronto.edu/~delve/data/boston/bostonDetail.html) to predict the median value of a home in the area of Boston Mass.\n",
    "\n",
    "The documentation for the high level API can be found on the [ReadTheDocs page](http://sagemaker.readthedocs.io/en/latest/)\n",
    "\n",
    "## General Outline\n",
    "\n",
    "Typically, when using a notebook instance with SageMaker, you will proceed through the following steps. Of course, not every step will need to be done with each project. Also, there is quite a lot of room for variation in many of the steps, as you will see throughout these lessons.\n",
    "\n",
    "1. Download or otherwise retrieve the data.\n",
    "2. Process / Prepare the data.\n",
    "3. Upload the processed data to S3.\n",
    "4. Train a chosen model.\n",
    "5. Test the trained model (typically using a batch transform job).\n",
    "6. Deploy the trained model.\n",
    "7. Use the deployed model.\n",
    "\n",
    "In this notebook we will be skipping step 5, testing the model. We will still test the model but we will do so by first deploying the model and then sending the test data to the deployed model."
   ]
  },
  {
   "cell_type": "markdown",
   "metadata": {},
   "source": [
    "## Step 0: Setting up the notebook\n",
    "\n",
    "We begin by setting up all of the necessary bits required to run our notebook. To start that means loading all of the Python modules we will need."
   ]
  },
  {
   "cell_type": "code",
   "execution_count": 1,
   "metadata": {},
   "outputs": [],
   "source": [
    "%matplotlib inline\n",
    "\n",
    "import os\n",
    "\n",
    "import numpy as np\n",
    "import pandas as pd\n",
    "\n",
    "import matplotlib.pyplot as plt\n",
    "\n",
    "from sklearn.datasets import load_boston\n",
    "import sklearn.model_selection"
   ]
  },
  {
   "cell_type": "markdown",
   "metadata": {},
   "source": [
    "In addition to the modules above, we need to import the various bits of SageMaker that we will be using. "
   ]
  },
  {
   "cell_type": "code",
   "execution_count": 2,
   "metadata": {},
   "outputs": [],
   "source": [
    "import sagemaker\n",
    "from sagemaker import get_execution_role\n",
    "from sagemaker.amazon.amazon_estimator import get_image_uri\n",
    "from sagemaker.predictor import csv_serializer\n",
    "\n",
    "# This is an object that represents the SageMaker session that we are currently operating in. This\n",
    "# object contains some useful information that we will need to access later such as our region.\n",
    "session = sagemaker.Session()\n",
    "\n",
    "# This is an object that represents the IAM role that we are currently assigned. When we construct\n",
    "# and launch the training job later we will need to tell it what IAM role it should have. Since our\n",
    "# use case is relatively simple we will simply assign the training job the role we currently have.\n",
    "role = get_execution_role()"
   ]
  },
  {
   "cell_type": "markdown",
   "metadata": {},
   "source": [
    "## Step 1: Downloading the data\n",
    "\n",
    "Fortunately, this dataset can be retrieved using sklearn and so this step is relatively straightforward."
   ]
  },
  {
   "cell_type": "code",
   "execution_count": 3,
   "metadata": {},
   "outputs": [],
   "source": [
    "boston = load_boston()"
   ]
  },
  {
   "cell_type": "markdown",
   "metadata": {},
   "source": [
    "## Step 2: Preparing and splitting the data\n",
    "\n",
    "Given that this is clean tabular data, we don't need to do any processing. However, we do need to split the rows in the dataset up into train, test and validation sets."
   ]
  },
  {
   "cell_type": "code",
   "execution_count": 4,
   "metadata": {},
   "outputs": [],
   "source": [
    "# First we package up the input data and the target variable (the median value) as pandas dataframes. This\n",
    "# will make saving the data to a file a little easier later on.\n",
    "\n",
    "X_bos_pd = pd.DataFrame(boston.data, columns=boston.feature_names)\n",
    "Y_bos_pd = pd.DataFrame(boston.target)\n",
    "\n",
    "# We split the dataset into 2/3 training and 1/3 testing sets.\n",
    "X_train, X_test, Y_train, Y_test = sklearn.model_selection.train_test_split(X_bos_pd, Y_bos_pd, test_size=0.33)\n",
    "\n",
    "# Then we split the training set further into 2/3 training and 1/3 validation sets.\n",
    "X_train, X_val, Y_train, Y_val = sklearn.model_selection.train_test_split(X_train, Y_train, test_size=0.33)"
   ]
  },
  {
   "cell_type": "markdown",
   "metadata": {},
   "source": [
    "## Step 3: Uploading the training and validation files to S3\n",
    "\n",
    "When a training job is constructed using SageMaker, a container is executed which performs the training operation. This container is given access to data that is stored in S3. This means that we need to upload the data we want to use for training to S3. We can use the SageMaker API to do this and hide some of the details.\n",
    "\n",
    "### Save the data locally\n",
    "\n",
    "First we need to create the train and validation csv files which we will then upload to S3."
   ]
  },
  {
   "cell_type": "code",
   "execution_count": 5,
   "metadata": {},
   "outputs": [],
   "source": [
    "# This is our local data directory. We need to make sure that it exists.\n",
    "data_dir = '../data/boston'\n",
    "if not os.path.exists(data_dir):\n",
    "    os.makedirs(data_dir)"
   ]
  },
  {
   "cell_type": "code",
   "execution_count": 6,
   "metadata": {},
   "outputs": [],
   "source": [
    "# We use pandas to save our train and validation data to csv files. Note that we make sure not to include header\n",
    "# information or an index as this is required by the built in algorithms provided by Amazon. Also, it is assumed\n",
    "# that the first entry in each row is the target variable.\n",
    "\n",
    "pd.concat([Y_val, X_val], axis=1).to_csv(os.path.join(data_dir, 'validation.csv'), header=False, index=False)\n",
    "pd.concat([Y_train, X_train], axis=1).to_csv(os.path.join(data_dir, 'train.csv'), header=False, index=False)"
   ]
  },
  {
   "cell_type": "markdown",
   "metadata": {},
   "source": [
    "### Upload to S3\n",
    "\n",
    "Since we are currently running inside of a SageMaker session, we can use the object which represents this session to upload our data to the 'default' S3 bucket. Note that it is good practice to provide a custom prefix (essentially an S3 folder) to make sure that you don't accidentally interfere with data uploaded from some other notebook or project."
   ]
  },
  {
   "cell_type": "code",
   "execution_count": 7,
   "metadata": {},
   "outputs": [],
   "source": [
    "prefix = 'boston-xgboost-deploy-hl'\n",
    "\n",
    "val_location = session.upload_data(os.path.join(data_dir, 'validation.csv'), key_prefix=prefix)\n",
    "train_location = session.upload_data(os.path.join(data_dir, 'train.csv'), key_prefix=prefix)"
   ]
  },
  {
   "cell_type": "markdown",
   "metadata": {},
   "source": [
    "## Step 4: Train the XGBoost model\n",
    "\n",
    "Now that we have the training and validation data uploaded to S3, we can construct our XGBoost model and train it. We will be making use of the high level SageMaker API to do this which will make the resulting code a little easier to read at the cost of some flexibility.\n",
    "\n",
    "To construct an estimator, the object which we wish to train, we need to provide the location of a container which contains the training code. Since we are using a built in algorithm this container is provided by Amazon. However, the full name of the container is a bit lengthy and depends on the region that we are operating in. Fortunately, SageMaker provides a useful utility method called `get_image_uri` that constructs the image name for us.\n",
    "\n",
    "To use the `get_image_uri` method we need to provide it with our current region, which can be obtained from the session object, and the name of the algorithm we wish to use. In this notebook we will be using XGBoost however you could try another algorithm if you wish. The list of built in algorithms can be found in the list of [Common Parameters](https://docs.aws.amazon.com/sagemaker/latest/dg/sagemaker-algo-docker-registry-paths.html)."
   ]
  },
  {
   "cell_type": "code",
   "execution_count": 8,
   "metadata": {},
   "outputs": [],
   "source": [
    "# As stated above, we use this utility method to construct the image name for the training container.\n",
    "container = get_image_uri(session.boto_region_name, 'xgboost','0.90-1')\n",
    "\n",
    "# Now that we know which container to use, we can construct the estimator object.\n",
    "xgb = sagemaker.estimator.Estimator(container, # The name of the training container\n",
    "                                    role,      # The IAM role to use (our current role in this case)\n",
    "                                    train_instance_count=1, # The number of instances to use for training\n",
    "                                    train_instance_type='ml.m4.xlarge', # The type of instance ot use for training\n",
    "                                    output_path='s3://{}/{}/output'.format(session.default_bucket(), prefix),\n",
    "                                                                        # Where to save the output (the model artifacts)\n",
    "                                    sagemaker_session=session) # The current SageMaker session"
   ]
  },
  {
   "cell_type": "markdown",
   "metadata": {},
   "source": [
    "Before asking SageMaker to begin the training job, we should probably set any model specific hyperparameters. There are quite a few that can be set when using the XGBoost algorithm, below are just a few of them. If you would like to change the hyperparameters below or modify additional ones you can find additional information on the [XGBoost hyperparameter page](https://docs.aws.amazon.com/sagemaker/latest/dg/xgboost_hyperparameters.html)"
   ]
  },
  {
   "cell_type": "code",
   "execution_count": 9,
   "metadata": {},
   "outputs": [],
   "source": [
    "xgb.set_hyperparameters(max_depth=5,\n",
    "                        eta=0.2,\n",
    "                        gamma=4,\n",
    "                        min_child_weight=6,\n",
    "                        subsample=0.8,\n",
    "                        objective='reg:linear',\n",
    "                        early_stopping_rounds=10,\n",
    "                        num_round=200)"
   ]
  },
  {
   "cell_type": "markdown",
   "metadata": {},
   "source": [
    "Now that we have our estimator object completely set up, it is time to train it. To do this we make sure that SageMaker knows our input data is in csv format and then execute the `fit` method."
   ]
  },
  {
   "cell_type": "code",
   "execution_count": 10,
   "metadata": {
    "scrolled": true
   },
   "outputs": [
    {
     "name": "stdout",
     "output_type": "stream",
     "text": [
      "2020-04-27 14:37:01 Starting - Starting the training job...\n",
      "2020-04-27 14:37:03 Starting - Launching requested ML instances...\n",
      "2020-04-27 14:38:00 Starting - Preparing the instances for training......\n",
      "2020-04-27 14:38:51 Downloading - Downloading input data...\n",
      "2020-04-27 14:39:08 Training - Downloading the training image..\u001b[34mINFO:sagemaker-containers:Imported framework sagemaker_xgboost_container.training\u001b[0m\n",
      "\u001b[34mINFO:sagemaker-containers:Failed to parse hyperparameter objective value reg:linear to Json.\u001b[0m\n",
      "\u001b[34mReturning the value itself\u001b[0m\n",
      "\u001b[34mINFO:sagemaker-containers:No GPUs detected (normal if no gpus installed)\u001b[0m\n",
      "\u001b[34mINFO:sagemaker_xgboost_container.training:Running XGBoost Sagemaker in algorithm mode\u001b[0m\n",
      "\u001b[34mINFO:root:Determined delimiter of CSV input is ','\u001b[0m\n",
      "\u001b[34mINFO:root:Determined delimiter of CSV input is ','\u001b[0m\n",
      "\u001b[34mINFO:root:Determined delimiter of CSV input is ','\u001b[0m\n",
      "\u001b[34m[14:39:39] 227x13 matrix with 2951 entries loaded from /opt/ml/input/data/train?format=csv&label_column=0&delimiter=,\u001b[0m\n",
      "\u001b[34mINFO:root:Determined delimiter of CSV input is ','\u001b[0m\n",
      "\u001b[34m[14:39:39] 112x13 matrix with 1456 entries loaded from /opt/ml/input/data/validation?format=csv&label_column=0&delimiter=,\u001b[0m\n",
      "\u001b[34mINFO:root:Single node training.\u001b[0m\n",
      "\u001b[34mINFO:root:Train matrix has 227 rows\u001b[0m\n",
      "\u001b[34mINFO:root:Validation matrix has 112 rows\u001b[0m\n",
      "\u001b[34m[14:39:39] WARNING: /workspace/src/objective/regression_obj.cu:152: reg:linear is now deprecated in favor of reg:squarederror.\u001b[0m\n",
      "\u001b[34m[0]#011train-rmse:19.3786#011validation-rmse:19.1935\u001b[0m\n",
      "\u001b[34m[1]#011train-rmse:15.8762#011validation-rmse:15.8889\u001b[0m\n",
      "\u001b[34m[2]#011train-rmse:13.0426#011validation-rmse:13.119\u001b[0m\n",
      "\u001b[34m[3]#011train-rmse:10.8032#011validation-rmse:10.9406\u001b[0m\n",
      "\u001b[34m[4]#011train-rmse:8.99223#011validation-rmse:9.21279\u001b[0m\n",
      "\u001b[34m[5]#011train-rmse:7.5113#011validation-rmse:7.97588\u001b[0m\n",
      "\u001b[34m[6]#011train-rmse:6.32785#011validation-rmse:6.91426\u001b[0m\n",
      "\u001b[34m[7]#011train-rmse:5.38199#011validation-rmse:6.10045\u001b[0m\n",
      "\u001b[34m[8]#011train-rmse:4.6253#011validation-rmse:5.57132\u001b[0m\n",
      "\u001b[34m[9]#011train-rmse:4.07721#011validation-rmse:5.16459\u001b[0m\n",
      "\u001b[34m[10]#011train-rmse:3.58769#011validation-rmse:4.82284\u001b[0m\n",
      "\u001b[34m[11]#011train-rmse:3.24764#011validation-rmse:4.57856\u001b[0m\n",
      "\u001b[34m[12]#011train-rmse:3.01044#011validation-rmse:4.46057\u001b[0m\n",
      "\u001b[34m[13]#011train-rmse:2.79971#011validation-rmse:4.33172\u001b[0m\n",
      "\u001b[34m[14]#011train-rmse:2.63808#011validation-rmse:4.31988\u001b[0m\n",
      "\u001b[34m[15]#011train-rmse:2.50231#011validation-rmse:4.24048\u001b[0m\n",
      "\u001b[34m[16]#011train-rmse:2.35512#011validation-rmse:4.18225\u001b[0m\n",
      "\u001b[34m[17]#011train-rmse:2.23343#011validation-rmse:4.13232\u001b[0m\n",
      "\u001b[34m[18]#011train-rmse:2.13378#011validation-rmse:4.08605\u001b[0m\n",
      "\u001b[34m[19]#011train-rmse:2.06208#011validation-rmse:4.0648\u001b[0m\n",
      "\u001b[34m[20]#011train-rmse:1.95979#011validation-rmse:4.07541\u001b[0m\n",
      "\u001b[34m[21]#011train-rmse:1.91482#011validation-rmse:4.08427\u001b[0m\n",
      "\u001b[34m[22]#011train-rmse:1.86749#011validation-rmse:4.09186\u001b[0m\n",
      "\u001b[34m[23]#011train-rmse:1.7867#011validation-rmse:4.01389\u001b[0m\n",
      "\u001b[34m[24]#011train-rmse:1.73585#011validation-rmse:4.01606\u001b[0m\n",
      "\u001b[34m[25]#011train-rmse:1.71273#011validation-rmse:3.99021\u001b[0m\n",
      "\u001b[34m[26]#011train-rmse:1.69422#011validation-rmse:3.99403\u001b[0m\n",
      "\u001b[34m[27]#011train-rmse:1.67552#011validation-rmse:4.00759\u001b[0m\n",
      "\u001b[34m[28]#011train-rmse:1.62058#011validation-rmse:4.02498\u001b[0m\n",
      "\u001b[34m[29]#011train-rmse:1.59208#011validation-rmse:3.99197\u001b[0m\n",
      "\u001b[34m[30]#011train-rmse:1.56729#011validation-rmse:3.99148\u001b[0m\n",
      "\u001b[34m[31]#011train-rmse:1.52805#011validation-rmse:4.00242\u001b[0m\n",
      "\u001b[34m[32]#011train-rmse:1.49776#011validation-rmse:3.97158\u001b[0m\n",
      "\u001b[34m[33]#011train-rmse:1.45706#011validation-rmse:3.94404\u001b[0m\n",
      "\u001b[34m[34]#011train-rmse:1.41545#011validation-rmse:3.93073\u001b[0m\n",
      "\u001b[34m[35]#011train-rmse:1.38764#011validation-rmse:3.92869\u001b[0m\n",
      "\u001b[34m[36]#011train-rmse:1.36455#011validation-rmse:3.91028\u001b[0m\n",
      "\u001b[34m[37]#011train-rmse:1.31664#011validation-rmse:3.88821\u001b[0m\n",
      "\u001b[34m[38]#011train-rmse:1.29224#011validation-rmse:3.88648\u001b[0m\n",
      "\u001b[34m[39]#011train-rmse:1.26162#011validation-rmse:3.88454\u001b[0m\n",
      "\u001b[34m[40]#011train-rmse:1.23113#011validation-rmse:3.88537\u001b[0m\n",
      "\u001b[34m[41]#011train-rmse:1.20183#011validation-rmse:3.88503\u001b[0m\n",
      "\u001b[34m[42]#011train-rmse:1.1948#011validation-rmse:3.89754\u001b[0m\n",
      "\u001b[34m[43]#011train-rmse:1.18384#011validation-rmse:3.89656\u001b[0m\n",
      "\u001b[34m[44]#011train-rmse:1.16891#011validation-rmse:3.88522\u001b[0m\n",
      "\u001b[34m[45]#011train-rmse:1.13744#011validation-rmse:3.86504\u001b[0m\n",
      "\u001b[34m[46]#011train-rmse:1.12468#011validation-rmse:3.85432\u001b[0m\n",
      "\u001b[34m[47]#011train-rmse:1.11001#011validation-rmse:3.84018\u001b[0m\n",
      "\u001b[34m[48]#011train-rmse:1.10804#011validation-rmse:3.83393\u001b[0m\n",
      "\u001b[34m[49]#011train-rmse:1.09477#011validation-rmse:3.8415\u001b[0m\n",
      "\u001b[34m[50]#011train-rmse:1.06787#011validation-rmse:3.86061\u001b[0m\n",
      "\u001b[34m[51]#011train-rmse:1.0506#011validation-rmse:3.84766\u001b[0m\n",
      "\u001b[34m[52]#011train-rmse:1.03037#011validation-rmse:3.83439\u001b[0m\n",
      "\u001b[34m[53]#011train-rmse:1.01244#011validation-rmse:3.82197\u001b[0m\n",
      "\u001b[34m[54]#011train-rmse:0.99532#011validation-rmse:3.81808\u001b[0m\n",
      "\u001b[34m[55]#011train-rmse:0.971389#011validation-rmse:3.80171\u001b[0m\n",
      "\u001b[34m[56]#011train-rmse:0.963581#011validation-rmse:3.79404\u001b[0m\n",
      "\u001b[34m[57]#011train-rmse:0.953124#011validation-rmse:3.81132\u001b[0m\n",
      "\u001b[34m[58]#011train-rmse:0.950937#011validation-rmse:3.8088\u001b[0m\n",
      "\u001b[34m[59]#011train-rmse:0.932747#011validation-rmse:3.80272\u001b[0m\n",
      "\u001b[34m[60]#011train-rmse:0.917907#011validation-rmse:3.79201\u001b[0m\n",
      "\u001b[34m[61]#011train-rmse:0.903331#011validation-rmse:3.78768\u001b[0m\n",
      "\u001b[34m[62]#011train-rmse:0.898567#011validation-rmse:3.78163\u001b[0m\n",
      "\u001b[34m[63]#011train-rmse:0.898493#011validation-rmse:3.78188\u001b[0m\n",
      "\u001b[34m[64]#011train-rmse:0.88784#011validation-rmse:3.78973\u001b[0m\n",
      "\u001b[34m[65]#011train-rmse:0.888359#011validation-rmse:3.7927\u001b[0m\n",
      "\u001b[34m[66]#011train-rmse:0.888233#011validation-rmse:3.79293\u001b[0m\n",
      "\u001b[34m[67]#011train-rmse:0.883699#011validation-rmse:3.78334\u001b[0m\n",
      "\u001b[34m[68]#011train-rmse:0.883705#011validation-rmse:3.78331\u001b[0m\n",
      "\u001b[34m[69]#011train-rmse:0.883727#011validation-rmse:3.78324\u001b[0m\n",
      "\u001b[34m[70]#011train-rmse:0.864886#011validation-rmse:3.78261\u001b[0m\n",
      "\u001b[34m[71]#011train-rmse:0.864736#011validation-rmse:3.78298\u001b[0m\n",
      "\u001b[34m[72]#011train-rmse:0.866355#011validation-rmse:3.78825\u001b[0m\n",
      "\n",
      "2020-04-27 14:39:50 Uploading - Uploading generated training model\n",
      "2020-04-27 14:39:50 Completed - Training job completed\n",
      "Training seconds: 59\n",
      "Billable seconds: 59\n"
     ]
    }
   ],
   "source": [
    "# This is a wrapper around the location of our train and validation data, to make sure that SageMaker\n",
    "# knows our data is in csv format.\n",
    "s3_input_train = sagemaker.s3_input(s3_data=train_location, content_type='csv')\n",
    "s3_input_validation = sagemaker.s3_input(s3_data=val_location, content_type='csv')\n",
    "\n",
    "xgb.fit({'train': s3_input_train, 'validation': s3_input_validation})"
   ]
  },
  {
   "cell_type": "markdown",
   "metadata": {},
   "source": [
    "## Step 5: Test the trained model\n",
    "\n",
    "We will be skipping this step for now. We will still test our trained model but we are going to do it by using the deployed model, rather than setting up a batch transform job.\n",
    "\n",
    "\n",
    "## Step 6: Deploy the trained model\n",
    "\n",
    "Now that we have fit our model to the training data, using the validation data to avoid overfitting, we can deploy our model and test it. Deploying is very simple when we use the high level API, we need only call the `deploy` method of our trained estimator.\n",
    "\n",
    "**NOTE:** When deploying a model you are asking SageMaker to launch an compute instance that will wait for data to be sent to it. As a result, this compute instance will continue to run until *you* shut it down. This is important to know since the cost of a deployed endpoint depends on how long it has been running for.\n",
    "\n",
    "In other words **If you are no longer using a deployed endpoint, shut it down!**"
   ]
  },
  {
   "cell_type": "code",
   "execution_count": 11,
   "metadata": {},
   "outputs": [
    {
     "name": "stdout",
     "output_type": "stream",
     "text": [
      "-------------!"
     ]
    }
   ],
   "source": [
    "xgb_predictor = xgb.deploy(initial_instance_count=1, instance_type='ml.m4.xlarge')"
   ]
  },
  {
   "cell_type": "markdown",
   "metadata": {},
   "source": [
    "## Step 7: Use the model\n",
    "\n",
    "Now that our model is trained and deployed we can send the test data to it and evaluate the results. Here, because our test data is so small, we can send it all using a single call to our endpoint. If our test dataset was larger we would need to split it up and send the data in chunks, making sure to accumulate the results."
   ]
  },
  {
   "cell_type": "code",
   "execution_count": 12,
   "metadata": {},
   "outputs": [],
   "source": [
    "# We need to tell the endpoint what format the data we are sending is in\n",
    "xgb_predictor.content_type = 'text/csv'\n",
    "xgb_predictor.serializer = csv_serializer\n",
    "\n",
    "Y_pred = xgb_predictor.predict(X_test.values).decode('utf-8')\n",
    "# predictions is currently a comma delimited string and so we would like to break it up\n",
    "# as a numpy array.\n",
    "Y_pred = np.fromstring(Y_pred, sep=',')"
   ]
  },
  {
   "cell_type": "markdown",
   "metadata": {},
   "source": [
    "To see how well our model works we can create a simple scatter plot between the predicted and actual values. If the model was completely accurate the resulting scatter plot would look like the line $x=y$. As we can see, our model seems to have done okay but there is room for improvement."
   ]
  },
  {
   "cell_type": "code",
   "execution_count": 13,
   "metadata": {},
   "outputs": [
    {
     "data": {
      "text/plain": [
       "Text(0.5, 1.0, 'Median Price vs Predicted Price')"
      ]
     },
     "execution_count": 13,
     "metadata": {},
     "output_type": "execute_result"
    },
    {
     "data": {
      "image/png": "[encoded data removed]",
      "text/plain": [
       "<Figure size 432x288 with 1 Axes>"
      ]
     },
     "metadata": {},
     "output_type": "display_data"
    }
   ],
   "source": [
    "plt.scatter(Y_test, Y_pred)\n",
    "plt.xlabel(\"Median Price\")\n",
    "plt.ylabel(\"Predicted Price\")\n",
    "plt.title(\"Median Price vs Predicted Price\")"
   ]
  },
  {
   "cell_type": "markdown",
   "metadata": {},
   "source": [
    "## Delete the endpoint\n",
    "\n",
    "Since we are no longer using the deployed model we need to make sure to shut it down. Remember that you have to pay for the length of time that your endpoint is deployed so the longer it is left running, the more it costs."
   ]
  },
  {
   "cell_type": "code",
   "execution_count": 14,
   "metadata": {},
   "outputs": [],
   "source": [
    "xgb_predictor.delete_endpoint()"
   ]
  },
  {
   "cell_type": "markdown",
   "metadata": {},
   "source": [
    "## Optional: Clean up\n",
    "\n",
    "The default notebook instance on SageMaker doesn't have a lot of excess disk space available. As you continue to complete and execute notebooks you will eventually fill up this disk space, leading to errors which can be difficult to diagnose. Once you are completely finished using a notebook it is a good idea to remove the files that you created along the way. Of course, you can do this from the terminal or from the notebook hub if you would like. The cell below contains some commands to clean up the created files from within the notebook."
   ]
  },
  {
   "cell_type": "code",
   "execution_count": 15,
   "metadata": {},
   "outputs": [],
   "source": [
    "# First we will remove all of the files contained in the data_dir directory\n",
    "!rm $data_dir/*\n",
    "\n",
    "# And then we delete the directory itself\n",
    "!rmdir $data_dir"
   ]
  },
  {
   "cell_type": "code",
   "execution_count": null,
   "metadata": {},
   "outputs": [],
   "source": []
  }
 ],
 "metadata": {
  "kernelspec": {
   "display_name": "conda_pytorch_p36",
   "language": "python",
   "name": "conda_pytorch_p36"
  },
  "language_info": {
   "codemirror_mode": {
    "name": "ipython",
    "version": 3
   },
   "file_extension": ".py",
   "mimetype": "text/x-python",
   "name": "python",
   "nbconvert_exporter": "python",
   "pygments_lexer": "ipython3",
   "version": "3.6.5"
  }
 },
 "nbformat": 4,
 "nbformat_minor": 2
}
