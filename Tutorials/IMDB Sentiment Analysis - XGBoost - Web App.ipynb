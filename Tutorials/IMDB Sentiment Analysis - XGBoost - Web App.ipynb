{
 "cells": [
  {
   "cell_type": "markdown",
   "metadata": {},
   "source": [
    "# Sentiment Analysis Web App\n",
    "\n",
    "_Deep Learning Nanodegree Program | Deployment_\n",
    "\n",
    "---\n",
    "\n",
    "In this notebook we will use Amazon's SageMaker service to construct a random tree model to predict the sentiment of a movie review. In addition, we will deploy this model to an endpoint and construct a very simple web app which will interact with our model's deployed endpoint.\n",
    "\n",
    "## General Outline\n",
    "\n",
    "Typically, when using a notebook instance with SageMaker, you will proceed through the following steps. Of course, not every step will need to be done with each project. Also, there is quite a lot of room for variation in many of the steps, as you will see throughout these lessons.\n",
    "\n",
    "1. Download or otherwise retrieve the data.\n",
    "2. Process / Prepare the data.\n",
    "3. Upload the processed data to S3.\n",
    "4. Train a chosen model.\n",
    "5. Test the trained model (typically using a batch transform job).\n",
    "6. Deploy the trained model.\n",
    "7. Use the deployed model.\n",
    "\n",
    "In this notebook we will progress through each of the steps above. We will also see that the final step, using the deployed model, can be quite challenging."
   ]
  },
  {
   "cell_type": "markdown",
   "metadata": {},
   "source": [
    "## Step 1: Downloading the data\n",
    "\n",
    "The dataset we are going to use is very popular among researchers in Natural Language Processing, usually referred to as the [IMDb dataset](http://ai.stanford.edu/~amaas/data/sentiment/). It consists of movie reviews from the website [imdb.com](http://www.imdb.com/), each labeled as either '**pos**itive', if the reviewer enjoyed the film, or '**neg**ative' otherwise.\n",
    "\n",
    "> Maas, Andrew L., et al. [Learning Word Vectors for Sentiment Analysis](http://ai.stanford.edu/~amaas/data/sentiment/). In _Proceedings of the 49th Annual Meeting of the Association for Computational Linguistics: Human Language Technologies_. Association for Computational Linguistics, 2011.\n",
    "\n",
    "We begin by using some Jupyter Notebook magic to download and extract the dataset."
   ]
  },
  {
   "cell_type": "code",
   "execution_count": 1,
   "metadata": {},
   "outputs": [
    {
     "name": "stdout",
     "output_type": "stream",
     "text": [
      "mkdir: cannot create directory ‘../data’: File exists\n",
      "--2020-04-27 16:19:51--  http://ai.stanford.edu/~amaas/data/sentiment/aclImdb_v1.tar.gz\n",
      "Resolving ai.stanford.edu (ai.stanford.edu)... 171.64.68.10\n",
      "Connecting to ai.stanford.edu (ai.stanford.edu)|171.64.68.10|:80... connected.\n",
      "HTTP request sent, awaiting response... 200 OK\n",
      "Length: 84125825 (80M) [application/x-gzip]\n",
      "Saving to: ‘../data/aclImdb_v1.tar.gz’\n",
      "\n",
      "../data/aclImdb_v1. 100%[===================>]  80.23M  21.7MB/s    in 4.9s    \n",
      "\n",
      "2020-04-27 16:19:57 (16.3 MB/s) - ‘../data/aclImdb_v1.tar.gz’ saved [84125825/84125825]\n",
      "\n"
     ]
    }
   ],
   "source": [
    "%mkdir ../data\n",
    "!wget -O ../data/aclImdb_v1.tar.gz http://ai.stanford.edu/~amaas/data/sentiment/aclImdb_v1.tar.gz\n",
    "!tar -zxf ../data/aclImdb_v1.tar.gz -C ../data"
   ]
  },
  {
   "cell_type": "markdown",
   "metadata": {},
   "source": [
    "## Step 2: Preparing and Processing the data\n",
    "\n",
    "The data we have downloaded is split into various files, each of which contains a single review. It will be much easier going forward if we combine these individual files into two large files, one for training and one for testing."
   ]
  },
  {
   "cell_type": "code",
   "execution_count": 2,
   "metadata": {},
   "outputs": [],
   "source": [
    "import os\n",
    "import glob\n",
    "\n",
    "def read_imdb_data(data_dir='../data/aclImdb'):\n",
    "    data = {}\n",
    "    labels = {}\n",
    "    \n",
    "    for data_type in ['train', 'test']:\n",
    "        data[data_type] = {}\n",
    "        labels[data_type] = {}\n",
    "        \n",
    "        for sentiment in ['pos', 'neg']:\n",
    "            data[data_type][sentiment] = []\n",
    "            labels[data_type][sentiment] = []\n",
    "            \n",
    "            path = os.path.join(data_dir, data_type, sentiment, '*.txt')\n",
    "            files = glob.glob(path)\n",
    "            \n",
    "            for f in files:\n",
    "                with open(f) as review:\n",
    "                    data[data_type][sentiment].append(review.read())\n",
    "                    # Here we represent a positive review by '1' and a negative review by '0'\n",
    "                    labels[data_type][sentiment].append(1 if sentiment == 'pos' else 0)\n",
    "                    \n",
    "            assert len(data[data_type][sentiment]) == len(labels[data_type][sentiment]), \\\n",
    "                    \"{}/{} data size does not match labels size\".format(data_type, sentiment)\n",
    "                \n",
    "    return data, labels"
   ]
  },
  {
   "cell_type": "code",
   "execution_count": 3,
   "metadata": {},
   "outputs": [
    {
     "name": "stdout",
     "output_type": "stream",
     "text": [
      "IMDB reviews: train = 12500 pos / 12500 neg, test = 12500 pos / 12500 neg\n"
     ]
    }
   ],
   "source": [
    "data, labels = read_imdb_data()\n",
    "print(\"IMDB reviews: train = {} pos / {} neg, test = {} pos / {} neg\".format(\n",
    "            len(data['train']['pos']), len(data['train']['neg']),\n",
    "            len(data['test']['pos']), len(data['test']['neg'])))"
   ]
  },
  {
   "cell_type": "code",
   "execution_count": 4,
   "metadata": {},
   "outputs": [],
   "source": [
    "from sklearn.utils import shuffle\n",
    "\n",
    "def prepare_imdb_data(data, labels):\n",
    "    \"\"\"Prepare training and test sets from IMDb movie reviews.\"\"\"\n",
    "    \n",
    "    #Combine positive and negative reviews and labels\n",
    "    data_train = data['train']['pos'] + data['train']['neg']\n",
    "    data_test = data['test']['pos'] + data['test']['neg']\n",
    "    labels_train = labels['train']['pos'] + labels['train']['neg']\n",
    "    labels_test = labels['test']['pos'] + labels['test']['neg']\n",
    "    \n",
    "    #Shuffle reviews and corresponding labels within training and test sets\n",
    "    data_train, labels_train = shuffle(data_train, labels_train)\n",
    "    data_test, labels_test = shuffle(data_test, labels_test)\n",
    "    \n",
    "    # Return a unified training data, test data, training labels, test labets\n",
    "    return data_train, data_test, labels_train, labels_test"
   ]
  },
  {
   "cell_type": "code",
   "execution_count": 5,
   "metadata": {},
   "outputs": [
    {
     "name": "stdout",
     "output_type": "stream",
     "text": [
      "IMDb reviews (combined): train = 25000, test = 25000\n"
     ]
    }
   ],
   "source": [
    "train_X, test_X, train_y, test_y = prepare_imdb_data(data, labels)\n",
    "print(\"IMDb reviews (combined): train = {}, test = {}\".format(len(train_X), len(test_X)))"
   ]
  },
  {
   "cell_type": "code",
   "execution_count": 6,
   "metadata": {},
   "outputs": [
    {
     "data": {
      "text/plain": [
       "'i can\\'t believe that NONE of the official reviews for this movie warn people that it contains two quite upsetting sexual assault scenes. It\\'s as though our culture accepts this kind of behavior as simply sexual but not violent. My biggest problem with the movie is that it doesn\\'t seem to condemn these assaults - as in, the woman who is repeatedly assaulted and pressured never holds the men accountable for their actions, and neither does anyone else. One man is stopped from completing the assault when someone throws a dagger at him, but he is reprimanded only with \"you cannot force a woman to love you\" rather than \"you should never force a woman sexually, you jerk\"... From a woman\\'s point of view, the movie is a let down. It sort of \"throws a bone\" to women in letting them be both skilled fighters and leaders, but the movie is much more defined by the romance - which is characterized by the notion that human sexuality must involve an imbalance of power, with men dominating the woman they love. This amazing martial arts fighter doesn\\'t use any of her fighting skills to try to fend off her attackers. She never even makes them apologize - rather, SHE seems apologetic. Overall, a depressing and upsetting movie, with some great cinematography and some cool fight scenes, but not as good as Hero by a long shot.'"
      ]
     },
     "execution_count": 6,
     "metadata": {},
     "output_type": "execute_result"
    }
   ],
   "source": [
    "train_X[100]"
   ]
  },
  {
   "cell_type": "markdown",
   "metadata": {},
   "source": [
    "## Processing the data\n",
    "\n",
    "Now that we have our training and testing datasets merged and ready to use, we need to start processing the raw data into something that will be useable by our machine learning algorithm. To begin with, we remove any html formatting and any non-alpha numeric characters that may appear in the reviews. We will do this in a very simplistic way using Python's regular expression module. We will discuss the reason for this rather simplistic pre-processing later on."
   ]
  },
  {
   "cell_type": "code",
   "execution_count": 7,
   "metadata": {},
   "outputs": [],
   "source": [
    "import re\n",
    "\n",
    "REPLACE_NO_SPACE = re.compile(\"(\\.)|(\\;)|(\\:)|(\\!)|(\\')|(\\?)|(\\,)|(\\\")|(\\()|(\\))|(\\[)|(\\])\")\n",
    "REPLACE_WITH_SPACE = re.compile(\"(<br\\s*/><br\\s*/>)|(\\-)|(\\/)\")\n",
    "\n",
    "def review_to_words(review):\n",
    "    words = REPLACE_NO_SPACE.sub(\"\", review.lower())\n",
    "    words = REPLACE_WITH_SPACE.sub(\" \", words)\n",
    "    return words"
   ]
  },
  {
   "cell_type": "code",
   "execution_count": 8,
   "metadata": {},
   "outputs": [
    {
     "data": {
      "text/plain": [
       "'i cant believe that none of the official reviews for this movie warn people that it contains two quite upsetting sexual assault scenes its as though our culture accepts this kind of behavior as simply sexual but not violent my biggest problem with the movie is that it doesnt seem to condemn these assaults   as in the woman who is repeatedly assaulted and pressured never holds the men accountable for their actions and neither does anyone else one man is stopped from completing the assault when someone throws a dagger at him but he is reprimanded only with you cannot force a woman to love you rather than you should never force a woman sexually you jerk from a womans point of view the movie is a let down it sort of throws a bone to women in letting them be both skilled fighters and leaders but the movie is much more defined by the romance   which is characterized by the notion that human sexuality must involve an imbalance of power with men dominating the woman they love this amazing martial arts fighter doesnt use any of her fighting skills to try to fend off her attackers she never even makes them apologize   rather she seems apologetic overall a depressing and upsetting movie with some great cinematography and some cool fight scenes but not as good as hero by a long shot'"
      ]
     },
     "execution_count": 8,
     "metadata": {},
     "output_type": "execute_result"
    }
   ],
   "source": [
    "review_to_words(train_X[100])"
   ]
  },
  {
   "cell_type": "code",
   "execution_count": 9,
   "metadata": {},
   "outputs": [],
   "source": [
    "import pickle\n",
    "\n",
    "cache_dir = os.path.join(\"../cache\", \"sentiment_web_app\")  # where to store cache files\n",
    "os.makedirs(cache_dir, exist_ok=True)  # ensure cache directory exists\n",
    "\n",
    "def preprocess_data(data_train, data_test, labels_train, labels_test,\n",
    "                    cache_dir=cache_dir, cache_file=\"preprocessed_data.pkl\"):\n",
    "    \"\"\"Convert each review to words; read from cache if available.\"\"\"\n",
    "\n",
    "    # If cache_file is not None, try to read from it first\n",
    "    cache_data = None\n",
    "    if cache_file is not None:\n",
    "        try:\n",
    "            with open(os.path.join(cache_dir, cache_file), \"rb\") as f:\n",
    "                cache_data = pickle.load(f)\n",
    "            print(\"Read preprocessed data from cache file:\", cache_file)\n",
    "        except:\n",
    "            pass  # unable to read from cache, but that's okay\n",
    "    \n",
    "    # If cache is missing, then do the heavy lifting\n",
    "    if cache_data is None:\n",
    "        # Preprocess training and test data to obtain words for each review\n",
    "        #words_train = list(map(review_to_words, data_train))\n",
    "        #words_test = list(map(review_to_words, data_test))\n",
    "        words_train = [review_to_words(review) for review in data_train]\n",
    "        words_test = [review_to_words(review) for review in data_test]\n",
    "        \n",
    "        # Write to cache file for future runs\n",
    "        if cache_file is not None:\n",
    "            cache_data = dict(words_train=words_train, words_test=words_test,\n",
    "                              labels_train=labels_train, labels_test=labels_test)\n",
    "            with open(os.path.join(cache_dir, cache_file), \"wb\") as f:\n",
    "                pickle.dump(cache_data, f)\n",
    "            print(\"Wrote preprocessed data to cache file:\", cache_file)\n",
    "    else:\n",
    "        # Unpack data loaded from cache file\n",
    "        words_train, words_test, labels_train, labels_test = (cache_data['words_train'],\n",
    "                cache_data['words_test'], cache_data['labels_train'], cache_data['labels_test'])\n",
    "    \n",
    "    return words_train, words_test, labels_train, labels_test"
   ]
  },
  {
   "cell_type": "code",
   "execution_count": 10,
   "metadata": {},
   "outputs": [
    {
     "name": "stdout",
     "output_type": "stream",
     "text": [
      "Wrote preprocessed data to cache file: preprocessed_data.pkl\n"
     ]
    }
   ],
   "source": [
    "# Preprocess data\n",
    "train_X, test_X, train_y, test_y = preprocess_data(train_X, test_X, train_y, test_y)"
   ]
  },
  {
   "cell_type": "markdown",
   "metadata": {},
   "source": [
    "### Extract Bag-of-Words features\n",
    "\n",
    "For the model we will be implementing, rather than using the reviews directly, we are going to transform each review into a Bag-of-Words feature representation. Keep in mind that 'in the wild' we will only have access to the training set so our transformer can only use the training set to construct a representation."
   ]
  },
  {
   "cell_type": "code",
   "execution_count": 11,
   "metadata": {},
   "outputs": [],
   "source": [
    "import numpy as np\n",
    "from sklearn.feature_extraction.text import CountVectorizer\n",
    "from sklearn.externals import joblib\n",
    "# joblib is an enhanced version of pickle that is more efficient for storing NumPy arrays\n",
    "\n",
    "def extract_BoW_features(words_train, words_test, vocabulary_size=5000,\n",
    "                         cache_dir=cache_dir, cache_file=\"bow_features.pkl\"):\n",
    "    \"\"\"Extract Bag-of-Words for a given set of documents, already preprocessed into words.\"\"\"\n",
    "    \n",
    "    # If cache_file is not None, try to read from it first\n",
    "    cache_data = None\n",
    "    if cache_file is not None:\n",
    "        try:\n",
    "            with open(os.path.join(cache_dir, cache_file), \"rb\") as f:\n",
    "                cache_data = joblib.load(f)\n",
    "            print(\"Read features from cache file:\", cache_file)\n",
    "        except:\n",
    "            pass  # unable to read from cache, but that's okay\n",
    "    \n",
    "    # If cache is missing, then do the heavy lifting\n",
    "    if cache_data is None:\n",
    "        # Fit a vectorizer to training documents and use it to transform them\n",
    "        # NOTE: Training documents have already been preprocessed and tokenized into words;\n",
    "        #       pass in dummy functions to skip those steps, e.g. preprocessor=lambda x: x\n",
    "        vectorizer = CountVectorizer(max_features=vocabulary_size)\n",
    "        features_train = vectorizer.fit_transform(words_train).toarray()\n",
    "\n",
    "        # Apply the same vectorizer to transform the test documents (ignore unknown words)\n",
    "        features_test = vectorizer.transform(words_test).toarray()\n",
    "        \n",
    "        # NOTE: Remember to convert the features using .toarray() for a compact representation\n",
    "        \n",
    "        # Write to cache file for future runs (store vocabulary as well)\n",
    "        if cache_file is not None:\n",
    "            vocabulary = vectorizer.vocabulary_\n",
    "            cache_data = dict(features_train=features_train, features_test=features_test,\n",
    "                             vocabulary=vocabulary)\n",
    "            with open(os.path.join(cache_dir, cache_file), \"wb\") as f:\n",
    "                joblib.dump(cache_data, f)\n",
    "            print(\"Wrote features to cache file:\", cache_file)\n",
    "    else:\n",
    "        # Unpack data loaded from cache file\n",
    "        features_train, features_test, vocabulary = (cache_data['features_train'],\n",
    "                cache_data['features_test'], cache_data['vocabulary'])\n",
    "    \n",
    "    # Return both the extracted features as well as the vocabulary\n",
    "    return features_train, features_test, vocabulary"
   ]
  },
  {
   "cell_type": "code",
   "execution_count": 12,
   "metadata": {},
   "outputs": [
    {
     "name": "stdout",
     "output_type": "stream",
     "text": [
      "Wrote features to cache file: bow_features.pkl\n"
     ]
    }
   ],
   "source": [
    "# Extract Bag of Words features for both training and test datasets\n",
    "train_X, test_X, vocabulary = extract_BoW_features(train_X, test_X)"
   ]
  },
  {
   "cell_type": "code",
   "execution_count": 13,
   "metadata": {},
   "outputs": [
    {
     "data": {
      "text/plain": [
       "5000"
      ]
     },
     "execution_count": 13,
     "metadata": {},
     "output_type": "execute_result"
    }
   ],
   "source": [
    "len(train_X[100])"
   ]
  },
  {
   "cell_type": "markdown",
   "metadata": {},
   "source": [
    "## Step 3: Upload data to S3\n",
    "\n",
    "Now that we have created the feature representation of our training (and testing) data, it is time to start setting up and using the XGBoost classifier provided by SageMaker.\n",
    "\n",
    "### Writing the datasets\n",
    "\n",
    "The XGBoost classifier that we will be using requires the dataset to be written to a file and stored using Amazon S3. To do this, we will start by splitting the training dataset into two parts, the data we will train the model with and a validation set. Then, we will write those datasets to a file locally and then upload the files to S3. In addition, we will write the test set to a file and upload that file to S3. This is so that we can use SageMakers Batch Transform functionality to test our model once we've fit it."
   ]
  },
  {
   "cell_type": "code",
   "execution_count": 15,
   "metadata": {},
   "outputs": [],
   "source": [
    "import pandas as pd\n",
    "\n",
    "# Earlier we shuffled the training dataset so to make things simple we can just assign\n",
    "# the first 10 000 reviews to the validation set and use the remaining reviews for training.\n",
    "val_X = pd.DataFrame(train_X[:10000])\n",
    "train_X = pd.DataFrame(train_X[10000:])\n",
    "\n",
    "val_y = pd.DataFrame(train_y[:10000])\n",
    "train_y = pd.DataFrame(train_y[10000:])"
   ]
  },
  {
   "cell_type": "markdown",
   "metadata": {},
   "source": [
    "The documentation for the XGBoost algorithm in SageMaker requires that the training and validation datasets should contain no headers or index and that the label should occur first for each sample.\n",
    "\n",
    "For more information about this and other algorithms, the SageMaker developer documentation can be found on __[Amazon's website.](https://docs.aws.amazon.com/sagemaker/latest/dg/)__"
   ]
  },
  {
   "cell_type": "code",
   "execution_count": 16,
   "metadata": {},
   "outputs": [],
   "source": [
    "# First we make sure that the local directory in which we'd like to store the training and validation csv files exists.\n",
    "data_dir = '../data/sentiment_web_app'\n",
    "if not os.path.exists(data_dir):\n",
    "    os.makedirs(data_dir)"
   ]
  },
  {
   "cell_type": "code",
   "execution_count": 17,
   "metadata": {},
   "outputs": [],
   "source": [
    "pd.DataFrame(test_X).to_csv(os.path.join(data_dir, 'test.csv'), header=False, index=False)\n",
    "\n",
    "pd.concat([val_y, val_X], axis=1).to_csv(os.path.join(data_dir, 'validation.csv'), header=False, index=False)\n",
    "pd.concat([train_y, train_X], axis=1).to_csv(os.path.join(data_dir, 'train.csv'), header=False, index=False)"
   ]
  },
  {
   "cell_type": "code",
   "execution_count": 18,
   "metadata": {},
   "outputs": [],
   "source": [
    "# To save a bit of memory we can set text_X, train_X, val_X, train_y and val_y to None.\n",
    "\n",
    "test_X = train_X = val_X = train_y = val_y = None"
   ]
  },
  {
   "cell_type": "markdown",
   "metadata": {},
   "source": [
    "### Uploading Training / Validation files to S3\n",
    "\n",
    "Amazon's S3 service allows us to store files that can be accessed by both the built-in training models such as the XGBoost model we will be using as well as custom models such as the one we will see a little later.\n",
    "\n",
    "For this and most other tasks we will be doing using SageMaker, there are two methods we could use. The first is to use the low level functionality of SageMaker which requires knowing each of the objects involved in the SageMaker environment. The second is to use the high level functionality in which certain choices have been made on the user's behalf. The low level approach benefits from allowing the user a great deal of flexibility while the high level approach makes development much quicker. For our purposes we will opt to use the high level approach although using the low-level approach is certainly an option.\n",
    "\n",
    "Recall the method `upload_data()` which is a member of the object representing our current SageMaker session. What this method does is upload the data to the default bucket (which is created if it does not exist) into the path described by the key_prefix variable. To see this for yourself, once you have uploaded the data files, go to the S3 console and look to see where the files have been uploaded.\n",
    "\n",
    "For additional resources, see the __[SageMaker API documentation](http://sagemaker.readthedocs.io/en/latest/)__ and in addition the __[SageMaker Developer Guide.](https://docs.aws.amazon.com/sagemaker/latest/dg/)__"
   ]
  },
  {
   "cell_type": "code",
   "execution_count": 19,
   "metadata": {},
   "outputs": [],
   "source": [
    "import sagemaker\n",
    "\n",
    "session = sagemaker.Session() # Store the current SageMaker session\n",
    "\n",
    "# S3 prefix (which folder will we use)\n",
    "prefix = 'sentiment-web-app'\n",
    "\n",
    "test_location = session.upload_data(os.path.join(data_dir, 'test.csv'), key_prefix=prefix)\n",
    "val_location = session.upload_data(os.path.join(data_dir, 'validation.csv'), key_prefix=prefix)\n",
    "train_location = session.upload_data(os.path.join(data_dir, 'train.csv'), key_prefix=prefix)"
   ]
  },
  {
   "cell_type": "markdown",
   "metadata": {},
   "source": [
    "## Step 4: Creating the XGBoost model\n",
    "\n",
    "Now that the data has been uploaded it is time to create the XGBoost model. To begin with, we need to do some setup. At this point it is worth discussing what a model is in SageMaker. It is easiest to think of a model of comprising three different objects in the SageMaker ecosystem, which interact with one another.\n",
    "\n",
    "- Model Artifacts\n",
    "- Training Code (Container)\n",
    "- Inference Code (Container)\n",
    "\n",
    "The Model Artifacts are what you might think of as the actual model itself. For example, if you were building a neural network, the model artifacts would be the weights of the various layers. In our case, for an XGBoost model, the artifacts are the actual trees that are created during training.\n",
    "\n",
    "The other two objects, the training code and the inference code are then used to manipulate the training artifacts. More precisely, the training code uses the training data that is provided and creates the model artifacts, while the inference code uses the model artifacts to make predictions on new data.\n",
    "\n",
    "The way that SageMaker runs the training and inference code is by making use of Docker containers. For now, think of a container as being a way of packaging code up so that dependencies aren't an issue."
   ]
  },
  {
   "cell_type": "code",
   "execution_count": 20,
   "metadata": {},
   "outputs": [],
   "source": [
    "from sagemaker import get_execution_role\n",
    "\n",
    "# Our current execution role is required when creating the model as the training\n",
    "# and inference code will need to access the model artifacts.\n",
    "role = get_execution_role()"
   ]
  },
  {
   "cell_type": "code",
   "execution_count": 22,
   "metadata": {},
   "outputs": [],
   "source": [
    "# We need to retrieve the location of the container which is provided by Amazon for using XGBoost.\n",
    "# As a matter of convenience, the training and inference code both use the same container.\n",
    "from sagemaker.amazon.amazon_estimator import get_image_uri\n",
    "\n",
    "container = get_image_uri(session.boto_region_name, 'xgboost', '0.90-1')"
   ]
  },
  {
   "cell_type": "code",
   "execution_count": 23,
   "metadata": {},
   "outputs": [],
   "source": [
    "# First we create a SageMaker estimator object for our model.\n",
    "xgb = sagemaker.estimator.Estimator(container, # The location of the container we wish to use\n",
    "                                    role,                                    # What is our current IAM Role\n",
    "                                    train_instance_count=1,                  # How many compute instances\n",
    "                                    train_instance_type='ml.m4.xlarge',      # What kind of compute instances\n",
    "                                    output_path='s3://{}/{}/output'.format(session.default_bucket(), prefix),\n",
    "                                    sagemaker_session=session)\n",
    "\n",
    "# And then set the algorithm specific parameters.\n",
    "xgb.set_hyperparameters(max_depth=5,\n",
    "                        eta=0.2,\n",
    "                        gamma=4,\n",
    "                        min_child_weight=6,\n",
    "                        subsample=0.8,\n",
    "                        silent=0,\n",
    "                        objective='binary:logistic',\n",
    "                        early_stopping_rounds=10,\n",
    "                        num_round=500)"
   ]
  },
  {
   "cell_type": "markdown",
   "metadata": {},
   "source": [
    "### Fit the XGBoost model\n",
    "\n",
    "Now that our model has been set up we simply need to attach the training and validation datasets and then ask SageMaker to set up the computation."
   ]
  },
  {
   "cell_type": "code",
   "execution_count": 24,
   "metadata": {},
   "outputs": [],
   "source": [
    "s3_input_train = sagemaker.s3_input(s3_data=train_location, content_type='csv')\n",
    "s3_input_validation = sagemaker.s3_input(s3_data=val_location, content_type='csv')"
   ]
  },
  {
   "cell_type": "code",
   "execution_count": 25,
   "metadata": {},
   "outputs": [
    {
     "name": "stdout",
     "output_type": "stream",
     "text": [
      "2020-04-27 16:49:15 Starting - Starting the training job...\n",
      "2020-04-27 16:49:16 Starting - Launching requested ML instances......\n",
      "2020-04-27 16:50:16 Starting - Preparing the instances for training...\n",
      "2020-04-27 16:51:11 Downloading - Downloading input data...\n",
      "2020-04-27 16:51:30 Training - Downloading the training image...\n",
      "2020-04-27 16:52:03 Training - Training image download completed. Training in progress.\u001b[34mINFO:sagemaker-containers:Imported framework sagemaker_xgboost_container.training\u001b[0m\n",
      "\u001b[34mINFO:sagemaker-containers:Failed to parse hyperparameter objective value binary:logistic to Json.\u001b[0m\n",
      "\u001b[34mReturning the value itself\u001b[0m\n",
      "\u001b[34mINFO:sagemaker-containers:No GPUs detected (normal if no gpus installed)\u001b[0m\n",
      "\u001b[34mINFO:sagemaker_xgboost_container.training:Running XGBoost Sagemaker in algorithm mode\u001b[0m\n",
      "\u001b[34mINFO:root:Determined delimiter of CSV input is ','\u001b[0m\n",
      "\u001b[34mINFO:root:Determined delimiter of CSV input is ','\u001b[0m\n",
      "\u001b[34mINFO:root:Determined delimiter of CSV input is ','\u001b[0m\n",
      "\u001b[34m[16:52:07] 15000x5000 matrix with 75000000 entries loaded from /opt/ml/input/data/train?format=csv&label_column=0&delimiter=,\u001b[0m\n",
      "\u001b[34mINFO:root:Determined delimiter of CSV input is ','\u001b[0m\n",
      "\u001b[34m[16:52:08] 10000x5000 matrix with 50000000 entries loaded from /opt/ml/input/data/validation?format=csv&label_column=0&delimiter=,\u001b[0m\n",
      "\u001b[34mINFO:root:Single node training.\u001b[0m\n",
      "\u001b[34mINFO:root:Train matrix has 15000 rows\u001b[0m\n",
      "\u001b[34mINFO:root:Validation matrix has 10000 rows\u001b[0m\n",
      "\u001b[34m[0]#011train-error:0.306467#011validation-error:0.3145\u001b[0m\n",
      "\u001b[34m[1]#011train-error:0.3006#011validation-error:0.3079\u001b[0m\n",
      "\u001b[34m[2]#011train-error:0.275133#011validation-error:0.2844\u001b[0m\n",
      "\u001b[34m[3]#011train-error:0.2728#011validation-error:0.2859\u001b[0m\n",
      "\u001b[34m[4]#011train-error:0.2596#011validation-error:0.272\u001b[0m\n",
      "\u001b[34m[5]#011train-error:0.2558#011validation-error:0.2678\u001b[0m\n",
      "\u001b[34m[6]#011train-error:0.246467#011validation-error:0.2612\u001b[0m\n",
      "\u001b[34m[7]#011train-error:0.237533#011validation-error:0.2536\u001b[0m\n",
      "\u001b[34m[8]#011train-error:0.23#011validation-error:0.2484\u001b[0m\n",
      "\u001b[34m[9]#011train-error:0.224267#011validation-error:0.2417\u001b[0m\n",
      "\u001b[34m[10]#011train-error:0.2194#011validation-error:0.2366\u001b[0m\n",
      "\u001b[34m[11]#011train-error:0.214467#011validation-error:0.233\u001b[0m\n",
      "\u001b[34m[12]#011train-error:0.212067#011validation-error:0.2305\u001b[0m\n",
      "\u001b[34m[13]#011train-error:0.207#011validation-error:0.2282\u001b[0m\n",
      "\u001b[34m[14]#011train-error:0.2038#011validation-error:0.2251\u001b[0m\n",
      "\u001b[34m[15]#011train-error:0.203533#011validation-error:0.2254\u001b[0m\n",
      "\u001b[34m[16]#011train-error:0.1992#011validation-error:0.2219\u001b[0m\n",
      "\u001b[34m[17]#011train-error:0.1942#011validation-error:0.2203\u001b[0m\n",
      "\u001b[34m[18]#011train-error:0.192467#011validation-error:0.2181\u001b[0m\n",
      "\u001b[34m[19]#011train-error:0.190267#011validation-error:0.2154\u001b[0m\n",
      "\u001b[34m[20]#011train-error:0.1874#011validation-error:0.2136\u001b[0m\n",
      "\u001b[34m[21]#011train-error:0.183867#011validation-error:0.2112\u001b[0m\n",
      "\u001b[34m[22]#011train-error:0.181733#011validation-error:0.2094\u001b[0m\n",
      "\u001b[34m[23]#011train-error:0.179333#011validation-error:0.2081\u001b[0m\n",
      "\u001b[34m[24]#011train-error:0.177#011validation-error:0.2051\u001b[0m\n",
      "\u001b[34m[25]#011train-error:0.1742#011validation-error:0.2046\u001b[0m\n",
      "\u001b[34m[26]#011train-error:0.172#011validation-error:0.2031\u001b[0m\n",
      "\u001b[34m[27]#011train-error:0.171533#011validation-error:0.2\u001b[0m\n",
      "\u001b[34m[28]#011train-error:0.169933#011validation-error:0.1988\u001b[0m\n",
      "\u001b[34m[29]#011train-error:0.168267#011validation-error:0.1976\u001b[0m\n",
      "\u001b[34m[30]#011train-error:0.166467#011validation-error:0.1972\u001b[0m\n",
      "\u001b[34m[31]#011train-error:0.166467#011validation-error:0.1967\u001b[0m\n",
      "\u001b[34m[32]#011train-error:0.164933#011validation-error:0.1953\u001b[0m\n",
      "\u001b[34m[33]#011train-error:0.162067#011validation-error:0.1938\u001b[0m\n",
      "\u001b[34m[34]#011train-error:0.160733#011validation-error:0.1931\u001b[0m\n",
      "\u001b[34m[35]#011train-error:0.159267#011validation-error:0.1921\u001b[0m\n",
      "\u001b[34m[36]#011train-error:0.158867#011validation-error:0.1903\u001b[0m\n",
      "\u001b[34m[37]#011train-error:0.156467#011validation-error:0.1884\u001b[0m\n",
      "\u001b[34m[38]#011train-error:0.1552#011validation-error:0.1873\u001b[0m\n",
      "\u001b[34m[39]#011train-error:0.1528#011validation-error:0.1872\u001b[0m\n",
      "\u001b[34m[40]#011train-error:0.1514#011validation-error:0.1864\u001b[0m\n",
      "\u001b[34m[41]#011train-error:0.149867#011validation-error:0.1852\u001b[0m\n",
      "\u001b[34m[42]#011train-error:0.148867#011validation-error:0.1848\u001b[0m\n",
      "\u001b[34m[43]#011train-error:0.148133#011validation-error:0.1831\u001b[0m\n",
      "\u001b[34m[44]#011train-error:0.148067#011validation-error:0.1809\u001b[0m\n",
      "\u001b[34m[45]#011train-error:0.145667#011validation-error:0.1814\u001b[0m\n",
      "\u001b[34m[46]#011train-error:0.144867#011validation-error:0.1796\u001b[0m\n",
      "\u001b[34m[47]#011train-error:0.1432#011validation-error:0.1789\u001b[0m\n",
      "\u001b[34m[48]#011train-error:0.141267#011validation-error:0.1772\u001b[0m\n",
      "\u001b[34m[49]#011train-error:0.140733#011validation-error:0.177\u001b[0m\n",
      "\u001b[34m[50]#011train-error:0.1388#011validation-error:0.177\u001b[0m\n",
      "\u001b[34m[51]#011train-error:0.1376#011validation-error:0.1767\u001b[0m\n",
      "\u001b[34m[52]#011train-error:0.136#011validation-error:0.1768\u001b[0m\n",
      "\u001b[34m[53]#011train-error:0.1354#011validation-error:0.1756\u001b[0m\n",
      "\u001b[34m[54]#011train-error:0.134#011validation-error:0.1744\u001b[0m\n",
      "\u001b[34m[55]#011train-error:0.133#011validation-error:0.1738\u001b[0m\n",
      "\u001b[34m[56]#011train-error:0.1322#011validation-error:0.1743\u001b[0m\n",
      "\u001b[34m[57]#011train-error:0.1308#011validation-error:0.1746\u001b[0m\n",
      "\u001b[34m[58]#011train-error:0.128067#011validation-error:0.1712\u001b[0m\n",
      "\u001b[34m[59]#011train-error:0.127733#011validation-error:0.1711\u001b[0m\n",
      "\u001b[34m[60]#011train-error:0.126467#011validation-error:0.1709\u001b[0m\n",
      "\u001b[34m[61]#011train-error:0.125333#011validation-error:0.1709\u001b[0m\n",
      "\u001b[34m[62]#011train-error:0.124867#011validation-error:0.1698\u001b[0m\n",
      "\u001b[34m[63]#011train-error:0.124467#011validation-error:0.1687\u001b[0m\n",
      "\u001b[34m[64]#011train-error:0.123467#011validation-error:0.1685\u001b[0m\n",
      "\u001b[34m[65]#011train-error:0.122667#011validation-error:0.1682\u001b[0m\n",
      "\u001b[34m[66]#011train-error:0.122467#011validation-error:0.1669\u001b[0m\n",
      "\u001b[34m[67]#011train-error:0.122467#011validation-error:0.1669\u001b[0m\n",
      "\u001b[34m[68]#011train-error:0.1202#011validation-error:0.1669\u001b[0m\n",
      "\u001b[34m[69]#011train-error:0.120067#011validation-error:0.166\u001b[0m\n",
      "\u001b[34m[70]#011train-error:0.119467#011validation-error:0.1654\u001b[0m\n",
      "\u001b[34m[71]#011train-error:0.1186#011validation-error:0.1647\u001b[0m\n",
      "\u001b[34m[72]#011train-error:0.117867#011validation-error:0.1647\u001b[0m\n",
      "\u001b[34m[73]#011train-error:0.1172#011validation-error:0.1645\u001b[0m\n",
      "\u001b[34m[74]#011train-error:0.116667#011validation-error:0.1647\u001b[0m\n",
      "\u001b[34m[75]#011train-error:0.116267#011validation-error:0.1644\u001b[0m\n",
      "\u001b[34m[76]#011train-error:0.115733#011validation-error:0.1639\u001b[0m\n",
      "\u001b[34m[77]#011train-error:0.114533#011validation-error:0.1635\u001b[0m\n",
      "\u001b[34m[78]#011train-error:0.114133#011validation-error:0.1642\u001b[0m\n",
      "\u001b[34m[79]#011train-error:0.1144#011validation-error:0.1632\u001b[0m\n",
      "\u001b[34m[80]#011train-error:0.114#011validation-error:0.163\u001b[0m\n",
      "\u001b[34m[81]#011train-error:0.114#011validation-error:0.1615\u001b[0m\n",
      "\u001b[34m[82]#011train-error:0.113733#011validation-error:0.1618\u001b[0m\n",
      "\u001b[34m[83]#011train-error:0.112933#011validation-error:0.1616\u001b[0m\n",
      "\u001b[34m[84]#011train-error:0.111667#011validation-error:0.1626\u001b[0m\n",
      "\u001b[34m[85]#011train-error:0.1112#011validation-error:0.1631\u001b[0m\n",
      "\u001b[34m[86]#011train-error:0.110733#011validation-error:0.1621\u001b[0m\n",
      "\u001b[34m[87]#011train-error:0.110533#011validation-error:0.1612\u001b[0m\n",
      "\u001b[34m[88]#011train-error:0.110067#011validation-error:0.1605\u001b[0m\n",
      "\u001b[34m[89]#011train-error:0.109133#011validation-error:0.1603\u001b[0m\n",
      "\u001b[34m[90]#011train-error:0.1084#011validation-error:0.159\u001b[0m\n",
      "\u001b[34m[91]#011train-error:0.107333#011validation-error:0.1594\u001b[0m\n",
      "\u001b[34m[92]#011train-error:0.107067#011validation-error:0.1585\u001b[0m\n",
      "\u001b[34m[93]#011train-error:0.107#011validation-error:0.1586\u001b[0m\n",
      "\u001b[34m[94]#011train-error:0.1068#011validation-error:0.1576\u001b[0m\n",
      "\u001b[34m[95]#011train-error:0.105733#011validation-error:0.1582\u001b[0m\n",
      "\u001b[34m[96]#011train-error:0.105333#011validation-error:0.1584\u001b[0m\n",
      "\u001b[34m[97]#011train-error:0.104667#011validation-error:0.1581\u001b[0m\n",
      "\u001b[34m[98]#011train-error:0.104467#011validation-error:0.1571\u001b[0m\n",
      "\u001b[34m[99]#011train-error:0.104#011validation-error:0.1576\u001b[0m\n",
      "\u001b[34m[100]#011train-error:0.104333#011validation-error:0.157\u001b[0m\n",
      "\u001b[34m[101]#011train-error:0.103933#011validation-error:0.1572\u001b[0m\n",
      "\u001b[34m[102]#011train-error:0.102733#011validation-error:0.1572\u001b[0m\n",
      "\u001b[34m[103]#011train-error:0.103733#011validation-error:0.1567\u001b[0m\n",
      "\u001b[34m[104]#011train-error:0.1022#011validation-error:0.155\u001b[0m\n",
      "\u001b[34m[105]#011train-error:0.1012#011validation-error:0.154\u001b[0m\n",
      "\u001b[34m[106]#011train-error:0.100533#011validation-error:0.1545\u001b[0m\n",
      "\u001b[34m[107]#011train-error:0.099533#011validation-error:0.1545\u001b[0m\n"
     ]
    },
    {
     "name": "stdout",
     "output_type": "stream",
     "text": [
      "\u001b[34m[108]#011train-error:0.0982#011validation-error:0.1531\u001b[0m\n",
      "\u001b[34m[109]#011train-error:0.097733#011validation-error:0.1529\u001b[0m\n",
      "\u001b[34m[110]#011train-error:0.097267#011validation-error:0.1529\u001b[0m\n",
      "\u001b[34m[111]#011train-error:0.0972#011validation-error:0.1527\u001b[0m\n",
      "\u001b[34m[112]#011train-error:0.096867#011validation-error:0.1527\u001b[0m\n",
      "\u001b[34m[113]#011train-error:0.095933#011validation-error:0.1516\u001b[0m\n",
      "\u001b[34m[114]#011train-error:0.095533#011validation-error:0.152\u001b[0m\n",
      "\u001b[34m[115]#011train-error:0.095733#011validation-error:0.1522\u001b[0m\n",
      "\u001b[34m[116]#011train-error:0.096267#011validation-error:0.1515\u001b[0m\n",
      "\u001b[34m[117]#011train-error:0.0962#011validation-error:0.1512\u001b[0m\n",
      "\u001b[34m[118]#011train-error:0.095733#011validation-error:0.1506\u001b[0m\n",
      "\u001b[34m[119]#011train-error:0.095333#011validation-error:0.1502\u001b[0m\n",
      "\u001b[34m[120]#011train-error:0.093733#011validation-error:0.1499\u001b[0m\n",
      "\u001b[34m[121]#011train-error:0.093267#011validation-error:0.1496\u001b[0m\n",
      "\u001b[34m[122]#011train-error:0.093067#011validation-error:0.1501\u001b[0m\n",
      "\u001b[34m[123]#011train-error:0.092733#011validation-error:0.1505\u001b[0m\n",
      "\u001b[34m[124]#011train-error:0.092533#011validation-error:0.1496\u001b[0m\n",
      "\u001b[34m[125]#011train-error:0.092#011validation-error:0.1491\u001b[0m\n",
      "\u001b[34m[126]#011train-error:0.0918#011validation-error:0.1486\u001b[0m\n",
      "\u001b[34m[127]#011train-error:0.0914#011validation-error:0.1483\u001b[0m\n",
      "\u001b[34m[128]#011train-error:0.0904#011validation-error:0.1471\u001b[0m\n",
      "\u001b[34m[129]#011train-error:0.090067#011validation-error:0.147\u001b[0m\n",
      "\u001b[34m[130]#011train-error:0.0896#011validation-error:0.147\u001b[0m\n",
      "\u001b[34m[131]#011train-error:0.088867#011validation-error:0.1463\u001b[0m\n",
      "\u001b[34m[132]#011train-error:0.088333#011validation-error:0.1463\u001b[0m\n",
      "\u001b[34m[133]#011train-error:0.088#011validation-error:0.1459\u001b[0m\n",
      "\u001b[34m[134]#011train-error:0.087733#011validation-error:0.1458\u001b[0m\n",
      "\u001b[34m[135]#011train-error:0.087533#011validation-error:0.1457\u001b[0m\n",
      "\u001b[34m[136]#011train-error:0.087267#011validation-error:0.1459\u001b[0m\n",
      "\u001b[34m[137]#011train-error:0.088#011validation-error:0.1464\u001b[0m\n",
      "\u001b[34m[138]#011train-error:0.087067#011validation-error:0.1463\u001b[0m\n",
      "\u001b[34m[139]#011train-error:0.087267#011validation-error:0.1457\u001b[0m\n",
      "\u001b[34m[140]#011train-error:0.086667#011validation-error:0.1449\u001b[0m\n",
      "\u001b[34m[141]#011train-error:0.087067#011validation-error:0.1454\u001b[0m\n",
      "\u001b[34m[142]#011train-error:0.086467#011validation-error:0.1453\u001b[0m\n",
      "\u001b[34m[143]#011train-error:0.0864#011validation-error:0.1453\u001b[0m\n",
      "\u001b[34m[144]#011train-error:0.086267#011validation-error:0.1448\u001b[0m\n",
      "\u001b[34m[145]#011train-error:0.086#011validation-error:0.1444\u001b[0m\n",
      "\u001b[34m[146]#011train-error:0.085133#011validation-error:0.1451\u001b[0m\n",
      "\u001b[34m[147]#011train-error:0.085#011validation-error:0.1448\u001b[0m\n",
      "\u001b[34m[148]#011train-error:0.085067#011validation-error:0.1452\u001b[0m\n",
      "\u001b[34m[149]#011train-error:0.0844#011validation-error:0.1446\u001b[0m\n",
      "\u001b[34m[150]#011train-error:0.085067#011validation-error:0.1446\u001b[0m\n",
      "\u001b[34m[151]#011train-error:0.084067#011validation-error:0.1446\u001b[0m\n",
      "\u001b[34m[152]#011train-error:0.083067#011validation-error:0.1446\u001b[0m\n",
      "\u001b[34m[153]#011train-error:0.082933#011validation-error:0.1442\u001b[0m\n",
      "\u001b[34m[154]#011train-error:0.083#011validation-error:0.1441\u001b[0m\n",
      "\u001b[34m[155]#011train-error:0.082467#011validation-error:0.1443\u001b[0m\n",
      "\u001b[34m[156]#011train-error:0.082467#011validation-error:0.1447\u001b[0m\n",
      "\u001b[34m[157]#011train-error:0.082733#011validation-error:0.1438\u001b[0m\n",
      "\u001b[34m[158]#011train-error:0.082267#011validation-error:0.1439\u001b[0m\n",
      "\u001b[34m[159]#011train-error:0.082#011validation-error:0.1434\u001b[0m\n",
      "\u001b[34m[160]#011train-error:0.081067#011validation-error:0.1436\u001b[0m\n",
      "\u001b[34m[161]#011train-error:0.0806#011validation-error:0.1436\u001b[0m\n",
      "\u001b[34m[162]#011train-error:0.080067#011validation-error:0.1437\u001b[0m\n",
      "\u001b[34m[163]#011train-error:0.079867#011validation-error:0.1439\u001b[0m\n",
      "\u001b[34m[164]#011train-error:0.079733#011validation-error:0.1437\u001b[0m\n",
      "\u001b[34m[165]#011train-error:0.0796#011validation-error:0.1438\u001b[0m\n",
      "\u001b[34m[166]#011train-error:0.0794#011validation-error:0.1438\u001b[0m\n",
      "\u001b[34m[167]#011train-error:0.078667#011validation-error:0.1421\u001b[0m\n",
      "\u001b[34m[168]#011train-error:0.078667#011validation-error:0.1428\u001b[0m\n",
      "\u001b[34m[169]#011train-error:0.078467#011validation-error:0.1423\u001b[0m\n",
      "\u001b[34m[170]#011train-error:0.078333#011validation-error:0.1425\u001b[0m\n",
      "\u001b[34m[171]#011train-error:0.077933#011validation-error:0.1417\u001b[0m\n",
      "\u001b[34m[172]#011train-error:0.0772#011validation-error:0.1419\u001b[0m\n",
      "\u001b[34m[173]#011train-error:0.077267#011validation-error:0.1421\u001b[0m\n",
      "\u001b[34m[174]#011train-error:0.077267#011validation-error:0.142\u001b[0m\n",
      "\u001b[34m[175]#011train-error:0.0776#011validation-error:0.1419\u001b[0m\n",
      "\u001b[34m[176]#011train-error:0.077267#011validation-error:0.1421\u001b[0m\n",
      "\u001b[34m[177]#011train-error:0.077333#011validation-error:0.1431\u001b[0m\n",
      "\u001b[34m[178]#011train-error:0.0772#011validation-error:0.1427\u001b[0m\n",
      "\u001b[34m[179]#011train-error:0.076933#011validation-error:0.1425\u001b[0m\n",
      "\u001b[34m[180]#011train-error:0.076533#011validation-error:0.1425\u001b[0m\n",
      "\u001b[34m[181]#011train-error:0.076#011validation-error:0.1416\u001b[0m\n",
      "\u001b[34m[182]#011train-error:0.0756#011validation-error:0.1416\u001b[0m\n",
      "\u001b[34m[183]#011train-error:0.075467#011validation-error:0.1415\u001b[0m\n",
      "\u001b[34m[184]#011train-error:0.0756#011validation-error:0.1417\u001b[0m\n",
      "\u001b[34m[185]#011train-error:0.0756#011validation-error:0.1411\u001b[0m\n",
      "\u001b[34m[186]#011train-error:0.0756#011validation-error:0.1408\u001b[0m\n",
      "\u001b[34m[187]#011train-error:0.0746#011validation-error:0.1413\u001b[0m\n",
      "\u001b[34m[188]#011train-error:0.0746#011validation-error:0.141\u001b[0m\n",
      "\u001b[34m[189]#011train-error:0.074733#011validation-error:0.1407\u001b[0m\n",
      "\u001b[34m[190]#011train-error:0.073667#011validation-error:0.1406\u001b[0m\n",
      "\u001b[34m[191]#011train-error:0.073467#011validation-error:0.14\u001b[0m\n",
      "\u001b[34m[192]#011train-error:0.073667#011validation-error:0.1398\u001b[0m\n",
      "\u001b[34m[193]#011train-error:0.0738#011validation-error:0.1397\u001b[0m\n",
      "\u001b[34m[194]#011train-error:0.0736#011validation-error:0.1393\u001b[0m\n",
      "\u001b[34m[195]#011train-error:0.073#011validation-error:0.1393\u001b[0m\n",
      "\u001b[34m[196]#011train-error:0.072867#011validation-error:0.1398\u001b[0m\n",
      "\u001b[34m[197]#011train-error:0.0724#011validation-error:0.1401\u001b[0m\n",
      "\u001b[34m[198]#011train-error:0.072133#011validation-error:0.1399\u001b[0m\n",
      "\u001b[34m[199]#011train-error:0.0718#011validation-error:0.1399\u001b[0m\n",
      "\u001b[34m[200]#011train-error:0.071333#011validation-error:0.1399\u001b[0m\n",
      "\u001b[34m[201]#011train-error:0.0712#011validation-error:0.1405\u001b[0m\n",
      "\u001b[34m[202]#011train-error:0.071267#011validation-error:0.1403\u001b[0m\n",
      "\u001b[34m[203]#011train-error:0.070667#011validation-error:0.1402\u001b[0m\n",
      "\u001b[34m[204]#011train-error:0.0706#011validation-error:0.1401\u001b[0m\n",
      "\n",
      "2020-04-27 16:56:02 Uploading - Uploading generated training model\n",
      "2020-04-27 16:56:02 Completed - Training job completed\n",
      "Training seconds: 291\n",
      "Billable seconds: 291\n"
     ]
    }
   ],
   "source": [
    "xgb.fit({'train': s3_input_train, 'validation': s3_input_validation})"
   ]
  },
  {
   "cell_type": "markdown",
   "metadata": {},
   "source": [
    "## Step 5: Testing the model\n",
    "\n",
    "Now that we've fit our XGBoost model, it's time to see how well it performs. To do this we will use SageMakers Batch Transform functionality. Batch Transform is a convenient way to perform inference on a large dataset in a way that is not realtime. That is, we don't necessarily need to use our model's results immediately and instead we can perform inference on a large number of samples. An example of this in industry might be performing an end of month report. This method of inference can also be useful to us as it means that we can perform inference on our entire test set. \n",
    "\n",
    "To perform a Batch Transformation we need to first create a transformer objects from our trained estimator object."
   ]
  },
  {
   "cell_type": "code",
   "execution_count": 26,
   "metadata": {},
   "outputs": [],
   "source": [
    "xgb_transformer = xgb.transformer(instance_count = 1, instance_type = 'ml.m4.xlarge')"
   ]
  },
  {
   "cell_type": "markdown",
   "metadata": {},
   "source": [
    "Next we actually perform the transform job. When doing so we need to make sure to specify the type of data we are sending so that it is serialized correctly in the background. In our case we are providing our model with csv data so we specify `text/csv`. Also, if the test data that we have provided is too large to process all at once then we need to specify how the data file should be split up. Since each line is a single entry in our data set we tell SageMaker that it can split the input on each line."
   ]
  },
  {
   "cell_type": "code",
   "execution_count": 27,
   "metadata": {},
   "outputs": [],
   "source": [
    "xgb_transformer.transform(test_location, content_type='text/csv', split_type='Line')"
   ]
  },
  {
   "cell_type": "markdown",
   "metadata": {},
   "source": [
    "Currently the transform job is running but it is doing so in the background. Since we wish to wait until the transform job is done and we would like a bit of feedback we can run the `wait()` method."
   ]
  },
  {
   "cell_type": "code",
   "execution_count": 28,
   "metadata": {},
   "outputs": [
    {
     "name": "stdout",
     "output_type": "stream",
     "text": [
      "..................\u001b[34m[2020-04-27 17:01:57 +0000] [14] [INFO] Starting gunicorn 19.10.0\u001b[0m\n",
      "\u001b[34m[2020-04-27 17:01:57 +0000] [14] [INFO] Listening at: unix:/tmp/gunicorn.sock (14)\u001b[0m\n",
      "\u001b[34m[2020-04-27 17:01:57 +0000] [14] [INFO] Using worker: gevent\u001b[0m\n",
      "\u001b[34m[2020-04-27 17:01:57 +0000] [21] [INFO] Booting worker with pid: 21\u001b[0m\n",
      "\u001b[34m[2020-04-27 17:01:57 +0000] [22] [INFO] Booting worker with pid: 22\u001b[0m\n",
      "\u001b[34m[2020-04-27 17:01:57 +0000] [23] [INFO] Booting worker with pid: 23\u001b[0m\n",
      "\u001b[34m[2020-04-27 17:01:57 +0000] [30] [INFO] Booting worker with pid: 30\u001b[0m\n",
      "\u001b[34m[2020-04-27:17:02:18:INFO] No GPUs detected (normal if no gpus installed)\u001b[0m\n",
      "\u001b[34m169.254.255.130 - - [27/Apr/2020:17:02:18 +0000] \"GET /ping HTTP/1.1\" 200 0 \"-\" \"Go-http-client/1.1\"\u001b[0m\n",
      "\u001b[34m169.254.255.130 - - [27/Apr/2020:17:02:18 +0000] \"GET /execution-parameters HTTP/1.1\" 200 84 \"-\" \"Go-http-client/1.1\"\u001b[0m\n",
      "\u001b[35m[2020-04-27:17:02:18:INFO] No GPUs detected (normal if no gpus installed)\u001b[0m\n",
      "\u001b[35m169.254.255.130 - - [27/Apr/2020:17:02:18 +0000] \"GET /ping HTTP/1.1\" 200 0 \"-\" \"Go-http-client/1.1\"\u001b[0m\n",
      "\u001b[35m169.254.255.130 - - [27/Apr/2020:17:02:18 +0000] \"GET /execution-parameters HTTP/1.1\" 200 84 \"-\" \"Go-http-client/1.1\"\u001b[0m\n",
      "\u001b[32m2020-04-27T17:02:18.468:[sagemaker logs]: MaxConcurrentTransforms=4, MaxPayloadInMB=6, BatchStrategy=MULTI_RECORD\u001b[0m\n",
      "\u001b[34m[2020-04-27:17:02:21:INFO] No GPUs detected (normal if no gpus installed)\u001b[0m\n",
      "\u001b[34m[2020-04-27:17:02:21:INFO] Determined delimiter of CSV input is ','\u001b[0m\n",
      "\u001b[34m[2020-04-27:17:02:21:INFO] No GPUs detected (normal if no gpus installed)\u001b[0m\n",
      "\u001b[34m[2020-04-27:17:02:21:INFO] Determined delimiter of CSV input is ','\u001b[0m\n",
      "\u001b[34m[2020-04-27:17:02:21:INFO] No GPUs detected (normal if no gpus installed)\u001b[0m\n",
      "\u001b[35m[2020-04-27:17:02:21:INFO] No GPUs detected (normal if no gpus installed)\u001b[0m\n",
      "\u001b[35m[2020-04-27:17:02:21:INFO] Determined delimiter of CSV input is ','\u001b[0m\n",
      "\u001b[35m[2020-04-27:17:02:21:INFO] No GPUs detected (normal if no gpus installed)\u001b[0m\n",
      "\u001b[35m[2020-04-27:17:02:21:INFO] Determined delimiter of CSV input is ','\u001b[0m\n",
      "\u001b[35m[2020-04-27:17:02:21:INFO] No GPUs detected (normal if no gpus installed)\u001b[0m\n",
      "\u001b[34m[2020-04-27:17:02:22:INFO] Determined delimiter of CSV input is ','\u001b[0m\n",
      "\u001b[34m[2020-04-27:17:02:22:INFO] Determined delimiter of CSV input is ','\u001b[0m\n",
      "\u001b[35m[2020-04-27:17:02:22:INFO] Determined delimiter of CSV input is ','\u001b[0m\n",
      "\u001b[35m[2020-04-27:17:02:22:INFO] Determined delimiter of CSV input is ','\u001b[0m\n",
      "\u001b[34m169.254.255.130 - - [27/Apr/2020:17:02:25 +0000] \"POST /invocations HTTP/1.1\" 200 12202 \"-\" \"Go-http-client/1.1\"\u001b[0m\n",
      "\u001b[34m169.254.255.130 - - [27/Apr/2020:17:02:25 +0000] \"POST /invocations HTTP/1.1\" 200 12220 \"-\" \"Go-http-client/1.1\"\u001b[0m\n",
      "\u001b[35m169.254.255.130 - - [27/Apr/2020:17:02:25 +0000] \"POST /invocations HTTP/1.1\" 200 12202 \"-\" \"Go-http-client/1.1\"\u001b[0m\n",
      "\u001b[35m169.254.255.130 - - [27/Apr/2020:17:02:25 +0000] \"POST /invocations HTTP/1.1\" 200 12220 \"-\" \"Go-http-client/1.1\"\u001b[0m\n",
      "\u001b[34m169.254.255.130 - - [27/Apr/2020:17:02:25 +0000] \"POST /invocations HTTP/1.1\" 200 12212 \"-\" \"Go-http-client/1.1\"\u001b[0m\n",
      "\u001b[34m[2020-04-27:17:02:25:INFO] Determined delimiter of CSV input is ','\u001b[0m\n",
      "\u001b[34m169.254.255.130 - - [27/Apr/2020:17:02:25 +0000] \"POST /invocations HTTP/1.1\" 200 12226 \"-\" \"Go-http-client/1.1\"\u001b[0m\n",
      "\u001b[34m[2020-04-27:17:02:25:INFO] Determined delimiter of CSV input is ','\u001b[0m\n",
      "\u001b[34m[2020-04-27:17:02:25:INFO] Determined delimiter of CSV input is ','\u001b[0m\n",
      "\u001b[34m[2020-04-27:17:02:25:INFO] Determined delimiter of CSV input is ','\u001b[0m\n",
      "\u001b[35m169.254.255.130 - - [27/Apr/2020:17:02:25 +0000] \"POST /invocations HTTP/1.1\" 200 12212 \"-\" \"Go-http-client/1.1\"\u001b[0m\n",
      "\u001b[35m[2020-04-27:17:02:25:INFO] Determined delimiter of CSV input is ','\u001b[0m\n",
      "\u001b[35m169.254.255.130 - - [27/Apr/2020:17:02:25 +0000] \"POST /invocations HTTP/1.1\" 200 12226 \"-\" \"Go-http-client/1.1\"\u001b[0m\n",
      "\u001b[35m[2020-04-27:17:02:25:INFO] Determined delimiter of CSV input is ','\u001b[0m\n",
      "\u001b[35m[2020-04-27:17:02:25:INFO] Determined delimiter of CSV input is ','\u001b[0m\n",
      "\u001b[35m[2020-04-27:17:02:25:INFO] Determined delimiter of CSV input is ','\u001b[0m\n",
      "\u001b[34m169.254.255.130 - - [27/Apr/2020:17:02:28 +0000] \"POST /invocations HTTP/1.1\" 200 12248 \"-\" \"Go-http-client/1.1\"\u001b[0m\n",
      "\u001b[35m169.254.255.130 - - [27/Apr/2020:17:02:28 +0000] \"POST /invocations HTTP/1.1\" 200 12248 \"-\" \"Go-http-client/1.1\"\u001b[0m\n",
      "\u001b[34m169.254.255.130 - - [27/Apr/2020:17:02:28 +0000] \"POST /invocations HTTP/1.1\" 200 12214 \"-\" \"Go-http-client/1.1\"\u001b[0m\n",
      "\u001b[34m[2020-04-27:17:02:29:INFO] Determined delimiter of CSV input is ','\u001b[0m\n",
      "\u001b[34m[2020-04-27:17:02:29:INFO] Determined delimiter of CSV input is ','\u001b[0m\n",
      "\u001b[34m169.254.255.130 - - [27/Apr/2020:17:02:29 +0000] \"POST /invocations HTTP/1.1\" 200 12173 \"-\" \"Go-http-client/1.1\"\u001b[0m\n",
      "\u001b[35m169.254.255.130 - - [27/Apr/2020:17:02:28 +0000] \"POST /invocations HTTP/1.1\" 200 12214 \"-\" \"Go-http-client/1.1\"\u001b[0m\n",
      "\u001b[35m[2020-04-27:17:02:29:INFO] Determined delimiter of CSV input is ','\u001b[0m\n",
      "\u001b[35m[2020-04-27:17:02:29:INFO] Determined delimiter of CSV input is ','\u001b[0m\n",
      "\u001b[35m169.254.255.130 - - [27/Apr/2020:17:02:29 +0000] \"POST /invocations HTTP/1.1\" 200 12173 \"-\" \"Go-http-client/1.1\"\u001b[0m\n",
      "\u001b[34m169.254.255.130 - - [27/Apr/2020:17:02:32 +0000] \"POST /invocations HTTP/1.1\" 200 12194 \"-\" \"Go-http-client/1.1\"\u001b[0m\n",
      "\u001b[35m169.254.255.130 - - [27/Apr/2020:17:02:32 +0000] \"POST /invocations HTTP/1.1\" 200 12194 \"-\" \"Go-http-client/1.1\"\u001b[0m\n",
      "\u001b[34m[2020-04-27:17:02:32:INFO] Determined delimiter of CSV input is ','\u001b[0m\n",
      "\u001b[34m[2020-04-27:17:02:32:INFO] Determined delimiter of CSV input is ','\u001b[0m\n",
      "\u001b[34m169.254.255.130 - - [27/Apr/2020:17:02:32 +0000] \"POST /invocations HTTP/1.1\" 200 12192 \"-\" \"Go-http-client/1.1\"\u001b[0m\n",
      "\u001b[34m169.254.255.130 - - [27/Apr/2020:17:02:32 +0000] \"POST /invocations HTTP/1.1\" 200 12236 \"-\" \"Go-http-client/1.1\"\u001b[0m\n",
      "\u001b[34m[2020-04-27:17:02:32:INFO] Determined delimiter of CSV input is ','\u001b[0m\n",
      "\u001b[34m[2020-04-27:17:02:33:INFO] Determined delimiter of CSV input is ','\u001b[0m\n",
      "\u001b[35m[2020-04-27:17:02:32:INFO] Determined delimiter of CSV input is ','\u001b[0m\n",
      "\u001b[35m[2020-04-27:17:02:32:INFO] Determined delimiter of CSV input is ','\u001b[0m\n",
      "\u001b[35m169.254.255.130 - - [27/Apr/2020:17:02:32 +0000] \"POST /invocations HTTP/1.1\" 200 12192 \"-\" \"Go-http-client/1.1\"\u001b[0m\n",
      "\u001b[35m169.254.255.130 - - [27/Apr/2020:17:02:32 +0000] \"POST /invocations HTTP/1.1\" 200 12236 \"-\" \"Go-http-client/1.1\"\u001b[0m\n",
      "\u001b[35m[2020-04-27:17:02:32:INFO] Determined delimiter of CSV input is ','\u001b[0m\n",
      "\u001b[35m[2020-04-27:17:02:33:INFO] Determined delimiter of CSV input is ','\u001b[0m\n",
      "\u001b[34m[2020-04-27:17:02:36:INFO] Determined delimiter of CSV input is ','\u001b[0m\n",
      "\u001b[34m[2020-04-27:17:02:36:INFO] Determined delimiter of CSV input is ','\u001b[0m\n",
      "\u001b[35m[2020-04-27:17:02:36:INFO] Determined delimiter of CSV input is ','\u001b[0m\n",
      "\u001b[35m[2020-04-27:17:02:36:INFO] Determined delimiter of CSV input is ','\u001b[0m\n",
      "\u001b[34m169.254.255.130 - - [27/Apr/2020:17:02:39 +0000] \"POST /invocations HTTP/1.1\" 200 12221 \"-\" \"Go-http-client/1.1\"\u001b[0m\n",
      "\u001b[35m169.254.255.130 - - [27/Apr/2020:17:02:39 +0000] \"POST /invocations HTTP/1.1\" 200 12221 \"-\" \"Go-http-client/1.1\"\u001b[0m\n",
      "\u001b[34m[2020-04-27:17:02:39:INFO] Determined delimiter of CSV input is ','\u001b[0m\n",
      "\u001b[34m169.254.255.130 - - [27/Apr/2020:17:02:39 +0000] \"POST /invocations HTTP/1.1\" 200 12219 \"-\" \"Go-http-client/1.1\"\u001b[0m\n",
      "\u001b[34m[2020-04-27:17:02:39:INFO] Determined delimiter of CSV input is ','\u001b[0m\n",
      "\u001b[34m169.254.255.130 - - [27/Apr/2020:17:02:39 +0000] \"POST /invocations HTTP/1.1\" 200 12224 \"-\" \"Go-http-client/1.1\"\u001b[0m\n",
      "\u001b[34m169.254.255.130 - - [27/Apr/2020:17:02:39 +0000] \"POST /invocations HTTP/1.1\" 200 12227 \"-\" \"Go-http-client/1.1\"\u001b[0m\n",
      "\u001b[34m[2020-04-27:17:02:39:INFO] Determined delimiter of CSV input is ','\u001b[0m\n",
      "\u001b[34m[2020-04-27:17:02:40:INFO] Determined delimiter of CSV input is ','\u001b[0m\n",
      "\u001b[35m[2020-04-27:17:02:39:INFO] Determined delimiter of CSV input is ','\u001b[0m\n",
      "\u001b[35m169.254.255.130 - - [27/Apr/2020:17:02:39 +0000] \"POST /invocations HTTP/1.1\" 200 12219 \"-\" \"Go-http-client/1.1\"\u001b[0m\n",
      "\u001b[35m[2020-04-27:17:02:39:INFO] Determined delimiter of CSV input is ','\u001b[0m\n",
      "\u001b[35m169.254.255.130 - - [27/Apr/2020:17:02:39 +0000] \"POST /invocations HTTP/1.1\" 200 12224 \"-\" \"Go-http-client/1.1\"\u001b[0m\n",
      "\u001b[35m169.254.255.130 - - [27/Apr/2020:17:02:39 +0000] \"POST /invocations HTTP/1.1\" 200 12227 \"-\" \"Go-http-client/1.1\"\u001b[0m\n",
      "\u001b[35m[2020-04-27:17:02:39:INFO] Determined delimiter of CSV input is ','\u001b[0m\n",
      "\u001b[35m[2020-04-27:17:02:40:INFO] Determined delimiter of CSV input is ','\u001b[0m\n",
      "\u001b[34m169.254.255.130 - - [27/Apr/2020:17:02:42 +0000] \"POST /invocations HTTP/1.1\" 200 12209 \"-\" \"Go-http-client/1.1\"\u001b[0m\n",
      "\u001b[34m[2020-04-27:17:02:43:INFO] Determined delimiter of CSV input is ','\u001b[0m\n",
      "\u001b[34m169.254.255.130 - - [27/Apr/2020:17:02:43 +0000] \"POST /invocations HTTP/1.1\" 200 12203 \"-\" \"Go-http-client/1.1\"\u001b[0m\n",
      "\u001b[34m169.254.255.130 - - [27/Apr/2020:17:02:43 +0000] \"POST /invocations HTTP/1.1\" 200 12221 \"-\" \"Go-http-client/1.1\"\u001b[0m\n",
      "\u001b[34m[2020-04-27:17:02:43:INFO] Determined delimiter of CSV input is ','\u001b[0m\n",
      "\u001b[35m169.254.255.130 - - [27/Apr/2020:17:02:42 +0000] \"POST /invocations HTTP/1.1\" 200 12209 \"-\" \"Go-http-client/1.1\"\u001b[0m\n",
      "\u001b[35m[2020-04-27:17:02:43:INFO] Determined delimiter of CSV input is ','\u001b[0m\n",
      "\u001b[35m169.254.255.130 - - [27/Apr/2020:17:02:43 +0000] \"POST /invocations HTTP/1.1\" 200 12203 \"-\" \"Go-http-client/1.1\"\u001b[0m\n",
      "\u001b[35m169.254.255.130 - - [27/Apr/2020:17:02:43 +0000] \"POST /invocations HTTP/1.1\" 200 12221 \"-\" \"Go-http-client/1.1\"\u001b[0m\n",
      "\u001b[35m[2020-04-27:17:02:43:INFO] Determined delimiter of CSV input is ','\u001b[0m\n",
      "\u001b[34m169.254.255.130 - - [27/Apr/2020:17:02:43 +0000] \"POST /invocations HTTP/1.1\" 200 12192 \"-\" \"Go-http-client/1.1\"\u001b[0m\n",
      "\u001b[34m[2020-04-27:17:02:43:INFO] Determined delimiter of CSV input is ','\u001b[0m\n",
      "\u001b[34m[2020-04-27:17:02:43:INFO] Determined delimiter of CSV input is ','\u001b[0m\n",
      "\u001b[35m169.254.255.130 - - [27/Apr/2020:17:02:43 +0000] \"POST /invocations HTTP/1.1\" 200 12192 \"-\" \"Go-http-client/1.1\"\u001b[0m\n",
      "\u001b[35m[2020-04-27:17:02:43:INFO] Determined delimiter of CSV input is ','\u001b[0m\n",
      "\u001b[35m[2020-04-27:17:02:43:INFO] Determined delimiter of CSV input is ','\u001b[0m\n",
      "\u001b[34m169.254.255.130 - - [27/Apr/2020:17:02:46 +0000] \"POST /invocations HTTP/1.1\" 200 12212 \"-\" \"Go-http-client/1.1\"\u001b[0m\n",
      "\u001b[35m169.254.255.130 - - [27/Apr/2020:17:02:46 +0000] \"POST /invocations HTTP/1.1\" 200 12212 \"-\" \"Go-http-client/1.1\"\u001b[0m\n",
      "\u001b[34m[2020-04-27:17:02:46:INFO] Determined delimiter of CSV input is ','\u001b[0m\n",
      "\u001b[34m169.254.255.130 - - [27/Apr/2020:17:02:46 +0000] \"POST /invocations HTTP/1.1\" 200 12223 \"-\" \"Go-http-client/1.1\"\u001b[0m\n",
      "\u001b[34m169.254.255.130 - - [27/Apr/2020:17:02:46 +0000] \"POST /invocations HTTP/1.1\" 200 12235 \"-\" \"Go-http-client/1.1\"\u001b[0m\n",
      "\u001b[34m[2020-04-27:17:02:46:INFO] Determined delimiter of CSV input is ','\u001b[0m\n",
      "\u001b[34m169.254.255.130 - - [27/Apr/2020:17:02:46 +0000] \"POST /invocations HTTP/1.1\" 200 12188 \"-\" \"Go-http-client/1.1\"\u001b[0m\n",
      "\u001b[34m[2020-04-27:17:02:46:INFO] Determined delimiter of CSV input is ','\u001b[0m\n",
      "\u001b[34m[2020-04-27:17:02:47:INFO] Determined delimiter of CSV input is ','\u001b[0m\n",
      "\u001b[35m[2020-04-27:17:02:46:INFO] Determined delimiter of CSV input is ','\u001b[0m\n",
      "\u001b[35m169.254.255.130 - - [27/Apr/2020:17:02:46 +0000] \"POST /invocations HTTP/1.1\" 200 12223 \"-\" \"Go-http-client/1.1\"\u001b[0m\n",
      "\u001b[35m169.254.255.130 - - [27/Apr/2020:17:02:46 +0000] \"POST /invocations HTTP/1.1\" 200 12235 \"-\" \"Go-http-client/1.1\"\u001b[0m\n",
      "\u001b[35m[2020-04-27:17:02:46:INFO] Determined delimiter of CSV input is ','\u001b[0m\n",
      "\u001b[35m169.254.255.130 - - [27/Apr/2020:17:02:46 +0000] \"POST /invocations HTTP/1.1\" 200 12188 \"-\" \"Go-http-client/1.1\"\u001b[0m\n",
      "\u001b[35m[2020-04-27:17:02:46:INFO] Determined delimiter of CSV input is ','\u001b[0m\n",
      "\u001b[35m[2020-04-27:17:02:47:INFO] Determined delimiter of CSV input is ','\u001b[0m\n"
     ]
    },
    {
     "name": "stdout",
     "output_type": "stream",
     "text": [
      "\u001b[34m[2020-04-27:17:02:50:INFO] Determined delimiter of CSV input is ','\u001b[0m\n",
      "\u001b[35m[2020-04-27:17:02:50:INFO] Determined delimiter of CSV input is ','\u001b[0m\n",
      "\u001b[34m169.254.255.130 - - [27/Apr/2020:17:02:53 +0000] \"POST /invocations HTTP/1.1\" 200 12214 \"-\" \"Go-http-client/1.1\"\u001b[0m\n",
      "\u001b[35m169.254.255.130 - - [27/Apr/2020:17:02:53 +0000] \"POST /invocations HTTP/1.1\" 200 12214 \"-\" \"Go-http-client/1.1\"\u001b[0m\n",
      "\u001b[34m[2020-04-27:17:02:53:INFO] Determined delimiter of CSV input is ','\u001b[0m\n",
      "\u001b[34m169.254.255.130 - - [27/Apr/2020:17:02:53 +0000] \"POST /invocations HTTP/1.1\" 200 12184 \"-\" \"Go-http-client/1.1\"\u001b[0m\n",
      "\u001b[34m169.254.255.130 - - [27/Apr/2020:17:02:53 +0000] \"POST /invocations HTTP/1.1\" 200 12235 \"-\" \"Go-http-client/1.1\"\u001b[0m\n",
      "\u001b[34m169.254.255.130 - - [27/Apr/2020:17:02:53 +0000] \"POST /invocations HTTP/1.1\" 200 12212 \"-\" \"Go-http-client/1.1\"\u001b[0m\n",
      "\u001b[34m[2020-04-27:17:02:53:INFO] Determined delimiter of CSV input is ','\u001b[0m\n",
      "\u001b[34m[2020-04-27:17:02:53:INFO] Determined delimiter of CSV input is ','\u001b[0m\n",
      "\u001b[34m[2020-04-27:17:02:53:INFO] Determined delimiter of CSV input is ','\u001b[0m\n",
      "\u001b[35m[2020-04-27:17:02:53:INFO] Determined delimiter of CSV input is ','\u001b[0m\n",
      "\u001b[35m169.254.255.130 - - [27/Apr/2020:17:02:53 +0000] \"POST /invocations HTTP/1.1\" 200 12184 \"-\" \"Go-http-client/1.1\"\u001b[0m\n",
      "\u001b[35m169.254.255.130 - - [27/Apr/2020:17:02:53 +0000] \"POST /invocations HTTP/1.1\" 200 12235 \"-\" \"Go-http-client/1.1\"\u001b[0m\n",
      "\u001b[35m169.254.255.130 - - [27/Apr/2020:17:02:53 +0000] \"POST /invocations HTTP/1.1\" 200 12212 \"-\" \"Go-http-client/1.1\"\u001b[0m\n",
      "\u001b[35m[2020-04-27:17:02:53:INFO] Determined delimiter of CSV input is ','\u001b[0m\n",
      "\u001b[35m[2020-04-27:17:02:53:INFO] Determined delimiter of CSV input is ','\u001b[0m\n",
      "\u001b[35m[2020-04-27:17:02:53:INFO] Determined delimiter of CSV input is ','\u001b[0m\n",
      "\n"
     ]
    }
   ],
   "source": [
    "xgb_transformer.wait()"
   ]
  },
  {
   "cell_type": "markdown",
   "metadata": {},
   "source": [
    "Now the transform job has executed and the result, the estimated sentiment of each review, has been saved on S3. Since we would rather work on this file locally we can perform a bit of notebook magic to copy the file to the `data_dir`."
   ]
  },
  {
   "cell_type": "code",
   "execution_count": 29,
   "metadata": {},
   "outputs": [
    {
     "name": "stdout",
     "output_type": "stream",
     "text": [
      "Completed 256.0 KiB/474.2 KiB (3.4 MiB/s) with 1 file(s) remaining\r",
      "Completed 474.2 KiB/474.2 KiB (6.1 MiB/s) with 1 file(s) remaining\r",
      "download: s3://sagemaker-us-east-2-037690205935/sagemaker-xgboost-2020-04-27-16-58-46-598/test.csv.out to ../data/sentiment_web_app/test.csv.out\r\n"
     ]
    }
   ],
   "source": [
    "!aws s3 cp --recursive $xgb_transformer.output_path $data_dir"
   ]
  },
  {
   "cell_type": "markdown",
   "metadata": {},
   "source": [
    "The last step is now to read in the output from our model, convert the output to something a little more usable, in this case we want the sentiment to be either `1` (positive) or `0` (negative), and then compare to the ground truth labels."
   ]
  },
  {
   "cell_type": "code",
   "execution_count": 30,
   "metadata": {},
   "outputs": [],
   "source": [
    "predictions = pd.read_csv(os.path.join(data_dir, 'test.csv.out'), header=None)\n",
    "predictions = [round(num) for num in predictions.squeeze().values]"
   ]
  },
  {
   "cell_type": "code",
   "execution_count": 31,
   "metadata": {},
   "outputs": [
    {
     "data": {
      "text/plain": [
       "0.86156"
      ]
     },
     "execution_count": 31,
     "metadata": {},
     "output_type": "execute_result"
    }
   ],
   "source": [
    "from sklearn.metrics import accuracy_score\n",
    "accuracy_score(test_y, predictions)"
   ]
  },
  {
   "cell_type": "markdown",
   "metadata": {},
   "source": [
    "## Step 6: Deploying the model\n",
    "\n",
    "Once we construct and fit our model, SageMaker stores the resulting model artifacts and we can use those to deploy an endpoint (inference code). To see this, look in the SageMaker console and you should see that a model has been created along with a link to the S3 location where the model artifacts have been stored.\n",
    "\n",
    "Deploying an endpoint is a lot like training the model with a few important differences. The first is that a deployed model doesn't change the model artifacts, so as you send it various testing instances the model won't change. Another difference is that since we aren't performing a fixed computation, as we were in the training step or while performing a batch transform, the compute instance that gets started stays running until we tell it to stop. This is important to note as if we forget and leave it running we will be charged the entire time.\n",
    "\n",
    "In other words **If you are no longer using a deployed endpoint, shut it down!**"
   ]
  },
  {
   "cell_type": "code",
   "execution_count": 32,
   "metadata": {},
   "outputs": [
    {
     "name": "stderr",
     "output_type": "stream",
     "text": [
      "WARNING:sagemaker:Using already existing model: sagemaker-xgboost-2020-04-27-16-49-15-125\n"
     ]
    },
    {
     "name": "stdout",
     "output_type": "stream",
     "text": [
      "-------------!"
     ]
    }
   ],
   "source": [
    "xgb_predictor = xgb.deploy(initial_instance_count = 1, instance_type = 'ml.m4.xlarge')"
   ]
  },
  {
   "cell_type": "markdown",
   "metadata": {},
   "source": [
    "### Testing the model (again)\n",
    "\n",
    "Now that we have deployed our endpoint, we can send the testing data to it and get back the inference results. We already did this earlier using the batch transform functionality of SageMaker, however, we will test our model again using the newly deployed endpoint so that we can make sure that it works properly and to get a bit of a feel for how the endpoint works.\n",
    "\n",
    "When using the created endpoint it is important to know that we are limited in the amount of information we can send in each call so we need to break the testing data up into chunks and then send each chunk. Also, we need to serialize our data before we send it to the endpoint to ensure that our data is transmitted properly. Fortunately, SageMaker can do the serialization part for us provided we tell it the format of our data."
   ]
  },
  {
   "cell_type": "code",
   "execution_count": 33,
   "metadata": {},
   "outputs": [],
   "source": [
    "from sagemaker.predictor import csv_serializer\n",
    "\n",
    "# We need to tell the endpoint what format the data we are sending is in so that SageMaker can perform the serialization.\n",
    "xgb_predictor.content_type = 'text/csv'\n",
    "xgb_predictor.serializer = csv_serializer"
   ]
  },
  {
   "cell_type": "code",
   "execution_count": 34,
   "metadata": {},
   "outputs": [],
   "source": [
    "# We split the data into chunks and send each chunk seperately, accumulating the results.\n",
    "\n",
    "def predict(data, rows=512):\n",
    "    split_array = np.array_split(data, int(data.shape[0] / float(rows) + 1))\n",
    "    predictions = ''\n",
    "    for array in split_array:\n",
    "        predictions = ','.join([predictions, xgb_predictor.predict(array).decode('utf-8')])\n",
    "    \n",
    "    return np.fromstring(predictions[1:], sep=',')"
   ]
  },
  {
   "cell_type": "code",
   "execution_count": 35,
   "metadata": {},
   "outputs": [],
   "source": [
    "test_X = pd.read_csv(os.path.join(data_dir, 'test.csv'), header=None).values\n",
    "\n",
    "predictions = predict(test_X)\n",
    "predictions = [round(num) for num in predictions]"
   ]
  },
  {
   "cell_type": "markdown",
   "metadata": {},
   "source": [
    "Lastly, we check to see what the accuracy of our model is."
   ]
  },
  {
   "cell_type": "code",
   "execution_count": 36,
   "metadata": {},
   "outputs": [
    {
     "data": {
      "text/plain": [
       "0.86156"
      ]
     },
     "execution_count": 36,
     "metadata": {},
     "output_type": "execute_result"
    }
   ],
   "source": [
    "from sklearn.metrics import accuracy_score\n",
    "accuracy_score(test_y, predictions)"
   ]
  },
  {
   "cell_type": "markdown",
   "metadata": {},
   "source": [
    "And the results here should agree with the model testing that we did earlier using the batch transform job.\n",
    "\n",
    "### Cleaning up\n",
    "\n",
    "Now that we've determined that deploying our model works as expected, we are going to shut it down. Remember that the longer the endpoint is left running, the greater the cost and since we have a bit more work to do before we are able to use our endpoint with our simple web app, we should shut everything down."
   ]
  },
  {
   "cell_type": "code",
   "execution_count": 50,
   "metadata": {},
   "outputs": [],
   "source": [
    "xgb_predictor.delete_endpoint()"
   ]
  },
  {
   "cell_type": "markdown",
   "metadata": {},
   "source": [
    "## Step 7: Putting our model to work\n",
    "\n",
    "As we've mentioned a few times now, our goal is to have our model deployed and then access it using a very simple web app. The intent is for this web app to take some user submitted data (a review), send it off to our endpoint (the model) and then display the result.\n",
    "\n",
    "However, there is a small catch. Currently the only way we can access the endpoint to send it data is using the SageMaker API. We can, if we wish, expose the actual URL that our model's endpoint is receiving data from, however, if we just send it data ourselves we will not get anything in return. This is because the endpoint created by SageMaker requires the entity accessing it have the correct permissions. So, we would need to somehow authenticate our web app with AWS.\n",
    "\n",
    "Having a website that authenticates to AWS seems a bit beyond the scope of this lesson so we will opt for an alternative approach. Namely, we will create a new endpoint which does not require authentication and which acts as a proxy for the SageMaker endpoint.\n",
    "\n",
    "As an additional constraint, we will try to avoid doing any data processing in the web app itself. Remember that when we constructed and tested our model we started with a movie review, then we simplified it by removing any html formatting and punctuation, then we constructed a bag of words embedding and the resulting vector is what we sent to our model. All of this needs to be done to our user input as well.\n",
    "\n",
    "Fortunately we can do all of this data processing in the backend, using Amazon's Lambda service.\n",
    "\n",
    "<img src=\"Web App Diagram.svg\">\n",
    "\n",
    "The diagram above gives an overview of how the various services will work together. On the far right is the model which we trained above and which will be deployed using SageMaker. On the far left is our web app that collects a user's movie review, sends it off and expects a positive or negative sentiment in return.\n",
    "\n",
    "In the middle is where some of the magic happens. We will construct a Lambda function, which you can think of as a straightforward Python function that can be executed whenever a specified event occurs. This Python function will do the data processing we need to perform on a user submitted review. In addition, we will give this function permission to send and recieve data from a SageMaker endpoint.\n",
    "\n",
    "Lastly, the method we will use to execute the Lambda function is a new endpoint that we will create using API Gateway. This endpoint will be a url that listens for data to be sent to it. Once it gets some data it will pass that data on to the Lambda function and then return whatever the Lambda function returns. Essentially it will act as an interface that lets our web app communicate with the Lambda function.\n",
    "\n",
    "### Processing a single review\n",
    "\n",
    "For now, suppose we are given a movie review by our user in the form of a string, like so:"
   ]
  },
  {
   "cell_type": "code",
   "execution_count": 51,
   "metadata": {},
   "outputs": [],
   "source": [
    "test_review = \"Nothing but a disgusting materialistic pageant of glistening abed remote control greed zombies, totally devoid of any heart or heat. A romantic comedy that has zero romantic chemestry and zero laughs!\""
   ]
  },
  {
   "cell_type": "markdown",
   "metadata": {},
   "source": [
    "How do we go from this string to the bag of words feature vector that is expected by our model?\n",
    "\n",
    "If we recall at the beginning of this notebook, the first step is to remove any unnecessary characters using the `review_to_words` method. Remember that we intentionally did this in a very simplistic way. This is because we are going to have to copy this method to our (eventual) Lambda function (we will go into more detail later) and this means it needs to be rather simplistic."
   ]
  },
  {
   "cell_type": "code",
   "execution_count": 52,
   "metadata": {},
   "outputs": [
    {
     "name": "stdout",
     "output_type": "stream",
     "text": [
      "nothing but a disgusting materialistic pageant of glistening abed remote control greed zombies totally devoid of any heart or heat a romantic comedy that has zero romantic chemestry and zero laughs\n"
     ]
    }
   ],
   "source": [
    "test_words = review_to_words(test_review)\n",
    "print(test_words)"
   ]
  },
  {
   "cell_type": "markdown",
   "metadata": {},
   "source": [
    "Next, we need to construct a bag of words embedding of the `test_words` string. To do this, remember that a bag of words embedding uses a `vocabulary` consisting of the most frequently appearing words in a set of documents. Then, for each word in the vocabulary we record the number of times that word appears in `test_words`. We constructed the `vocabulary` earlier using the training set for our problem so encoding `test_words` is relatively straightforward."
   ]
  },
  {
   "cell_type": "code",
   "execution_count": 53,
   "metadata": {},
   "outputs": [],
   "source": [
    "def bow_encoding(words, vocabulary):\n",
    "    bow = [0] * len(vocabulary) # Start by setting the count for each word in the vocabulary to zero.\n",
    "    for word in words.split():  # For each word in the string\n",
    "        if word in vocabulary:  # If the word is one that occurs in the vocabulary, increase its count.\n",
    "            bow[vocabulary[word]] += 1\n",
    "    return bow"
   ]
  },
  {
   "cell_type": "code",
   "execution_count": 54,
   "metadata": {},
   "outputs": [
    {
     "name": "stdout",
     "output_type": "stream",
     "text": [
      "[0, 0, 0, 0, 0, 0, 0, 0, 0, 0, 0, 0, 0, 0, 0, 0, 0, 0, 0, 0, 0, 0, 0, 0, 0, 0, 0, 0, 0, 0, 0, 0, 0, 0, 0, 0, 0, 0, 0, 0, 0, 0, 0, 0, 0, 0, 0, 0, 0, 0, 0, 0, 0, 0, 0, 0, 0, 0, 0, 0, 0, 0, 0, 0, 0, 0, 0, 0, 0, 0, 0, 0, 0, 0, 0, 0, 0, 0, 0, 0, 0, 0, 0, 0, 0, 0, 0, 0, 0, 0, 0, 0, 0, 0, 0, 0, 0, 0, 0, 0, 0, 0, 0, 0, 0, 0, 0, 0, 0, 0, 0, 0, 0, 0, 0, 0, 0, 0, 0, 0, 0, 0, 0, 0, 0, 0, 0, 0, 0, 0, 0, 0, 0, 0, 0, 0, 0, 0, 0, 0, 0, 0, 0, 0, 0, 0, 0, 0, 0, 0, 0, 0, 0, 0, 0, 0, 0, 0, 0, 0, 0, 0, 0, 0, 0, 0, 0, 0, 0, 0, 0, 0, 0, 0, 0, 0, 0, 0, 0, 0, 0, 0, 0, 0, 0, 0, 0, 0, 0, 0, 0, 0, 0, 0, 0, 0, 0, 0, 0, 0, 0, 0, 0, 0, 0, 0, 0, 0, 0, 0, 0, 0, 0, 0, 0, 0, 0, 0, 0, 0, 0, 0, 0, 0, 0, 0, 1, 0, 0, 0, 0, 0, 0, 0, 0, 0, 0, 0, 0, 0, 0, 0, 0, 0, 0, 0, 0, 0, 0, 0, 0, 0, 0, 0, 0, 0, 1, 0, 0, 0, 0, 0, 0, 0, 0, 0, 0, 0, 0, 0, 0, 0, 0, 0, 0, 0, 0, 0, 0, 0, 0, 0, 0, 0, 0, 0, 0, 0, 0, 0, 0, 0, 0, 0, 0, 0, 0, 0, 0, 0, 0, 0, 0, 0, 0, 0, 0, 0, 0, 0, 0, 0, 0, 0, 0, 0, 0, 0, 0, 0, 0, 0, 0, 0, 0, 0, 0, 0, 0, 0, 0, 0, 0, 0, 0, 0, 0, 0, 0, 0, 0, 0, 0, 0, 0, 0, 0, 0, 0, 0, 0, 0, 0, 0, 0, 0, 0, 0, 0, 0, 0, 0, 0, 0, 0, 0, 0, 0, 0, 0, 0, 0, 0, 0, 0, 0, 0, 0, 0, 0, 0, 0, 0, 0, 0, 0, 0, 0, 0, 0, 0, 0, 0, 0, 0, 0, 0, 0, 0, 0, 0, 0, 0, 0, 0, 0, 0, 0, 0, 0, 0, 0, 0, 0, 0, 0, 0, 0, 0, 0, 0, 0, 0, 0, 0, 0, 0, 0, 0, 0, 0, 0, 0, 0, 0, 0, 0, 0, 0, 0, 0, 0, 0, 0, 0, 0, 0, 0, 0, 0, 0, 0, 0, 0, 0, 0, 0, 0, 0, 0, 0, 0, 0, 0, 0, 0, 0, 0, 0, 0, 0, 0, 0, 0, 0, 0, 0, 0, 0, 0, 0, 0, 0, 0, 0, 0, 0, 0, 0, 0, 0, 0, 0, 0, 0, 0, 0, 0, 0, 0, 0, 0, 0, 0, 0, 0, 0, 0, 0, 0, 0, 0, 0, 0, 0, 0, 0, 0, 0, 0, 0, 0, 0, 0, 0, 0, 0, 0, 0, 0, 0, 0, 0, 0, 0, 0, 0, 0, 0, 0, 0, 0, 0, 0, 0, 0, 0, 0, 0, 0, 0, 0, 0, 0, 0, 0, 0, 0, 0, 0, 0, 0, 0, 0, 0, 0, 0, 0, 0, 0, 0, 0, 0, 0, 0, 0, 0, 0, 0, 0, 0, 0, 0, 0, 0, 0, 0, 0, 0, 0, 0, 0, 0, 0, 0, 0, 0, 0, 0, 0, 0, 0, 0, 0, 0, 0, 0, 0, 0, 0, 0, 0, 0, 0, 0, 0, 0, 0, 0, 0, 0, 0, 0, 0, 0, 0, 0, 0, 0, 0, 0, 0, 0, 0, 0, 0, 1, 0, 0, 0, 0, 0, 0, 0, 0, 0, 0, 0, 0, 0, 0, 0, 0, 0, 0, 0, 0, 0, 0, 0, 0, 0, 0, 0, 0, 0, 0, 0, 0, 0, 0, 0, 0, 0, 0, 0, 0, 0, 0, 0, 0, 0, 0, 0, 0, 0, 0, 0, 0, 0, 0, 0, 0, 0, 0, 0, 0, 0, 0, 0, 0, 0, 0, 0, 0, 0, 0, 0, 0, 0, 0, 0, 0, 0, 0, 0, 0, 0, 0, 0, 0, 0, 0, 0, 0, 0, 0, 0, 0, 0, 0, 0, 0, 0, 0, 0, 0, 0, 0, 0, 0, 0, 0, 0, 0, 0, 0, 0, 0, 0, 0, 0, 0, 0, 0, 0, 0, 0, 0, 0, 0, 0, 0, 0, 0, 0, 0, 0, 0, 0, 0, 0, 0, 0, 0, 0, 0, 0, 0, 0, 0, 0, 0, 0, 0, 0, 0, 0, 0, 0, 0, 0, 0, 0, 0, 0, 0, 0, 0, 0, 0, 0, 0, 0, 0, 0, 0, 0, 0, 0, 0, 0, 0, 0, 0, 0, 0, 0, 0, 0, 0, 0, 0, 0, 0, 0, 0, 0, 0, 0, 0, 0, 0, 0, 0, 0, 0, 0, 0, 0, 0, 0, 0, 0, 0, 0, 0, 0, 0, 0, 0, 0, 0, 0, 0, 0, 0, 0, 0, 0, 0, 0, 0, 0, 0, 0, 0, 0, 0, 0, 0, 0, 0, 0, 0, 0, 0, 0, 0, 0, 0, 0, 0, 0, 0, 0, 0, 0, 0, 0, 1, 0, 0, 0, 0, 0, 0, 0, 0, 0, 0, 0, 0, 0, 0, 0, 0, 0, 0, 0, 0, 0, 0, 0, 0, 0, 0, 0, 0, 0, 0, 0, 0, 0, 0, 0, 0, 0, 0, 0, 0, 0, 0, 0, 0, 0, 0, 0, 0, 0, 0, 0, 0, 0, 0, 0, 0, 0, 0, 0, 0, 0, 0, 0, 0, 0, 0, 0, 0, 0, 0, 0, 0, 0, 0, 0, 0, 0, 0, 0, 0, 0, 0, 0, 0, 0, 0, 1, 0, 0, 0, 0, 0, 0, 0, 0, 0, 0, 0, 0, 0, 0, 0, 0, 0, 0, 0, 0, 0, 0, 0, 0, 0, 0, 0, 0, 0, 0, 0, 0, 0, 0, 0, 0, 0, 0, 0, 0, 0, 0, 0, 0, 0, 0, 0, 0, 0, 0, 0, 0, 0, 0, 0, 0, 0, 0, 0, 0, 0, 0, 0, 0, 0, 0, 0, 0, 0, 0, 0, 0, 0, 0, 0, 0, 0, 0, 0, 0, 0, 0, 0, 0, 0, 0, 0, 0, 0, 0, 0, 0, 0, 0, 0, 0, 0, 0, 0, 0, 0, 0, 0, 0, 0, 0, 0, 0, 0, 0, 0, 0, 0, 0, 0, 0, 0, 0, 0, 0, 0, 0, 0, 0, 0, 0, 0, 0, 0, 0, 0, 0, 0, 0, 0, 0, 0, 0, 0, 0, 0, 0, 0, 0, 0, 0, 0, 0, 0, 0, 0, 0, 0, 0, 0, 0, 0, 0, 0, 0, 0, 0, 0, 0, 0, 0, 0, 0, 0, 0, 0, 0, 0, 0, 0, 0, 0, 0, 0, 0, 0, 0, 0, 0, 0, 0, 0, 0, 0, 0, 0, 0, 0, 0, 0, 0, 0, 0, 0, 0, 0, 0, 0, 0, 0, 0, 0, 0, 0, 0, 0, 0, 0, 0, 0, 0, 0, 0, 0, 0, 0, 0, 0, 0, 0, 0, 0, 0, 0, 0, 0, 0, 0, 0, 0, 0, 0, 0, 0, 0, 0, 0, 0, 0, 0, 0, 0, 0, 0, 0, 0, 0, 1, 0, 0, 0, 0, 0, 0, 0, 0, 0, 0, 0, 0, 0, 0, 0, 0, 0, 0, 0, 0, 0, 0, 0, 0, 0, 0, 0, 0, 0, 0, 0, 0, 0, 0, 0, 0, 0, 0, 0, 0, 0, 0, 0, 0, 0, 0, 0, 0, 0, 0, 0, 0, 0, 0, 0, 1, 0, 0, 0, 0, 0, 0, 0, 0, 0, 0, 0, 0, 0, 0, 0, 0, 0, 0, 0, 0, 0, 0, 0, 0, 0, 0, 0, 0, 0, 0, 0, 0, 0, 0, 0, 0, 0, 0, 0, 0, 0, 0, 0, 0, 0, 0, 0, 0, 0, 0, 0, 0, 0, 0, 0, 0, 0, 0, 0, 0, 0, 0, 0, 0, 0, 0, 0, 0, 0, 0, 0, 0, 0, 0, 0, 0, 0, 0, 0, 0, 0, 0, 0, 0, 0, 0, 0, 0, 0, 0, 0, 0, 0, 0, 0, 0, 0, 0, 0, 0, 0, 0, 0, 0, 0, 0, 0, 0, 0, 0, 0, 0, 0, 0, 0, 0, 0, 0, 0, 0, 0, 0, 0, 0, 0, 0, 0, 0, 0, 0, 0, 0, 0, 0, 0, 0, 0, 0, 0, 0, 0, 0, 0, 0, 0, 0, 0, 0, 0, 0, 0, 0, 0, 0, 0, 0, 0, 0, 0, 0, 0, 0, 0, 0, 0, 0, 0, 0, 0, 0, 0, 0, 0, 0, 0, 0, 0, 0, 0, 0, 0, 0, 0, 0, 0, 0, 0, 0, 0, 0, 0, 0, 0, 0, 0, 0, 0, 0, 0, 0, 0, 0, 0, 0, 0, 0, 0, 0, 0, 0, 0, 0, 0, 0, 0, 0, 0, 0, 0, 0, 0, 0, 0, 0, 0, 0, 0, 0, 0, 0, 0, 0, 0, 0, 0, 0, 0, 0, 0, 0, 0, 0, 0, 0, 0, 0, 0, 0, 0, 0, 0, 0, 0, 0, 0, 0, 0, 0, 0, 0, 0, 0, 0, 0, 0, 0, 0, 0, 0, 0, 0, 0, 0, 0, 0, 0, 0, 0, 0, 0, 0, 0, 0, 0, 0, 0, 0, 0, 0, 0, 0, 0, 0, 0, 0, 0, 0, 0, 0, 0, 0, 0, 0, 0, 0, 0, 0, 0, 0, 0, 0, 0, 0, 0, 0, 0, 0, 0, 0, 0, 0, 0, 0, 0, 0, 0, 0, 0, 0, 0, 0, 0, 0, 0, 0, 0, 0, 0, 0, 0, 0, 0, 0, 0, 0, 0, 0, 0, 0, 0, 0, 0, 0, 0, 0, 0, 0, 0, 0, 0, 0, 0, 0, 0, 0, 0, 0, 0, 0, 0, 0, 0, 0, 0, 0, 0, 0, 0, 0, 0, 0, 0, 0, 0, 0, 0, 0, 0, 0, 0, 0, 0, 0, 0, 0, 0, 0, 0, 0, 0, 0, 0, 0, 0, 0, 0, 0, 0, 0, 0, 0, 0, 0, 0, 0, 0, 0, 0, 0, 0, 0, 0, 0, 0, 0, 0, 0, 0, 0, 0, 0, 0, 0, 0, 0, 0, 0, 0, 0, 0, 0, 0, 0, 0, 0, 0, 0, 0, 0, 0, 0, 0, 0, 0, 0, 0, 0, 0, 0, 0, 0, 0, 0, 0, 0, 0, 0, 0, 0, 0, 0, 0, 0, 0, 0, 0, 0, 0, 0, 0, 0, 0, 0, 0, 0, 0, 0, 0, 0, 0, 0, 0, 0, 0, 0, 0, 0, 0, 0, 0, 0, 0, 0, 0, 0, 0, 0, 0, 0, 0, 0, 0, 0, 0, 0, 0, 0, 0, 0, 0, 0, 0, 0, 0, 0, 0, 0, 0, 0, 0, 0, 0, 0, 0, 0, 0, 0, 0, 0, 0, 0, 0, 0, 0, 0, 0, 0, 0, 0, 0, 0, 0, 0, 0, 0, 0, 0, 0, 0, 0, 0, 0, 0, 0, 0, 0, 0, 0, 0, 0, 0, 0, 0, 0, 0, 0, 0, 0, 0, 0, 0, 0, 0, 0, 0, 0, 0, 0, 0, 0, 0, 0, 0, 0, 0, 0, 0, 0, 0, 0, 0, 0, 0, 0, 0, 0, 0, 0, 0, 0, 0, 0, 0, 0, 0, 0, 0, 0, 0, 0, 0, 0, 0, 0, 0, 0, 0, 0, 0, 0, 0, 0, 0, 0, 0, 0, 0, 0, 0, 0, 0, 0, 0, 0, 0, 0, 0, 0, 0, 0, 0, 0, 0, 0, 0, 0, 0, 0, 0, 0, 0, 0, 0, 0, 0, 0, 0, 0, 0, 0, 0, 0, 0, 0, 0, 0, 0, 0, 0, 0, 0, 1, 0, 0, 0, 0, 0, 0, 0, 0, 0, 0, 0, 0, 0, 0, 0, 0, 0, 0, 0, 0, 0, 0, 0, 0, 0, 0, 0, 0, 0, 0, 0, 0, 0, 0, 0, 0, 0, 0, 0, 0, 0, 0, 0, 0, 0, 0, 0, 0, 0, 0, 0, 0, 0, 0, 0, 0, 0, 0, 0, 0, 0, 0, 0, 0, 0, 0, 0, 0, 0, 0, 0, 0, 0, 0, 1, 0, 0, 0, 0, 0, 0, 0, 0, 0, 0, 0, 0, 0, 0, 0, 0, 0, 0, 0, 0, 1, 0, 0, 1, 0, 0, 0, 0, 0, 0, 0, 0, 0, 0, 0, 0, 0, 0, 0, 0, 0, 0, 0, 0, 0, 0, 0, 0, 0, 0, 0, 0, 0, 0, 0, 0, 0, 0, 0, 0, 0, 0, 0, 0, 0, 0, 0, 0, 0, 0, 0, 0, 0, 0, 0, 0, 0, 0, 0, 0, 0, 0, 0, 0, 0, 0, 0, 0, 0, 0, 0, 0, 0, 0, 0, 0, 0, 0, 0, 0, 0, 0, 0, 0, 0, 0, 0, 0, 0, 0, 0, 0, 0, 0, 0, 0, 0, 0, 0, 0, 0, 0, 0, 0, 0, 0, 0, 0, 0, 0, 0, 0, 0, 0, 0, 0, 0, 0, 0, 0, 0, 0, 0, 0, 0, 0, 0, 0, 0, 0, 0, 0, 0, 0, 0, 0, 0, 0, 0, 0, 0, 0, 0, 0, 0, 0, 0, 0, 0, 0, 0, 0, 0, 0, 0, 0, 0, 0, 0, 0, 0, 0, 0, 0, 0, 0, 0, 0, 0, 0, 0, 0, 0, 0, 0, 0, 0, 0, 0, 0, 0, 0, 0, 0, 0, 0, 0, 0, 0, 0, 0, 0, 0, 0, 0, 0, 0, 0, 0, 0, 0, 0, 0, 0, 0, 0, 0, 0, 0, 0, 0, 0, 0, 0, 0, 0, 0, 0, 0, 0, 0, 0, 0, 0, 0, 0, 0, 0, 0, 0, 0, 0, 0, 0, 0, 0, 0, 0, 0, 0, 0, 0, 0, 0, 0, 0, 0, 0, 0, 0, 0, 0, 0, 0, 0, 0, 0, 0, 0, 0, 0, 0, 0, 0, 0, 0, 0, 0, 0, 0, 0, 0, 0, 0, 0, 0, 0, 0, 0, 0, 0, 0, 0, 0, 0, 0, 0, 0, 0, 0, 0, 0, 0, 0, 0, 0, 0, 0, 0, 0, 0, 0, 0, 0, 0, 0, 0, 0, 0, 0, 0, 0, 0, 0, 0, 0, 0, 0, 0, 0, 0, 0, 0, 0, 0, 0, 0, 0, 0, 0, 0, 0, 0, 0, 0, 0, 0, 0, 0, 0, 0, 0, 0, 0, 0, 0, 0, 0, 0, 0, 0, 0, 0, 0, 0, 0, 0, 0, 0, 0, 0, 0, 0, 0, 0, 0, 0, 0, 0, 0, 0, 0, 0, 0, 0, 0, 0, 0, 0, 0, 0, 0, 0, 0, 0, 0, 0, 0, 0, 0, 0, 0, 0, 0, 0, 0, 0, 0, 0, 0, 0, 0, 0, 0, 0, 0, 0, 0, 0, 0, 0, 0, 0, 0, 0, 0, 0, 0, 0, 0, 0, 0, 0, 0, 0, 0, 0, 0, 0, 0, 0, 0, 0, 0, 0, 0, 0, 0, 0, 0, 0, 0, 0, 0, 0, 0, 0, 0, 0, 0, 0, 0, 0, 0, 0, 0, 0, 0, 0, 0, 0, 0, 0, 0, 0, 0, 0, 0, 0, 0, 1, 0, 0, 0, 0, 0, 0, 0, 0, 0, 0, 0, 0, 0, 0, 0, 0, 0, 0, 0, 0, 0, 0, 0, 0, 0, 0, 0, 0, 0, 0, 0, 0, 0, 0, 0, 0, 0, 0, 0, 0, 0, 0, 0, 0, 0, 0, 0, 0, 0, 0, 0, 0, 0, 0, 0, 0, 0, 0, 0, 0, 0, 0, 0, 0, 0, 0, 0, 0, 0, 0, 0, 0, 0, 0, 0, 0, 0, 0, 0, 0, 0, 0, 0, 0, 0, 0, 0, 0, 0, 0, 0, 0, 0, 0, 0, 0, 0, 0, 0, 0, 0, 0, 0, 0, 0, 0, 0, 0, 0, 0, 0, 0, 0, 0, 0, 0, 0, 0, 0, 0, 0, 0, 0, 0, 0, 0, 0, 0, 0, 0, 0, 0, 0, 0, 0, 0, 0, 0, 0, 0, 0, 0, 0, 0, 0, 0, 0, 0, 0, 0, 0, 0, 0, 0, 0, 0, 0, 0, 0, 0, 0, 0, 0, 0, 0, 0, 0, 0, 0, 0, 0, 0, 0, 0, 0, 0, 0, 0, 0, 0, 0, 0, 0, 0, 0, 0, 0, 0, 0, 0, 0, 0, 0, 0, 0, 0, 0, 0, 0, 0, 0, 0, 0, 0, 0, 0, 0, 0, 0, 0, 0, 0, 0, 0, 0, 0, 0, 0, 0, 0, 0, 0, 0, 0, 0, 0, 0, 0, 0, 0, 0, 0, 0, 0, 0, 0, 0, 0, 0, 0, 0, 0, 0, 0, 0, 0, 0, 0, 0, 0, 0, 0, 0, 0, 0, 0, 0, 0, 0, 0, 0, 0, 0, 0, 0, 0, 0, 0, 0, 0, 0, 0, 0, 0, 0, 0, 0, 0, 0, 0, 0, 0, 0, 0, 0, 0, 0, 0, 0, 0, 0, 0, 0, 0, 0, 0, 0, 0, 0, 0, 0, 0, 0, 0, 0, 0, 0, 0, 0, 0, 0, 0, 0, 0, 0, 0, 0, 0, 0, 0, 0, 0, 0, 0, 0, 0, 0, 0, 0, 0, 0, 0, 0, 0, 0, 0, 0, 0, 0, 0, 0, 0, 0, 0, 0, 0, 0, 0, 0, 0, 0, 0, 0, 0, 0, 0, 0, 0, 0, 0, 0, 0, 0, 0, 0, 0, 0, 0, 0, 0, 0, 0, 0, 0, 0, 0, 0, 0, 0, 0, 0, 0, 0, 0, 0, 0, 0, 0, 0, 0, 0, 0, 0, 0, 0, 0, 0, 0, 0, 0, 0, 0, 0, 0, 0, 0, 0, 0, 0, 0, 0, 0, 0, 0, 0, 0, 0, 0, 0, 0, 0, 0, 0, 0, 0, 0, 0, 0, 0, 0, 0, 0, 0, 0, 0, 0, 0, 0, 0, 0, 0, 0, 0, 0, 0, 0, 0, 0, 0, 0, 0, 0, 0, 0, 0, 0, 0, 0, 0, 0, 0, 0, 0, 0, 0, 0, 0, 0, 0, 0, 0, 0, 0, 0, 0, 0, 0, 0, 0, 0, 0, 0, 0, 0, 0, 0, 0, 0, 0, 0, 0, 0, 0, 0, 0, 0, 0, 0, 0, 0, 0, 0, 0, 0, 0, 0, 0, 0, 0, 0, 0, 0, 1, 0, 0, 0, 0, 0, 0, 0, 0, 0, 0, 0, 0, 0, 0, 0, 0, 0, 0, 0, 0, 0, 0, 0, 0, 0, 0, 0, 0, 0, 0, 0, 0, 0, 0, 0, 2, 0, 0, 0, 0, 0, 0, 0, 0, 0, 0, 0, 0, 0, 0, 0, 0, 0, 0, 0, 0, 0, 0, 0, 0, 0, 0, 0, 0, 0, 0, 0, 0, 0, 0, 0, 0, 0, 0, 0, 0, 1, 0, 0, 0, 0, 0, 0, 0, 0, 0, 0, 0, 0, 0, 0, 0, 0, 0, 0, 0, 0, 0, 0, 0, 0, 0, 0, 0, 0, 0, 0, 0, 0, 0, 0, 0, 0, 0, 0, 0, 0, 0, 0, 0, 0, 0, 0, 0, 0, 0, 0, 0, 0, 0, 0, 0, 0, 0, 0, 0, 0, 0, 0, 0, 0, 0, 0, 0, 0, 0, 0, 0, 0, 0, 0, 0, 0, 0, 0, 0, 0, 0, 0, 0, 0, 0, 0, 0, 0, 0, 0, 0, 0, 0, 0, 0, 0, 0, 0, 0, 0, 0, 0, 0, 0, 0, 0, 0, 0, 0, 0, 0, 0, 0, 0, 0, 0, 0, 0, 0, 0, 0, 0, 0, 0, 0, 0, 0, 0, 0, 0, 0, 0, 0, 0, 0, 0, 0, 0, 0, 0, 0, 0, 0, 0, 0, 0, 0, 0, 0, 0, 0, 0, 0, 0, 0, 0, 0, 0, 0, 0, 0, 0, 0, 0, 0, 0, 0, 0, 0, 0, 0, 0, 0, 0, 0, 0, 0, 0, 0, 0, 0, 0, 0, 0, 0, 0, 0, 0, 0, 0, 0, 0, 0, 0, 0, 0, 0, 0, 0, 0, 0, 0, 0, 0, 0, 0, 0, 0, 0, 0, 0, 0, 0, 0, 0, 0, 0, 0, 0, 0, 0, 0, 0, 0, 0, 0, 0, 0, 0, 0, 0, 0, 0, 0, 0, 0, 0, 0, 0, 0, 0, 0, 0, 0, 0, 0, 0, 0, 0, 0, 0, 0, 0, 0, 0, 0, 0, 0, 0, 0, 0, 0, 0, 0, 0, 0, 0, 0, 0, 0, 0, 0, 0, 0, 0, 0, 0, 0, 0, 0, 0, 0, 0, 0, 0, 0, 0, 0, 0, 0, 0, 0, 0, 0, 0, 0, 0, 0, 0, 0, 0, 0, 0, 0, 0, 0, 0, 0, 0, 0, 0, 0, 0, 0, 0, 0, 0, 0, 0, 0, 0, 0, 0, 0, 0, 0, 0, 0, 0, 0, 0, 0, 0, 0, 0, 0, 0, 0, 0, 0, 0, 0, 0, 0, 0, 0, 0, 0, 0, 0, 0, 0, 0, 0, 0, 0, 0, 0, 0, 0, 0, 0, 0, 0, 0, 0, 0, 0, 0, 0, 0, 0, 0, 0, 0, 0, 0, 0, 0, 0, 0, 0, 0, 0, 0, 0, 0, 0, 0, 0, 0, 0, 0, 0, 0, 0, 0, 0, 0, 0, 0, 0, 0, 0, 0, 0, 0, 0, 0, 0, 0, 0, 0, 0, 0, 0, 0, 0, 0, 0, 0, 0, 0, 0, 0, 0, 0, 0, 0, 0, 0, 0, 0, 0, 0, 0, 0, 0, 0, 0, 0, 0, 0, 0, 0, 0, 0, 0, 0, 0, 0, 0, 0, 0, 0, 0, 0, 0, 0, 0, 0, 0, 0, 0, 0, 0, 0, 0, 0, 0, 0, 0, 0, 0, 0, 0, 0, 0, 0, 0, 0, 0, 0, 0, 0, 0, 0, 0, 0, 0, 0, 0, 0, 0, 0, 0, 0, 1, 0, 0, 0, 0, 0, 0, 0, 0, 0, 0, 0, 0, 0, 0, 0, 0, 0, 0, 0, 0, 0, 0, 0, 0, 0, 0, 0, 0, 0, 0, 0, 0, 0, 0, 0, 0, 0, 0, 0, 0, 0, 0, 0, 0, 0, 0, 0, 0, 0, 0, 0, 0, 0, 0, 0, 0, 0, 0, 0, 0, 0, 0, 0, 0, 0, 0, 0, 0, 0, 0, 0, 0, 0, 0, 0, 0, 0, 0, 0, 0, 0, 0, 0, 0, 0, 0, 0, 0, 0, 0, 0, 0, 0, 0, 0, 0, 0, 0, 0, 0, 0, 0, 0, 0, 0, 0, 0, 0, 0, 0, 2, 0, 0, 0, 0, 0, 0, 0, 0, 0, 0, 0, 0, 0, 0, 0, 0, 0, 0, 0, 0, 0, 0, 0, 0, 0, 0, 0, 0, 0, 0, 0, 0, 0, 0, 0, 0, 0, 0, 0, 0, 0, 0, 0, 0, 0, 0, 0, 0, 0, 0, 0, 0, 0, 0, 0, 0, 0, 0, 0, 0, 0, 0, 0, 0, 0, 0, 0, 0, 0, 0, 0, 0, 0, 0, 0, 0, 0, 0, 0, 0, 0, 0, 0, 0, 0, 0, 0, 0, 0, 0, 0, 0, 0, 0, 0, 0, 0, 0, 0, 0, 0, 0, 0, 0, 0, 0, 0, 0, 0, 0, 0, 0, 0, 0, 0, 0, 0, 0, 0, 0, 0, 0, 0, 0, 0, 0, 0, 0, 0, 0, 0, 0, 0, 0, 0, 0, 0, 0, 0, 0, 0, 0, 0, 0, 0, 0, 0, 0, 0, 0, 0, 0, 0, 0, 0, 0, 0, 0, 0, 0, 0, 0, 0, 0, 0, 0, 0, 0, 0, 0, 0, 0, 0, 0, 0, 0, 0, 0, 0, 0, 0, 0, 0, 0, 0, 0, 0, 0, 0, 0, 0, 0, 0, 0, 0, 0, 0, 0, 0, 0, 0, 0, 0, 0, 0, 0, 0, 0, 0, 0, 0, 0, 0, 0, 0, 0, 0, 0, 0, 0, 0, 0, 0, 0, 0, 0, 0, 0, 0, 0, 0, 0, 0, 0, 0, 0, 0, 0, 0, 0, 0, 0, 0, 0, 0, 0, 0, 0, 0, 0, 0, 0, 0, 0, 0, 0, 0, 0, 0, 0, 0, 0, 0, 0, 0, 0, 0, 0, 0, 0, 0, 0, 0, 0, 0, 0, 0, 0, 0, 0, 0, 0, 0, 0, 0, 0, 0, 0, 0, 0, 0, 0, 0, 0, 0, 0, 0, 0, 0, 0, 0, 0, 0, 0, 0, 0, 0, 0, 0, 0, 0, 0, 0, 0, 0, 0, 0, 0, 0, 0, 0, 0, 0, 0, 0, 0, 0, 0, 0, 0, 0, 0, 0, 0, 0, 0, 0, 0, 0, 0, 0, 0, 0, 0, 0, 0, 0, 0, 0, 0, 0, 0, 0, 0, 0, 0, 0, 0, 0, 0, 0, 0, 0, 0, 0, 0, 0, 0, 0, 0, 0, 0, 0, 0, 0, 0, 0, 0, 0, 0, 0, 0, 0, 0, 0, 0, 0, 0, 0, 0, 0, 0, 0, 0, 0, 0, 0, 0, 0, 0, 0, 0, 0, 0, 0, 0, 0, 0, 0, 0, 0, 0, 0, 0, 0, 0, 0, 0, 0, 0, 0, 0, 0, 0, 0, 0, 0, 0, 0, 0, 0, 0, 0, 0, 0, 0, 0, 0, 0, 0, 0, 0, 0, 0, 0, 0, 0, 0, 0, 0, 0, 0, 0, 0, 0, 0, 0, 0, 0, 0, 0, 0, 0, 0, 0, 0, 0, 0, 0, 0, 0, 0, 0, 0, 0, 0, 0, 0, 0, 0, 0, 0, 0, 0, 0, 0, 0, 0, 0, 0, 0, 0, 0, 0, 0, 0, 0, 0, 0, 0, 0, 0, 0, 0, 0, 0, 0, 0, 0, 0, 0, 0, 0, 0, 0, 0, 0, 0, 0, 0, 0, 0, 0, 0, 0, 0, 0, 0, 0, 0, 0, 0, 0, 0, 0, 0, 0, 0, 0, 0, 0, 0, 0, 0, 0, 0, 0, 0, 0, 0, 0, 0, 0, 0, 0, 0, 0, 0, 0, 0, 0, 0, 0, 0, 0, 0, 0, 0, 0, 0, 0, 0, 0, 0, 0, 0, 0, 0, 0, 0, 0, 0, 0, 0, 0, 0, 0, 0, 0, 0, 0, 0, 0, 0, 0, 0, 0, 0, 0, 0, 0, 0, 0, 0, 0, 0, 0, 0, 0, 0, 0, 0, 0, 0, 0, 0, 0, 0, 0, 0, 0, 0, 0, 0, 0, 0, 0, 0, 0, 0, 0, 0, 0, 0, 0, 0, 0, 0, 0, 0, 0, 0, 0, 0, 0, 0, 0, 0, 0, 0, 0, 0, 0, 0, 0, 0, 0, 0, 0, 0, 0, 0, 0, 0, 0, 0, 0, 0, 0, 0, 0, 0, 0, 0, 0, 0, 0, 0, 0, 0, 0, 0, 0, 0, 0, 0, 0, 0, 0, 0, 1, 0, 0, 0, 0, 0, 0, 0, 0, 0, 0, 0, 0, 0, 0, 0, 0, 0, 0, 0, 0, 0, 0, 0, 0, 0, 0, 0, 0, 0, 0, 0, 0, 0, 0, 0, 0, 0, 0, 0, 0, 0, 0, 0, 0, 0, 0, 0, 0, 0, 0, 0, 0, 0, 0, 0, 0, 0, 0, 0, 0, 0, 0, 0, 0, 0, 0, 0, 0, 0, 0, 0, 0, 0, 0, 0, 0, 0, 0, 0, 0, 0, 0, 0, 0, 0, 0, 0, 0, 0, 0, 0, 0, 0, 0, 0, 0, 0, 0, 0, 0, 0, 0, 0, 0, 0, 0, 0, 1, 0, 0, 0, 0, 0, 0, 0, 0, 0, 0, 0, 0, 0, 0, 0, 0, 0, 0, 0, 0, 0, 0, 0, 0, 0, 0, 0, 0, 0, 0, 0, 0, 0, 0, 0, 0, 0, 0, 0, 0, 0, 0, 0, 0, 0, 0, 0, 0, 0, 0, 0, 0, 0, 0, 0, 0, 0, 0, 0, 0, 0, 0, 0, 0, 0, 0, 0, 0, 0, 0, 0, 0, 0, 0, 0, 0, 0, 0, 0, 0, 0, 0, 0, 0, 0, 0, 0, 0, 0, 0, 0, 0, 0, 0, 0, 0, 0, 0, 0, 0, 0, 0, 0, 0, 0, 0, 0, 0, 0, 0, 0, 0, 0, 0, 0, 0, 0, 0, 0, 0, 0, 0, 0, 0, 0, 0, 0, 0, 0, 0, 0, 0, 0, 0, 0, 0, 0, 0, 0, 0, 0, 0, 0, 0, 0, 0, 0, 0, 0, 0, 0, 0, 0, 0, 0, 0, 0, 0, 0, 0, 0, 0, 0, 0, 0, 0, 0, 0, 0, 0, 0, 0, 0, 0, 0, 0, 0, 0, 0, 0, 0, 0, 0, 0, 0, 0, 0, 0, 0, 0, 0, 0, 0, 0, 0, 0, 0, 0, 0, 0, 0, 0, 0, 0, 0, 0, 0, 0, 0, 0, 0, 0, 0, 0, 0, 0, 0, 0, 0, 0, 0, 0, 0, 0, 0, 0, 0, 0, 0, 0, 0, 0, 0, 0, 0, 0, 0, 0, 0, 0, 0, 0, 0, 0, 0, 0, 0, 0, 0, 0, 0, 0, 0, 0, 0, 0, 0, 0, 0, 0, 0, 0, 0, 0, 0, 0, 0, 0, 0, 0, 0, 0, 0, 0, 0, 0, 0, 0, 0, 0, 0, 0, 0, 0, 0, 0, 0, 0, 0, 0, 0, 0, 0, 0, 0, 0, 0, 0, 0, 0, 0, 0, 0, 0, 0, 0, 0, 0, 0, 0, 0, 0, 0, 0, 0, 0, 0, 0, 0, 0, 0, 0, 0, 0, 0, 0, 0, 0, 0, 0, 0, 0, 0, 0, 0, 0, 0, 0, 0, 0, 0, 0, 0, 0, 0, 0, 0, 0, 0, 0, 0, 0, 0, 0, 0, 0, 0, 0, 0, 0, 0, 0, 0, 0, 0, 0, 0, 0, 0, 0, 0, 0, 0, 0, 0, 0, 0, 0, 0, 0, 0, 0, 0, 0, 0, 0, 0, 0, 0, 0, 0, 0, 0, 0, 0, 0, 0, 0, 0, 0, 0, 0, 0, 0, 0, 0, 0, 0, 0, 0, 0, 0, 0, 0, 0, 0, 0, 0, 0, 0, 0, 0, 0, 0, 0, 0, 0, 0, 0, 0, 0, 0, 0, 0, 0, 0, 0, 0, 0, 0, 0, 0, 0, 0, 0, 0, 0, 0, 0, 0, 0, 0, 0, 0, 0, 0, 0, 0, 0, 0, 0, 0, 0, 2, 0, 1, 0]\n"
     ]
    }
   ],
   "source": [
    "test_bow = bow_encoding(test_words, vocabulary)\n",
    "print(test_bow)"
   ]
  },
  {
   "cell_type": "code",
   "execution_count": 55,
   "metadata": {},
   "outputs": [
    {
     "data": {
      "text/plain": [
       "5000"
      ]
     },
     "execution_count": 55,
     "metadata": {},
     "output_type": "execute_result"
    }
   ],
   "source": [
    "len(test_bow)"
   ]
  },
  {
   "cell_type": "markdown",
   "metadata": {},
   "source": [
    "So now we know how to construct a bag of words encoding of a user provided review, how to we send it to our endpoint? First, we need to start the endpoint back up."
   ]
  },
  {
   "cell_type": "code",
   "execution_count": 56,
   "metadata": {},
   "outputs": [
    {
     "name": "stderr",
     "output_type": "stream",
     "text": [
      "WARNING:sagemaker:Using already existing model: sagemaker-xgboost-2020-04-27-16-49-15-125\n"
     ]
    },
    {
     "name": "stdout",
     "output_type": "stream",
     "text": [
      "-------------!"
     ]
    }
   ],
   "source": [
    "xgb_predictor = xgb.deploy(initial_instance_count = 1, instance_type = 'ml.m4.xlarge')"
   ]
  },
  {
   "cell_type": "markdown",
   "metadata": {},
   "source": [
    "At this point we could just do the same thing that we did earlier when we tested our deployed model and send `test_bow` to our endpoint using the `xgb_predictor` object. However, when we eventually construct our Lambda function we won't have access to this object, so how do we call a SageMaker endpoint?\n",
    "\n",
    "It turns out that Python functions that are used in Lambda have access to another Amazon library called `boto3`. This library provides an API for working with Amazon services, including SageMaker. To start with, we need to get a handle to the SageMaker runtime."
   ]
  },
  {
   "cell_type": "code",
   "execution_count": 57,
   "metadata": {},
   "outputs": [],
   "source": [
    "import boto3\n",
    "\n",
    "runtime = boto3.Session().client('sagemaker-runtime')"
   ]
  },
  {
   "cell_type": "markdown",
   "metadata": {},
   "source": [
    "And now that we have access to the SageMaker runtime, we can ask it to make use of (invoke) an endpoint that has already been created. However, we need to provide SageMaker with the name of the deployed endpoint. To find this out we can print it out using the `xgb_predictor` object."
   ]
  },
  {
   "cell_type": "code",
   "execution_count": 58,
   "metadata": {},
   "outputs": [
    {
     "data": {
      "text/plain": [
       "'sagemaker-xgboost-2020-04-27-16-49-15-125'"
      ]
     },
     "execution_count": 58,
     "metadata": {},
     "output_type": "execute_result"
    }
   ],
   "source": [
    "xgb_predictor.endpoint"
   ]
  },
  {
   "cell_type": "markdown",
   "metadata": {},
   "source": [
    "Using the SageMaker runtime and the name of our endpoint, we can invoke the endpoint and send it the `test_bow` data."
   ]
  },
  {
   "cell_type": "code",
   "execution_count": 46,
   "metadata": {},
   "outputs": [
    {
     "ename": "ParamValidationError",
     "evalue": "Parameter validation failed:\nInvalid type for parameter Body, value: [0, 0, 0, 0, 0, 0, 0, 0, 0, 0, 0, 0, 0, 0, 0, 0, 0, 0, 0, 0, 0, 0, 0, 0, 0, 0, 0, 0, 0, 0, 0, 0, 0, 0, 0, 0, 0, 0, 0, 0, 0, 0, 0, 0, 0, 0, 0, 0, 0, 0, 0, 0, 0, 0, 0, 0, 0, 0, 0, 0, 0, 0, 0, 0, 0, 0, 0, 0, 0, 0, 0, 0, 0, 0, 0, 0, 0, 0, 0, 0, 0, 0, 0, 0, 0, 0, 0, 0, 0, 0, 0, 0, 0, 0, 0, 0, 0, 0, 0, 0, 0, 0, 0, 0, 0, 0, 0, 0, 0, 0, 0, 0, 0, 0, 0, 0, 0, 0, 0, 0, 0, 0, 0, 0, 0, 0, 0, 0, 0, 0, 0, 0, 0, 0, 0, 0, 0, 0, 0, 0, 0, 0, 0, 0, 0, 0, 0, 0, 0, 0, 0, 0, 0, 0, 0, 0, 0, 0, 0, 0, 0, 0, 0, 0, 0, 0, 0, 0, 0, 0, 0, 0, 0, 0, 0, 0, 0, 0, 0, 0, 0, 0, 0, 0, 0, 0, 0, 0, 0, 0, 0, 0, 0, 0, 0, 0, 0, 0, 0, 0, 0, 0, 0, 0, 0, 0, 0, 0, 0, 0, 0, 0, 0, 0, 0, 0, 0, 0, 0, 0, 0, 0, 0, 0, 0, 0, 1, 0, 0, 0, 0, 0, 0, 0, 0, 0, 0, 0, 0, 0, 0, 0, 0, 0, 0, 0, 0, 0, 0, 0, 0, 0, 0, 0, 0, 0, 1, 0, 0, 0, 0, 0, 0, 0, 0, 0, 0, 0, 0, 0, 0, 0, 0, 0, 0, 0, 0, 0, 0, 0, 0, 0, 0, 0, 0, 0, 0, 0, 0, 0, 0, 0, 0, 0, 0, 0, 0, 0, 0, 0, 0, 0, 0, 0, 0, 0, 0, 0, 0, 0, 0, 0, 0, 0, 0, 0, 0, 0, 0, 0, 0, 0, 0, 0, 0, 0, 0, 0, 0, 0, 0, 0, 0, 0, 0, 0, 0, 0, 0, 0, 0, 0, 0, 0, 0, 0, 0, 0, 0, 0, 0, 0, 0, 0, 0, 0, 0, 0, 0, 0, 0, 0, 0, 0, 0, 0, 0, 0, 0, 0, 0, 0, 0, 0, 0, 0, 0, 0, 0, 0, 0, 0, 0, 0, 0, 0, 0, 0, 0, 0, 0, 0, 0, 0, 0, 0, 0, 0, 0, 0, 0, 0, 0, 0, 0, 0, 0, 0, 0, 0, 0, 0, 0, 0, 0, 0, 0, 0, 0, 0, 0, 0, 0, 0, 0, 0, 0, 0, 0, 0, 0, 0, 0, 0, 0, 0, 0, 0, 0, 0, 0, 0, 0, 0, 0, 0, 0, 0, 0, 0, 0, 0, 0, 0, 0, 0, 0, 0, 0, 0, 0, 0, 0, 0, 0, 0, 0, 0, 0, 0, 0, 0, 0, 0, 0, 0, 0, 0, 0, 0, 0, 0, 0, 0, 0, 0, 0, 0, 0, 0, 0, 0, 0, 0, 0, 0, 0, 0, 0, 0, 0, 0, 0, 0, 0, 0, 0, 0, 0, 0, 0, 0, 0, 0, 0, 0, 0, 0, 0, 0, 0, 0, 0, 0, 0, 0, 0, 0, 0, 0, 0, 0, 0, 0, 0, 0, 0, 0, 0, 0, 0, 0, 0, 0, 0, 0, 0, 0, 0, 0, 0, 0, 0, 0, 0, 0, 0, 0, 0, 0, 0, 0, 0, 0, 0, 0, 0, 0, 0, 0, 0, 0, 0, 0, 0, 0, 0, 0, 0, 0, 0, 0, 0, 0, 0, 0, 0, 0, 0, 0, 0, 0, 0, 0, 0, 0, 0, 0, 0, 0, 0, 0, 0, 0, 0, 0, 0, 0, 0, 0, 0, 0, 0, 0, 0, 0, 0, 0, 0, 0, 0, 0, 0, 0, 0, 0, 0, 0, 0, 0, 0, 0, 0, 0, 0, 0, 1, 0, 0, 0, 0, 0, 0, 0, 0, 0, 0, 0, 0, 0, 0, 0, 0, 0, 0, 0, 0, 0, 0, 0, 0, 0, 0, 0, 0, 0, 0, 0, 0, 0, 0, 0, 0, 0, 0, 0, 0, 0, 0, 0, 0, 0, 0, 0, 0, 0, 0, 0, 0, 0, 0, 0, 0, 0, 0, 0, 0, 0, 0, 0, 0, 0, 0, 0, 0, 0, 0, 0, 0, 0, 0, 0, 0, 0, 0, 0, 0, 0, 0, 0, 0, 0, 0, 0, 0, 0, 0, 0, 0, 0, 0, 0, 0, 0, 0, 0, 0, 0, 0, 0, 0, 0, 0, 0, 0, 0, 0, 0, 0, 0, 0, 0, 0, 0, 0, 0, 0, 0, 0, 0, 0, 0, 0, 0, 0, 0, 0, 0, 0, 0, 0, 0, 0, 0, 0, 0, 0, 0, 0, 0, 0, 0, 0, 0, 0, 0, 0, 0, 0, 0, 0, 0, 0, 0, 0, 0, 0, 0, 0, 0, 0, 0, 0, 0, 0, 0, 0, 0, 0, 0, 0, 0, 0, 0, 0, 0, 0, 0, 0, 0, 0, 0, 0, 0, 0, 0, 0, 0, 0, 0, 0, 0, 0, 0, 0, 0, 0, 0, 0, 0, 0, 0, 0, 0, 0, 0, 0, 0, 0, 0, 0, 0, 0, 0, 0, 0, 0, 0, 0, 0, 0, 0, 0, 0, 0, 0, 0, 0, 0, 0, 0, 0, 0, 0, 0, 0, 0, 0, 0, 0, 0, 0, 0, 0, 0, 0, 0, 0, 0, 0, 1, 0, 0, 0, 0, 0, 0, 0, 0, 0, 0, 0, 0, 0, 0, 0, 0, 0, 0, 0, 0, 0, 0, 0, 0, 0, 0, 0, 0, 0, 0, 0, 0, 0, 0, 0, 0, 0, 0, 0, 0, 0, 0, 0, 0, 0, 0, 0, 0, 0, 0, 0, 0, 0, 0, 0, 0, 0, 0, 0, 0, 0, 0, 0, 0, 0, 0, 0, 0, 0, 0, 0, 0, 0, 0, 0, 0, 0, 0, 0, 0, 0, 0, 0, 0, 0, 0, 1, 0, 0, 0, 0, 0, 0, 0, 0, 0, 0, 0, 0, 0, 0, 0, 0, 0, 0, 0, 0, 0, 0, 0, 0, 0, 0, 0, 0, 0, 0, 0, 0, 0, 0, 0, 0, 0, 0, 0, 0, 0, 0, 0, 0, 0, 0, 0, 0, 0, 0, 0, 0, 0, 0, 0, 0, 0, 0, 0, 0, 0, 0, 0, 0, 0, 0, 0, 0, 0, 0, 0, 0, 0, 0, 0, 0, 0, 0, 0, 0, 0, 0, 0, 0, 0, 0, 0, 0, 0, 0, 0, 0, 0, 0, 0, 0, 0, 0, 0, 0, 0, 0, 0, 0, 0, 0, 0, 0, 0, 0, 0, 0, 0, 0, 0, 0, 0, 0, 0, 0, 0, 0, 0, 0, 0, 0, 0, 0, 0, 0, 0, 0, 0, 0, 0, 0, 0, 0, 0, 0, 0, 0, 0, 0, 0, 0, 0, 0, 0, 0, 0, 0, 0, 0, 0, 0, 0, 0, 0, 0, 0, 0, 0, 0, 0, 0, 0, 0, 0, 0, 0, 0, 0, 0, 0, 0, 0, 0, 0, 0, 0, 0, 0, 0, 0, 0, 0, 0, 0, 0, 0, 0, 0, 0, 0, 0, 0, 0, 0, 0, 0, 0, 0, 0, 0, 0, 0, 0, 0, 0, 0, 0, 0, 0, 0, 0, 0, 0, 0, 0, 0, 0, 0, 0, 0, 0, 0, 0, 0, 0, 0, 0, 0, 0, 0, 0, 0, 0, 0, 0, 0, 0, 0, 0, 0, 0, 0, 0, 0, 0, 0, 0, 1, 0, 0, 0, 0, 0, 0, 0, 0, 0, 0, 0, 0, 0, 0, 0, 0, 0, 0, 0, 0, 0, 0, 0, 0, 0, 0, 0, 0, 0, 0, 0, 0, 0, 0, 0, 0, 0, 0, 0, 0, 0, 0, 0, 0, 0, 0, 0, 0, 0, 0, 0, 0, 0, 0, 0, 1, 0, 0, 0, 0, 0, 0, 0, 0, 0, 0, 0, 0, 0, 0, 0, 0, 0, 0, 0, 0, 0, 0, 0, 0, 0, 0, 0, 0, 0, 0, 0, 0, 0, 0, 0, 0, 0, 0, 0, 0, 0, 0, 0, 0, 0, 0, 0, 0, 0, 0, 0, 0, 0, 0, 0, 0, 0, 0, 0, 0, 0, 0, 0, 0, 0, 0, 0, 0, 0, 0, 0, 0, 0, 0, 0, 0, 0, 0, 0, 0, 0, 0, 0, 0, 0, 0, 0, 0, 0, 0, 0, 0, 0, 0, 0, 0, 0, 0, 0, 0, 0, 0, 0, 0, 0, 0, 0, 0, 0, 0, 0, 0, 0, 0, 0, 0, 0, 0, 0, 0, 0, 0, 0, 0, 0, 0, 0, 0, 0, 0, 0, 0, 0, 0, 0, 0, 0, 0, 0, 0, 0, 0, 0, 0, 0, 0, 0, 0, 0, 0, 0, 0, 0, 0, 0, 0, 0, 0, 0, 0, 0, 0, 0, 0, 0, 0, 0, 0, 0, 0, 0, 0, 0, 0, 0, 0, 0, 0, 0, 0, 0, 0, 0, 0, 0, 0, 0, 0, 0, 0, 0, 0, 0, 0, 0, 0, 0, 0, 0, 0, 0, 0, 0, 0, 0, 0, 0, 0, 0, 0, 0, 0, 0, 0, 0, 0, 0, 0, 0, 0, 0, 0, 0, 0, 0, 0, 0, 0, 0, 0, 0, 0, 0, 0, 0, 0, 0, 0, 0, 0, 0, 0, 0, 0, 0, 0, 0, 0, 0, 0, 0, 0, 0, 0, 0, 0, 0, 0, 0, 0, 0, 0, 0, 0, 0, 0, 0, 0, 0, 0, 0, 0, 0, 0, 0, 0, 0, 0, 0, 0, 0, 0, 0, 0, 0, 0, 0, 0, 0, 0, 0, 0, 0, 0, 0, 0, 0, 0, 0, 0, 0, 0, 0, 0, 0, 0, 0, 0, 0, 0, 0, 0, 0, 0, 0, 0, 0, 0, 0, 0, 0, 0, 0, 0, 0, 0, 0, 0, 0, 0, 0, 0, 0, 0, 0, 0, 0, 0, 0, 0, 0, 0, 0, 0, 0, 0, 0, 0, 0, 0, 0, 0, 0, 0, 0, 0, 0, 0, 0, 0, 0, 0, 0, 0, 0, 0, 0, 0, 0, 0, 0, 0, 0, 0, 0, 0, 0, 0, 0, 0, 0, 0, 0, 0, 0, 0, 0, 0, 0, 0, 0, 0, 0, 0, 0, 0, 0, 0, 0, 0, 0, 0, 0, 0, 0, 0, 0, 0, 0, 0, 0, 0, 0, 0, 0, 0, 0, 0, 0, 0, 0, 0, 0, 0, 0, 0, 0, 0, 0, 0, 0, 0, 0, 0, 0, 0, 0, 0, 0, 0, 0, 0, 0, 0, 0, 0, 0, 0, 0, 0, 0, 0, 0, 0, 0, 0, 0, 0, 0, 0, 0, 0, 0, 0, 0, 0, 0, 0, 0, 0, 0, 0, 0, 0, 0, 0, 0, 0, 0, 0, 0, 0, 0, 0, 0, 0, 0, 0, 0, 0, 0, 0, 0, 0, 0, 0, 0, 0, 0, 0, 0, 0, 0, 0, 0, 0, 0, 0, 0, 0, 0, 0, 0, 0, 0, 0, 0, 0, 0, 0, 0, 0, 0, 0, 0, 0, 0, 0, 0, 0, 0, 0, 0, 0, 0, 0, 0, 0, 0, 0, 0, 0, 0, 0, 0, 0, 0, 0, 0, 0, 0, 0, 0, 0, 0, 0, 0, 0, 0, 0, 0, 0, 0, 0, 0, 0, 0, 0, 0, 0, 0, 0, 0, 0, 0, 0, 0, 0, 0, 0, 0, 0, 0, 0, 0, 0, 0, 0, 0, 0, 0, 0, 0, 0, 0, 0, 0, 0, 0, 0, 0, 0, 0, 0, 0, 0, 0, 0, 0, 0, 0, 0, 0, 0, 0, 0, 0, 0, 0, 0, 0, 0, 0, 0, 0, 0, 0, 0, 0, 0, 0, 0, 0, 0, 0, 0, 0, 0, 0, 0, 0, 0, 0, 0, 0, 0, 0, 0, 0, 0, 0, 0, 0, 0, 0, 0, 0, 0, 0, 0, 0, 0, 0, 0, 0, 0, 0, 0, 0, 0, 0, 0, 0, 0, 0, 0, 0, 0, 0, 0, 0, 1, 0, 0, 0, 0, 0, 0, 0, 0, 0, 0, 0, 0, 0, 0, 0, 0, 0, 0, 0, 0, 0, 0, 0, 0, 0, 0, 0, 0, 0, 0, 0, 0, 0, 0, 0, 0, 0, 0, 0, 0, 0, 0, 0, 0, 0, 0, 0, 0, 0, 0, 0, 0, 0, 0, 0, 0, 0, 0, 0, 0, 0, 0, 0, 0, 0, 0, 0, 0, 0, 0, 0, 0, 0, 0, 1, 0, 0, 0, 0, 0, 0, 0, 0, 0, 0, 0, 0, 0, 0, 0, 0, 0, 0, 0, 0, 1, 0, 0, 1, 0, 0, 0, 0, 0, 0, 0, 0, 0, 0, 0, 0, 0, 0, 0, 0, 0, 0, 0, 0, 0, 0, 0, 0, 0, 0, 0, 0, 0, 0, 0, 0, 0, 0, 0, 0, 0, 0, 0, 0, 0, 0, 0, 0, 0, 0, 0, 0, 0, 0, 0, 0, 0, 0, 0, 0, 0, 0, 0, 0, 0, 0, 0, 0, 0, 0, 0, 0, 0, 0, 0, 0, 0, 0, 0, 0, 0, 0, 0, 0, 0, 0, 0, 0, 0, 0, 0, 0, 0, 0, 0, 0, 0, 0, 0, 0, 0, 0, 0, 0, 0, 0, 0, 0, 0, 0, 0, 0, 0, 0, 0, 0, 0, 0, 0, 0, 0, 0, 0, 0, 0, 0, 0, 0, 0, 0, 0, 0, 0, 0, 0, 0, 0, 0, 0, 0, 0, 0, 0, 0, 0, 0, 0, 0, 0, 0, 0, 0, 0, 0, 0, 0, 0, 0, 0, 0, 0, 0, 0, 0, 0, 0, 0, 0, 0, 0, 0, 0, 0, 0, 0, 0, 0, 0, 0, 0, 0, 0, 0, 0, 0, 0, 0, 0, 0, 0, 0, 0, 0, 0, 0, 0, 0, 0, 0, 0, 0, 0, 0, 0, 0, 0, 0, 0, 0, 0, 0, 0, 0, 0, 0, 0, 0, 0, 0, 0, 0, 0, 0, 0, 0, 0, 0, 0, 0, 0, 0, 0, 0, 0, 0, 0, 0, 0, 0, 0, 0, 0, 0, 0, 0, 0, 0, 0, 0, 0, 0, 0, 0, 0, 0, 0, 0, 0, 0, 0, 0, 0, 0, 0, 0, 0, 0, 0, 0, 0, 0, 0, 0, 0, 0, 0, 0, 0, 0, 0, 0, 0, 0, 0, 0, 0, 0, 0, 0, 0, 0, 0, 0, 0, 0, 0, 0, 0, 0, 0, 0, 0, 0, 0, 0, 0, 0, 0, 0, 0, 0, 0, 0, 0, 0, 0, 0, 0, 0, 0, 0, 0, 0, 0, 0, 0, 0, 0, 0, 0, 0, 0, 0, 0, 0, 0, 0, 0, 0, 0, 0, 0, 0, 0, 0, 0, 0, 0, 0, 0, 0, 0, 0, 0, 0, 0, 0, 0, 0, 0, 0, 0, 0, 0, 0, 0, 0, 0, 0, 0, 0, 0, 0, 0, 0, 0, 0, 0, 0, 0, 0, 0, 0, 0, 0, 0, 0, 0, 0, 0, 0, 0, 0, 0, 0, 0, 0, 0, 0, 0, 0, 0, 0, 0, 0, 0, 0, 0, 0, 0, 0, 0, 0, 0, 0, 0, 0, 0, 0, 0, 0, 0, 0, 0, 0, 0, 0, 0, 0, 0, 0, 0, 0, 0, 0, 0, 0, 0, 0, 0, 0, 0, 0, 0, 0, 0, 0, 0, 0, 0, 0, 0, 0, 0, 0, 0, 0, 0, 0, 0, 0, 0, 0, 0, 0, 0, 0, 0, 0, 0, 1, 0, 0, 0, 0, 0, 0, 0, 0, 0, 0, 0, 0, 0, 0, 0, 0, 0, 0, 0, 0, 0, 0, 0, 0, 0, 0, 0, 0, 0, 0, 0, 0, 0, 0, 0, 0, 0, 0, 0, 0, 0, 0, 0, 0, 0, 0, 0, 0, 0, 0, 0, 0, 0, 0, 0, 0, 0, 0, 0, 0, 0, 0, 0, 0, 0, 0, 0, 0, 0, 0, 0, 0, 0, 0, 0, 0, 0, 0, 0, 0, 0, 0, 0, 0, 0, 0, 0, 0, 0, 0, 0, 0, 0, 0, 0, 0, 0, 0, 0, 0, 0, 0, 0, 0, 0, 0, 0, 0, 0, 0, 0, 0, 0, 0, 0, 0, 0, 0, 0, 0, 0, 0, 0, 0, 0, 0, 0, 0, 0, 0, 0, 0, 0, 0, 0, 0, 0, 0, 0, 0, 0, 0, 0, 0, 0, 0, 0, 0, 0, 0, 0, 0, 0, 0, 0, 0, 0, 0, 0, 0, 0, 0, 0, 0, 0, 0, 0, 0, 0, 0, 0, 0, 0, 0, 0, 0, 0, 0, 0, 0, 0, 0, 0, 0, 0, 0, 0, 0, 0, 0, 0, 0, 0, 0, 0, 0, 0, 0, 0, 0, 0, 0, 0, 0, 0, 0, 0, 0, 0, 0, 0, 0, 0, 0, 0, 0, 0, 0, 0, 0, 0, 0, 0, 0, 0, 0, 0, 0, 0, 0, 0, 0, 0, 0, 0, 0, 0, 0, 0, 0, 0, 0, 0, 0, 0, 0, 0, 0, 0, 0, 0, 0, 0, 0, 0, 0, 0, 0, 0, 0, 0, 0, 0, 0, 0, 0, 0, 0, 0, 0, 0, 0, 0, 0, 0, 0, 0, 0, 0, 0, 0, 0, 0, 0, 0, 0, 0, 0, 0, 0, 0, 0, 0, 0, 0, 0, 0, 0, 0, 0, 0, 0, 0, 0, 0, 0, 0, 0, 0, 0, 0, 0, 0, 0, 0, 0, 0, 0, 0, 0, 0, 0, 0, 0, 0, 0, 0, 0, 0, 0, 0, 0, 0, 0, 0, 0, 0, 0, 0, 0, 0, 0, 0, 0, 0, 0, 0, 0, 0, 0, 0, 0, 0, 0, 0, 0, 0, 0, 0, 0, 0, 0, 0, 0, 0, 0, 0, 0, 0, 0, 0, 0, 0, 0, 0, 0, 0, 0, 0, 0, 0, 0, 0, 0, 0, 0, 0, 0, 0, 0, 0, 0, 0, 0, 0, 0, 0, 0, 0, 0, 0, 0, 0, 0, 0, 0, 0, 0, 0, 0, 0, 0, 0, 0, 0, 0, 0, 0, 0, 0, 0, 0, 0, 0, 0, 0, 0, 0, 0, 0, 0, 0, 0, 0, 0, 0, 0, 0, 0, 0, 0, 0, 0, 0, 0, 0, 0, 0, 0, 0, 0, 0, 0, 0, 0, 0, 0, 0, 0, 0, 0, 0, 0, 0, 0, 0, 0, 0, 0, 0, 0, 0, 0, 0, 0, 0, 0, 0, 0, 0, 0, 0, 0, 0, 0, 0, 0, 0, 0, 0, 0, 0, 0, 0, 0, 0, 0, 0, 0, 0, 0, 0, 0, 0, 0, 0, 0, 0, 0, 0, 0, 0, 1, 0, 0, 0, 0, 0, 0, 0, 0, 0, 0, 0, 0, 0, 0, 0, 0, 0, 0, 0, 0, 0, 0, 0, 0, 0, 0, 0, 0, 0, 0, 0, 0, 0, 0, 0, 2, 0, 0, 0, 0, 0, 0, 0, 0, 0, 0, 0, 0, 0, 0, 0, 0, 0, 0, 0, 0, 0, 0, 0, 0, 0, 0, 0, 0, 0, 0, 0, 0, 0, 0, 0, 0, 0, 0, 0, 0, 1, 0, 0, 0, 0, 0, 0, 0, 0, 0, 0, 0, 0, 0, 0, 0, 0, 0, 0, 0, 0, 0, 0, 0, 0, 0, 0, 0, 0, 0, 0, 0, 0, 0, 0, 0, 0, 0, 0, 0, 0, 0, 0, 0, 0, 0, 0, 0, 0, 0, 0, 0, 0, 0, 0, 0, 0, 0, 0, 0, 0, 0, 0, 0, 0, 0, 0, 0, 0, 0, 0, 0, 0, 0, 0, 0, 0, 0, 0, 0, 0, 0, 0, 0, 0, 0, 0, 0, 0, 0, 0, 0, 0, 0, 0, 0, 0, 0, 0, 0, 0, 0, 0, 0, 0, 0, 0, 0, 0, 0, 0, 0, 0, 0, 0, 0, 0, 0, 0, 0, 0, 0, 0, 0, 0, 0, 0, 0, 0, 0, 0, 0, 0, 0, 0, 0, 0, 0, 0, 0, 0, 0, 0, 0, 0, 0, 0, 0, 0, 0, 0, 0, 0, 0, 0, 0, 0, 0, 0, 0, 0, 0, 0, 0, 0, 0, 0, 0, 0, 0, 0, 0, 0, 0, 0, 0, 0, 0, 0, 0, 0, 0, 0, 0, 0, 0, 0, 0, 0, 0, 0, 0, 0, 0, 0, 0, 0, 0, 0, 0, 0, 0, 0, 0, 0, 0, 0, 0, 0, 0, 0, 0, 0, 0, 0, 0, 0, 0, 0, 0, 0, 0, 0, 0, 0, 0, 0, 0, 0, 0, 0, 0, 0, 0, 0, 0, 0, 0, 0, 0, 0, 0, 0, 0, 0, 0, 0, 0, 0, 0, 0, 0, 0, 0, 0, 0, 0, 0, 0, 0, 0, 0, 0, 0, 0, 0, 0, 0, 0, 0, 0, 0, 0, 0, 0, 0, 0, 0, 0, 0, 0, 0, 0, 0, 0, 0, 0, 0, 0, 0, 0, 0, 0, 0, 0, 0, 0, 0, 0, 0, 0, 0, 0, 0, 0, 0, 0, 0, 0, 0, 0, 0, 0, 0, 0, 0, 0, 0, 0, 0, 0, 0, 0, 0, 0, 0, 0, 0, 0, 0, 0, 0, 0, 0, 0, 0, 0, 0, 0, 0, 0, 0, 0, 0, 0, 0, 0, 0, 0, 0, 0, 0, 0, 0, 0, 0, 0, 0, 0, 0, 0, 0, 0, 0, 0, 0, 0, 0, 0, 0, 0, 0, 0, 0, 0, 0, 0, 0, 0, 0, 0, 0, 0, 0, 0, 0, 0, 0, 0, 0, 0, 0, 0, 0, 0, 0, 0, 0, 0, 0, 0, 0, 0, 0, 0, 0, 0, 0, 0, 0, 0, 0, 0, 0, 0, 0, 0, 0, 0, 0, 0, 0, 0, 0, 0, 0, 0, 0, 0, 0, 0, 0, 0, 0, 0, 0, 0, 0, 0, 0, 0, 0, 0, 0, 0, 0, 0, 0, 0, 0, 0, 0, 0, 0, 0, 0, 0, 0, 0, 0, 0, 0, 0, 0, 0, 0, 0, 0, 0, 0, 0, 0, 0, 0, 0, 0, 0, 0, 0, 0, 0, 0, 0, 0, 0, 0, 0, 0, 0, 0, 0, 0, 0, 0, 0, 0, 0, 0, 1, 0, 0, 0, 0, 0, 0, 0, 0, 0, 0, 0, 0, 0, 0, 0, 0, 0, 0, 0, 0, 0, 0, 0, 0, 0, 0, 0, 0, 0, 0, 0, 0, 0, 0, 0, 0, 0, 0, 0, 0, 0, 0, 0, 0, 0, 0, 0, 0, 0, 0, 0, 0, 0, 0, 0, 0, 0, 0, 0, 0, 0, 0, 0, 0, 0, 0, 0, 0, 0, 0, 0, 0, 0, 0, 0, 0, 0, 0, 0, 0, 0, 0, 0, 0, 0, 0, 0, 0, 0, 0, 0, 0, 0, 0, 0, 0, 0, 0, 0, 0, 0, 0, 0, 0, 0, 0, 0, 0, 0, 0, 2, 0, 0, 0, 0, 0, 0, 0, 0, 0, 0, 0, 0, 0, 0, 0, 0, 0, 0, 0, 0, 0, 0, 0, 0, 0, 0, 0, 0, 0, 0, 0, 0, 0, 0, 0, 0, 0, 0, 0, 0, 0, 0, 0, 0, 0, 0, 0, 0, 0, 0, 0, 0, 0, 0, 0, 0, 0, 0, 0, 0, 0, 0, 0, 0, 0, 0, 0, 0, 0, 0, 0, 0, 0, 0, 0, 0, 0, 0, 0, 0, 0, 0, 0, 0, 0, 0, 0, 0, 0, 0, 0, 0, 0, 0, 0, 0, 0, 0, 0, 0, 0, 0, 0, 0, 0, 0, 0, 0, 0, 0, 0, 0, 0, 0, 0, 0, 0, 0, 0, 0, 0, 0, 0, 0, 0, 0, 0, 0, 0, 0, 0, 0, 0, 0, 0, 0, 0, 0, 0, 0, 0, 0, 0, 0, 0, 0, 0, 0, 0, 0, 0, 0, 0, 0, 0, 0, 0, 0, 0, 0, 0, 0, 0, 0, 0, 0, 0, 0, 0, 0, 0, 0, 0, 0, 0, 0, 0, 0, 0, 0, 0, 0, 0, 0, 0, 0, 0, 0, 0, 0, 0, 0, 0, 0, 0, 0, 0, 0, 0, 0, 0, 0, 0, 0, 0, 0, 0, 0, 0, 0, 0, 0, 0, 0, 0, 0, 0, 0, 0, 0, 0, 0, 0, 0, 0, 0, 0, 0, 0, 0, 0, 0, 0, 0, 0, 0, 0, 0, 0, 0, 0, 0, 0, 0, 0, 0, 0, 0, 0, 0, 0, 0, 0, 0, 0, 0, 0, 0, 0, 0, 0, 0, 0, 0, 0, 0, 0, 0, 0, 0, 0, 0, 0, 0, 0, 0, 0, 0, 0, 0, 0, 0, 0, 0, 0, 0, 0, 0, 0, 0, 0, 0, 0, 0, 0, 0, 0, 0, 0, 0, 0, 0, 0, 0, 0, 0, 0, 0, 0, 0, 0, 0, 0, 0, 0, 0, 0, 0, 0, 0, 0, 0, 0, 0, 0, 0, 0, 0, 0, 0, 0, 0, 0, 0, 0, 0, 0, 0, 0, 0, 0, 0, 0, 0, 0, 0, 0, 0, 0, 0, 0, 0, 0, 0, 0, 0, 0, 0, 0, 0, 0, 0, 0, 0, 0, 0, 0, 0, 0, 0, 0, 0, 0, 0, 0, 0, 0, 0, 0, 0, 0, 0, 0, 0, 0, 0, 0, 0, 0, 0, 0, 0, 0, 0, 0, 0, 0, 0, 0, 0, 0, 0, 0, 0, 0, 0, 0, 0, 0, 0, 0, 0, 0, 0, 0, 0, 0, 0, 0, 0, 0, 0, 0, 0, 0, 0, 0, 0, 0, 0, 0, 0, 0, 0, 0, 0, 0, 0, 0, 0, 0, 0, 0, 0, 0, 0, 0, 0, 0, 0, 0, 0, 0, 0, 0, 0, 0, 0, 0, 0, 0, 0, 0, 0, 0, 0, 0, 0, 0, 0, 0, 0, 0, 0, 0, 0, 0, 0, 0, 0, 0, 0, 0, 0, 0, 0, 0, 0, 0, 0, 0, 0, 0, 0, 0, 0, 0, 0, 0, 0, 0, 0, 0, 0, 0, 0, 0, 0, 0, 0, 0, 0, 0, 0, 0, 0, 0, 0, 0, 0, 0, 0, 0, 0, 0, 0, 0, 0, 0, 0, 0, 0, 0, 0, 0, 0, 0, 0, 0, 0, 0, 0, 0, 0, 0, 0, 0, 0, 0, 0, 0, 0, 0, 0, 0, 0, 0, 0, 0, 0, 0, 0, 0, 0, 0, 0, 0, 0, 0, 0, 0, 0, 0, 0, 0, 0, 0, 0, 0, 0, 0, 0, 0, 0, 0, 0, 0, 0, 0, 0, 0, 0, 0, 0, 0, 0, 0, 0, 0, 0, 0, 0, 0, 0, 0, 0, 0, 0, 0, 0, 0, 0, 0, 0, 0, 0, 0, 0, 0, 0, 0, 0, 0, 0, 0, 0, 0, 0, 0, 0, 0, 0, 0, 0, 0, 0, 0, 0, 0, 0, 0, 0, 0, 0, 0, 0, 0, 0, 0, 0, 0, 0, 0, 0, 0, 0, 0, 0, 0, 0, 0, 0, 0, 0, 0, 0, 0, 0, 0, 0, 0, 0, 0, 0, 0, 0, 0, 0, 0, 0, 0, 0, 0, 0, 0, 0, 0, 0, 0, 0, 1, 0, 0, 0, 0, 0, 0, 0, 0, 0, 0, 0, 0, 0, 0, 0, 0, 0, 0, 0, 0, 0, 0, 0, 0, 0, 0, 0, 0, 0, 0, 0, 0, 0, 0, 0, 0, 0, 0, 0, 0, 0, 0, 0, 0, 0, 0, 0, 0, 0, 0, 0, 0, 0, 0, 0, 0, 0, 0, 0, 0, 0, 0, 0, 0, 0, 0, 0, 0, 0, 0, 0, 0, 0, 0, 0, 0, 0, 0, 0, 0, 0, 0, 0, 0, 0, 0, 0, 0, 0, 0, 0, 0, 0, 0, 0, 0, 0, 0, 0, 0, 0, 0, 0, 0, 0, 0, 0, 1, 0, 0, 0, 0, 0, 0, 0, 0, 0, 0, 0, 0, 0, 0, 0, 0, 0, 0, 0, 0, 0, 0, 0, 0, 0, 0, 0, 0, 0, 0, 0, 0, 0, 0, 0, 0, 0, 0, 0, 0, 0, 0, 0, 0, 0, 0, 0, 0, 0, 0, 0, 0, 0, 0, 0, 0, 0, 0, 0, 0, 0, 0, 0, 0, 0, 0, 0, 0, 0, 0, 0, 0, 0, 0, 0, 0, 0, 0, 0, 0, 0, 0, 0, 0, 0, 0, 0, 0, 0, 0, 0, 0, 0, 0, 0, 0, 0, 0, 0, 0, 0, 0, 0, 0, 0, 0, 0, 0, 0, 0, 0, 0, 0, 0, 0, 0, 0, 0, 0, 0, 0, 0, 0, 0, 0, 0, 0, 0, 0, 0, 0, 0, 0, 0, 0, 0, 0, 0, 0, 0, 0, 0, 0, 0, 0, 0, 0, 0, 0, 0, 0, 0, 0, 0, 0, 0, 0, 0, 0, 0, 0, 0, 0, 0, 0, 0, 0, 0, 0, 0, 0, 0, 0, 0, 0, 0, 0, 0, 0, 0, 0, 0, 0, 0, 0, 0, 0, 0, 0, 0, 0, 0, 0, 0, 0, 0, 0, 0, 0, 0, 0, 0, 0, 0, 0, 0, 0, 0, 0, 0, 0, 0, 0, 0, 0, 0, 0, 0, 0, 0, 0, 0, 0, 0, 0, 0, 0, 0, 0, 0, 0, 0, 0, 0, 0, 0, 0, 0, 0, 0, 0, 0, 0, 0, 0, 0, 0, 0, 0, 0, 0, 0, 0, 0, 0, 0, 0, 0, 0, 0, 0, 0, 0, 0, 0, 0, 0, 0, 0, 0, 0, 0, 0, 0, 0, 0, 0, 0, 0, 0, 0, 0, 0, 0, 0, 0, 0, 0, 0, 0, 0, 0, 0, 0, 0, 0, 0, 0, 0, 0, 0, 0, 0, 0, 0, 0, 0, 0, 0, 0, 0, 0, 0, 0, 0, 0, 0, 0, 0, 0, 0, 0, 0, 0, 0, 0, 0, 0, 0, 0, 0, 0, 0, 0, 0, 0, 0, 0, 0, 0, 0, 0, 0, 0, 0, 0, 0, 0, 0, 0, 0, 0, 0, 0, 0, 0, 0, 0, 0, 0, 0, 0, 0, 0, 0, 0, 0, 0, 0, 0, 0, 0, 0, 0, 0, 0, 0, 0, 0, 0, 0, 0, 0, 0, 0, 0, 0, 0, 0, 0, 0, 0, 0, 0, 0, 0, 0, 0, 0, 0, 0, 0, 0, 0, 0, 0, 0, 0, 0, 0, 0, 0, 0, 0, 0, 0, 0, 0, 0, 0, 0, 0, 0, 0, 0, 0, 0, 0, 0, 0, 0, 0, 0, 0, 0, 0, 0, 0, 0, 0, 0, 0, 0, 0, 0, 0, 0, 0, 0, 0, 0, 0, 0, 0, 0, 0, 0, 0, 0, 0, 0, 0, 0, 2, 0, 1, 0], type: <class 'list'>, valid types: <class 'bytes'>, <class 'bytearray'>, file-like object",
     "output_type": "error",
     "traceback": [
      "\u001b[0;31m---------------------------------------------------------------------------\u001b[0m",
      "\u001b[0;31mParamValidationError\u001b[0m                      Traceback (most recent call last)",
      "\u001b[0;32m<ipython-input-46-c9ab54ae3a48>\u001b[0m in \u001b[0;36m<module>\u001b[0;34m()\u001b[0m\n\u001b[1;32m      1\u001b[0m response = runtime.invoke_endpoint(EndpointName = xgb_predictor.endpoint, # The name of the endpoint we created\n\u001b[1;32m      2\u001b[0m                                        \u001b[0mContentType\u001b[0m \u001b[0;34m=\u001b[0m \u001b[0;34m'text/csv'\u001b[0m\u001b[0;34m,\u001b[0m                     \u001b[0;31m# The data format that is expected\u001b[0m\u001b[0;34m\u001b[0m\u001b[0m\n\u001b[0;32m----> 3\u001b[0;31m                                        Body = test_bow)\n\u001b[0m",
      "\u001b[0;32m~/anaconda3/envs/python3/lib/python3.6/site-packages/botocore/client.py\u001b[0m in \u001b[0;36m_api_call\u001b[0;34m(self, *args, **kwargs)\u001b[0m\n\u001b[1;32m    314\u001b[0m                     \"%s() only accepts keyword arguments.\" % py_operation_name)\n\u001b[1;32m    315\u001b[0m             \u001b[0;31m# The \"self\" in this scope is referring to the BaseClient.\u001b[0m\u001b[0;34m\u001b[0m\u001b[0;34m\u001b[0m\u001b[0m\n\u001b[0;32m--> 316\u001b[0;31m             \u001b[0;32mreturn\u001b[0m \u001b[0mself\u001b[0m\u001b[0;34m.\u001b[0m\u001b[0m_make_api_call\u001b[0m\u001b[0;34m(\u001b[0m\u001b[0moperation_name\u001b[0m\u001b[0;34m,\u001b[0m \u001b[0mkwargs\u001b[0m\u001b[0;34m)\u001b[0m\u001b[0;34m\u001b[0m\u001b[0m\n\u001b[0m\u001b[1;32m    317\u001b[0m \u001b[0;34m\u001b[0m\u001b[0m\n\u001b[1;32m    318\u001b[0m         \u001b[0m_api_call\u001b[0m\u001b[0;34m.\u001b[0m\u001b[0m__name__\u001b[0m \u001b[0;34m=\u001b[0m \u001b[0mstr\u001b[0m\u001b[0;34m(\u001b[0m\u001b[0mpy_operation_name\u001b[0m\u001b[0;34m)\u001b[0m\u001b[0;34m\u001b[0m\u001b[0m\n",
      "\u001b[0;32m~/anaconda3/envs/python3/lib/python3.6/site-packages/botocore/client.py\u001b[0m in \u001b[0;36m_make_api_call\u001b[0;34m(self, operation_name, api_params)\u001b[0m\n\u001b[1;32m    597\u001b[0m         }\n\u001b[1;32m    598\u001b[0m         request_dict = self._convert_to_request_dict(\n\u001b[0;32m--> 599\u001b[0;31m             api_params, operation_model, context=request_context)\n\u001b[0m\u001b[1;32m    600\u001b[0m \u001b[0;34m\u001b[0m\u001b[0m\n\u001b[1;32m    601\u001b[0m         \u001b[0mservice_id\u001b[0m \u001b[0;34m=\u001b[0m \u001b[0mself\u001b[0m\u001b[0;34m.\u001b[0m\u001b[0m_service_model\u001b[0m\u001b[0;34m.\u001b[0m\u001b[0mservice_id\u001b[0m\u001b[0;34m.\u001b[0m\u001b[0mhyphenize\u001b[0m\u001b[0;34m(\u001b[0m\u001b[0;34m)\u001b[0m\u001b[0;34m\u001b[0m\u001b[0m\n",
      "\u001b[0;32m~/anaconda3/envs/python3/lib/python3.6/site-packages/botocore/client.py\u001b[0m in \u001b[0;36m_convert_to_request_dict\u001b[0;34m(self, api_params, operation_model, context)\u001b[0m\n\u001b[1;32m    645\u001b[0m             api_params, operation_model, context)\n\u001b[1;32m    646\u001b[0m         request_dict = self._serializer.serialize_to_request(\n\u001b[0;32m--> 647\u001b[0;31m             api_params, operation_model)\n\u001b[0m\u001b[1;32m    648\u001b[0m         \u001b[0;32mif\u001b[0m \u001b[0;32mnot\u001b[0m \u001b[0mself\u001b[0m\u001b[0;34m.\u001b[0m\u001b[0m_client_config\u001b[0m\u001b[0;34m.\u001b[0m\u001b[0minject_host_prefix\u001b[0m\u001b[0;34m:\u001b[0m\u001b[0;34m\u001b[0m\u001b[0m\n\u001b[1;32m    649\u001b[0m             \u001b[0mrequest_dict\u001b[0m\u001b[0;34m.\u001b[0m\u001b[0mpop\u001b[0m\u001b[0;34m(\u001b[0m\u001b[0;34m'host_prefix'\u001b[0m\u001b[0;34m,\u001b[0m \u001b[0;32mNone\u001b[0m\u001b[0;34m)\u001b[0m\u001b[0;34m\u001b[0m\u001b[0m\n",
      "\u001b[0;32m~/anaconda3/envs/python3/lib/python3.6/site-packages/botocore/validate.py\u001b[0m in \u001b[0;36mserialize_to_request\u001b[0;34m(self, parameters, operation_model)\u001b[0m\n\u001b[1;32m    295\u001b[0m                                                     operation_model.input_shape)\n\u001b[1;32m    296\u001b[0m             \u001b[0;32mif\u001b[0m \u001b[0mreport\u001b[0m\u001b[0;34m.\u001b[0m\u001b[0mhas_errors\u001b[0m\u001b[0;34m(\u001b[0m\u001b[0;34m)\u001b[0m\u001b[0;34m:\u001b[0m\u001b[0;34m\u001b[0m\u001b[0m\n\u001b[0;32m--> 297\u001b[0;31m                 \u001b[0;32mraise\u001b[0m \u001b[0mParamValidationError\u001b[0m\u001b[0;34m(\u001b[0m\u001b[0mreport\u001b[0m\u001b[0;34m=\u001b[0m\u001b[0mreport\u001b[0m\u001b[0;34m.\u001b[0m\u001b[0mgenerate_report\u001b[0m\u001b[0;34m(\u001b[0m\u001b[0;34m)\u001b[0m\u001b[0;34m)\u001b[0m\u001b[0;34m\u001b[0m\u001b[0m\n\u001b[0m\u001b[1;32m    298\u001b[0m         return self._serializer.serialize_to_request(parameters,\n\u001b[1;32m    299\u001b[0m                                                      operation_model)\n",
      "\u001b[0;31mParamValidationError\u001b[0m: Parameter validation failed:\nInvalid type for parameter Body, value: [0, 0, 0, 0, 0, 0, 0, 0, 0, 0, 0, 0, 0, 0, 0, 0, 0, 0, 0, 0, 0, 0, 0, 0, 0, 0, 0, 0, 0, 0, 0, 0, 0, 0, 0, 0, 0, 0, 0, 0, 0, 0, 0, 0, 0, 0, 0, 0, 0, 0, 0, 0, 0, 0, 0, 0, 0, 0, 0, 0, 0, 0, 0, 0, 0, 0, 0, 0, 0, 0, 0, 0, 0, 0, 0, 0, 0, 0, 0, 0, 0, 0, 0, 0, 0, 0, 0, 0, 0, 0, 0, 0, 0, 0, 0, 0, 0, 0, 0, 0, 0, 0, 0, 0, 0, 0, 0, 0, 0, 0, 0, 0, 0, 0, 0, 0, 0, 0, 0, 0, 0, 0, 0, 0, 0, 0, 0, 0, 0, 0, 0, 0, 0, 0, 0, 0, 0, 0, 0, 0, 0, 0, 0, 0, 0, 0, 0, 0, 0, 0, 0, 0, 0, 0, 0, 0, 0, 0, 0, 0, 0, 0, 0, 0, 0, 0, 0, 0, 0, 0, 0, 0, 0, 0, 0, 0, 0, 0, 0, 0, 0, 0, 0, 0, 0, 0, 0, 0, 0, 0, 0, 0, 0, 0, 0, 0, 0, 0, 0, 0, 0, 0, 0, 0, 0, 0, 0, 0, 0, 0, 0, 0, 0, 0, 0, 0, 0, 0, 0, 0, 0, 0, 0, 0, 0, 0, 1, 0, 0, 0, 0, 0, 0, 0, 0, 0, 0, 0, 0, 0, 0, 0, 0, 0, 0, 0, 0, 0, 0, 0, 0, 0, 0, 0, 0, 0, 1, 0, 0, 0, 0, 0, 0, 0, 0, 0, 0, 0, 0, 0, 0, 0, 0, 0, 0, 0, 0, 0, 0, 0, 0, 0, 0, 0, 0, 0, 0, 0, 0, 0, 0, 0, 0, 0, 0, 0, 0, 0, 0, 0, 0, 0, 0, 0, 0, 0, 0, 0, 0, 0, 0, 0, 0, 0, 0, 0, 0, 0, 0, 0, 0, 0, 0, 0, 0, 0, 0, 0, 0, 0, 0, 0, 0, 0, 0, 0, 0, 0, 0, 0, 0, 0, 0, 0, 0, 0, 0, 0, 0, 0, 0, 0, 0, 0, 0, 0, 0, 0, 0, 0, 0, 0, 0, 0, 0, 0, 0, 0, 0, 0, 0, 0, 0, 0, 0, 0, 0, 0, 0, 0, 0, 0, 0, 0, 0, 0, 0, 0, 0, 0, 0, 0, 0, 0, 0, 0, 0, 0, 0, 0, 0, 0, 0, 0, 0, 0, 0, 0, 0, 0, 0, 0, 0, 0, 0, 0, 0, 0, 0, 0, 0, 0, 0, 0, 0, 0, 0, 0, 0, 0, 0, 0, 0, 0, 0, 0, 0, 0, 0, 0, 0, 0, 0, 0, 0, 0, 0, 0, 0, 0, 0, 0, 0, 0, 0, 0, 0, 0, 0, 0, 0, 0, 0, 0, 0, 0, 0, 0, 0, 0, 0, 0, 0, 0, 0, 0, 0, 0, 0, 0, 0, 0, 0, 0, 0, 0, 0, 0, 0, 0, 0, 0, 0, 0, 0, 0, 0, 0, 0, 0, 0, 0, 0, 0, 0, 0, 0, 0, 0, 0, 0, 0, 0, 0, 0, 0, 0, 0, 0, 0, 0, 0, 0, 0, 0, 0, 0, 0, 0, 0, 0, 0, 0, 0, 0, 0, 0, 0, 0, 0, 0, 0, 0, 0, 0, 0, 0, 0, 0, 0, 0, 0, 0, 0, 0, 0, 0, 0, 0, 0, 0, 0, 0, 0, 0, 0, 0, 0, 0, 0, 0, 0, 0, 0, 0, 0, 0, 0, 0, 0, 0, 0, 0, 0, 0, 0, 0, 0, 0, 0, 0, 0, 0, 0, 0, 0, 0, 0, 0, 0, 0, 0, 0, 0, 0, 0, 0, 0, 0, 0, 0, 0, 0, 0, 0, 0, 0, 0, 0, 0, 0, 0, 0, 0, 0, 0, 0, 0, 0, 0, 0, 0, 0, 0, 0, 0, 1, 0, 0, 0, 0, 0, 0, 0, 0, 0, 0, 0, 0, 0, 0, 0, 0, 0, 0, 0, 0, 0, 0, 0, 0, 0, 0, 0, 0, 0, 0, 0, 0, 0, 0, 0, 0, 0, 0, 0, 0, 0, 0, 0, 0, 0, 0, 0, 0, 0, 0, 0, 0, 0, 0, 0, 0, 0, 0, 0, 0, 0, 0, 0, 0, 0, 0, 0, 0, 0, 0, 0, 0, 0, 0, 0, 0, 0, 0, 0, 0, 0, 0, 0, 0, 0, 0, 0, 0, 0, 0, 0, 0, 0, 0, 0, 0, 0, 0, 0, 0, 0, 0, 0, 0, 0, 0, 0, 0, 0, 0, 0, 0, 0, 0, 0, 0, 0, 0, 0, 0, 0, 0, 0, 0, 0, 0, 0, 0, 0, 0, 0, 0, 0, 0, 0, 0, 0, 0, 0, 0, 0, 0, 0, 0, 0, 0, 0, 0, 0, 0, 0, 0, 0, 0, 0, 0, 0, 0, 0, 0, 0, 0, 0, 0, 0, 0, 0, 0, 0, 0, 0, 0, 0, 0, 0, 0, 0, 0, 0, 0, 0, 0, 0, 0, 0, 0, 0, 0, 0, 0, 0, 0, 0, 0, 0, 0, 0, 0, 0, 0, 0, 0, 0, 0, 0, 0, 0, 0, 0, 0, 0, 0, 0, 0, 0, 0, 0, 0, 0, 0, 0, 0, 0, 0, 0, 0, 0, 0, 0, 0, 0, 0, 0, 0, 0, 0, 0, 0, 0, 0, 0, 0, 0, 0, 0, 0, 0, 0, 0, 0, 0, 0, 0, 1, 0, 0, 0, 0, 0, 0, 0, 0, 0, 0, 0, 0, 0, 0, 0, 0, 0, 0, 0, 0, 0, 0, 0, 0, 0, 0, 0, 0, 0, 0, 0, 0, 0, 0, 0, 0, 0, 0, 0, 0, 0, 0, 0, 0, 0, 0, 0, 0, 0, 0, 0, 0, 0, 0, 0, 0, 0, 0, 0, 0, 0, 0, 0, 0, 0, 0, 0, 0, 0, 0, 0, 0, 0, 0, 0, 0, 0, 0, 0, 0, 0, 0, 0, 0, 0, 0, 1, 0, 0, 0, 0, 0, 0, 0, 0, 0, 0, 0, 0, 0, 0, 0, 0, 0, 0, 0, 0, 0, 0, 0, 0, 0, 0, 0, 0, 0, 0, 0, 0, 0, 0, 0, 0, 0, 0, 0, 0, 0, 0, 0, 0, 0, 0, 0, 0, 0, 0, 0, 0, 0, 0, 0, 0, 0, 0, 0, 0, 0, 0, 0, 0, 0, 0, 0, 0, 0, 0, 0, 0, 0, 0, 0, 0, 0, 0, 0, 0, 0, 0, 0, 0, 0, 0, 0, 0, 0, 0, 0, 0, 0, 0, 0, 0, 0, 0, 0, 0, 0, 0, 0, 0, 0, 0, 0, 0, 0, 0, 0, 0, 0, 0, 0, 0, 0, 0, 0, 0, 0, 0, 0, 0, 0, 0, 0, 0, 0, 0, 0, 0, 0, 0, 0, 0, 0, 0, 0, 0, 0, 0, 0, 0, 0, 0, 0, 0, 0, 0, 0, 0, 0, 0, 0, 0, 0, 0, 0, 0, 0, 0, 0, 0, 0, 0, 0, 0, 0, 0, 0, 0, 0, 0, 0, 0, 0, 0, 0, 0, 0, 0, 0, 0, 0, 0, 0, 0, 0, 0, 0, 0, 0, 0, 0, 0, 0, 0, 0, 0, 0, 0, 0, 0, 0, 0, 0, 0, 0, 0, 0, 0, 0, 0, 0, 0, 0, 0, 0, 0, 0, 0, 0, 0, 0, 0, 0, 0, 0, 0, 0, 0, 0, 0, 0, 0, 0, 0, 0, 0, 0, 0, 0, 0, 0, 0, 0, 0, 0, 0, 0, 0, 1, 0, 0, 0, 0, 0, 0, 0, 0, 0, 0, 0, 0, 0, 0, 0, 0, 0, 0, 0, 0, 0, 0, 0, 0, 0, 0, 0, 0, 0, 0, 0, 0, 0, 0, 0, 0, 0, 0, 0, 0, 0, 0, 0, 0, 0, 0, 0, 0, 0, 0, 0, 0, 0, 0, 0, 1, 0, 0, 0, 0, 0, 0, 0, 0, 0, 0, 0, 0, 0, 0, 0, 0, 0, 0, 0, 0, 0, 0, 0, 0, 0, 0, 0, 0, 0, 0, 0, 0, 0, 0, 0, 0, 0, 0, 0, 0, 0, 0, 0, 0, 0, 0, 0, 0, 0, 0, 0, 0, 0, 0, 0, 0, 0, 0, 0, 0, 0, 0, 0, 0, 0, 0, 0, 0, 0, 0, 0, 0, 0, 0, 0, 0, 0, 0, 0, 0, 0, 0, 0, 0, 0, 0, 0, 0, 0, 0, 0, 0, 0, 0, 0, 0, 0, 0, 0, 0, 0, 0, 0, 0, 0, 0, 0, 0, 0, 0, 0, 0, 0, 0, 0, 0, 0, 0, 0, 0, 0, 0, 0, 0, 0, 0, 0, 0, 0, 0, 0, 0, 0, 0, 0, 0, 0, 0, 0, 0, 0, 0, 0, 0, 0, 0, 0, 0, 0, 0, 0, 0, 0, 0, 0, 0, 0, 0, 0, 0, 0, 0, 0, 0, 0, 0, 0, 0, 0, 0, 0, 0, 0, 0, 0, 0, 0, 0, 0, 0, 0, 0, 0, 0, 0, 0, 0, 0, 0, 0, 0, 0, 0, 0, 0, 0, 0, 0, 0, 0, 0, 0, 0, 0, 0, 0, 0, 0, 0, 0, 0, 0, 0, 0, 0, 0, 0, 0, 0, 0, 0, 0, 0, 0, 0, 0, 0, 0, 0, 0, 0, 0, 0, 0, 0, 0, 0, 0, 0, 0, 0, 0, 0, 0, 0, 0, 0, 0, 0, 0, 0, 0, 0, 0, 0, 0, 0, 0, 0, 0, 0, 0, 0, 0, 0, 0, 0, 0, 0, 0, 0, 0, 0, 0, 0, 0, 0, 0, 0, 0, 0, 0, 0, 0, 0, 0, 0, 0, 0, 0, 0, 0, 0, 0, 0, 0, 0, 0, 0, 0, 0, 0, 0, 0, 0, 0, 0, 0, 0, 0, 0, 0, 0, 0, 0, 0, 0, 0, 0, 0, 0, 0, 0, 0, 0, 0, 0, 0, 0, 0, 0, 0, 0, 0, 0, 0, 0, 0, 0, 0, 0, 0, 0, 0, 0, 0, 0, 0, 0, 0, 0, 0, 0, 0, 0, 0, 0, 0, 0, 0, 0, 0, 0, 0, 0, 0, 0, 0, 0, 0, 0, 0, 0, 0, 0, 0, 0, 0, 0, 0, 0, 0, 0, 0, 0, 0, 0, 0, 0, 0, 0, 0, 0, 0, 0, 0, 0, 0, 0, 0, 0, 0, 0, 0, 0, 0, 0, 0, 0, 0, 0, 0, 0, 0, 0, 0, 0, 0, 0, 0, 0, 0, 0, 0, 0, 0, 0, 0, 0, 0, 0, 0, 0, 0, 0, 0, 0, 0, 0, 0, 0, 0, 0, 0, 0, 0, 0, 0, 0, 0, 0, 0, 0, 0, 0, 0, 0, 0, 0, 0, 0, 0, 0, 0, 0, 0, 0, 0, 0, 0, 0, 0, 0, 0, 0, 0, 0, 0, 0, 0, 0, 0, 0, 0, 0, 0, 0, 0, 0, 0, 0, 0, 0, 0, 0, 0, 0, 0, 0, 0, 0, 0, 0, 0, 0, 0, 0, 0, 0, 0, 0, 0, 0, 0, 0, 0, 0, 0, 0, 0, 0, 0, 0, 0, 0, 0, 0, 0, 0, 0, 0, 0, 0, 0, 0, 0, 0, 0, 0, 0, 0, 0, 0, 0, 0, 0, 0, 0, 0, 0, 0, 0, 0, 0, 0, 0, 0, 0, 0, 0, 0, 0, 0, 0, 0, 0, 0, 0, 0, 0, 0, 0, 0, 0, 0, 0, 0, 0, 0, 0, 0, 0, 0, 0, 0, 0, 0, 0, 0, 0, 0, 0, 0, 0, 0, 0, 0, 0, 0, 0, 0, 0, 0, 0, 0, 0, 0, 0, 0, 0, 0, 0, 0, 0, 0, 0, 0, 0, 0, 0, 0, 0, 0, 0, 0, 0, 0, 0, 0, 0, 0, 0, 0, 0, 0, 0, 0, 0, 0, 0, 0, 0, 0, 0, 0, 0, 0, 0, 0, 0, 0, 0, 0, 0, 0, 0, 0, 0, 0, 0, 0, 0, 0, 0, 0, 0, 0, 0, 0, 0, 0, 0, 0, 0, 0, 0, 0, 0, 0, 0, 0, 1, 0, 0, 0, 0, 0, 0, 0, 0, 0, 0, 0, 0, 0, 0, 0, 0, 0, 0, 0, 0, 0, 0, 0, 0, 0, 0, 0, 0, 0, 0, 0, 0, 0, 0, 0, 0, 0, 0, 0, 0, 0, 0, 0, 0, 0, 0, 0, 0, 0, 0, 0, 0, 0, 0, 0, 0, 0, 0, 0, 0, 0, 0, 0, 0, 0, 0, 0, 0, 0, 0, 0, 0, 0, 0, 1, 0, 0, 0, 0, 0, 0, 0, 0, 0, 0, 0, 0, 0, 0, 0, 0, 0, 0, 0, 0, 1, 0, 0, 1, 0, 0, 0, 0, 0, 0, 0, 0, 0, 0, 0, 0, 0, 0, 0, 0, 0, 0, 0, 0, 0, 0, 0, 0, 0, 0, 0, 0, 0, 0, 0, 0, 0, 0, 0, 0, 0, 0, 0, 0, 0, 0, 0, 0, 0, 0, 0, 0, 0, 0, 0, 0, 0, 0, 0, 0, 0, 0, 0, 0, 0, 0, 0, 0, 0, 0, 0, 0, 0, 0, 0, 0, 0, 0, 0, 0, 0, 0, 0, 0, 0, 0, 0, 0, 0, 0, 0, 0, 0, 0, 0, 0, 0, 0, 0, 0, 0, 0, 0, 0, 0, 0, 0, 0, 0, 0, 0, 0, 0, 0, 0, 0, 0, 0, 0, 0, 0, 0, 0, 0, 0, 0, 0, 0, 0, 0, 0, 0, 0, 0, 0, 0, 0, 0, 0, 0, 0, 0, 0, 0, 0, 0, 0, 0, 0, 0, 0, 0, 0, 0, 0, 0, 0, 0, 0, 0, 0, 0, 0, 0, 0, 0, 0, 0, 0, 0, 0, 0, 0, 0, 0, 0, 0, 0, 0, 0, 0, 0, 0, 0, 0, 0, 0, 0, 0, 0, 0, 0, 0, 0, 0, 0, 0, 0, 0, 0, 0, 0, 0, 0, 0, 0, 0, 0, 0, 0, 0, 0, 0, 0, 0, 0, 0, 0, 0, 0, 0, 0, 0, 0, 0, 0, 0, 0, 0, 0, 0, 0, 0, 0, 0, 0, 0, 0, 0, 0, 0, 0, 0, 0, 0, 0, 0, 0, 0, 0, 0, 0, 0, 0, 0, 0, 0, 0, 0, 0, 0, 0, 0, 0, 0, 0, 0, 0, 0, 0, 0, 0, 0, 0, 0, 0, 0, 0, 0, 0, 0, 0, 0, 0, 0, 0, 0, 0, 0, 0, 0, 0, 0, 0, 0, 0, 0, 0, 0, 0, 0, 0, 0, 0, 0, 0, 0, 0, 0, 0, 0, 0, 0, 0, 0, 0, 0, 0, 0, 0, 0, 0, 0, 0, 0, 0, 0, 0, 0, 0, 0, 0, 0, 0, 0, 0, 0, 0, 0, 0, 0, 0, 0, 0, 0, 0, 0, 0, 0, 0, 0, 0, 0, 0, 0, 0, 0, 0, 0, 0, 0, 0, 0, 0, 0, 0, 0, 0, 0, 0, 0, 0, 0, 0, 0, 0, 0, 0, 0, 0, 0, 0, 0, 0, 0, 0, 0, 0, 0, 0, 0, 0, 0, 0, 0, 0, 0, 0, 0, 0, 0, 0, 0, 0, 0, 0, 0, 0, 0, 0, 0, 0, 0, 0, 0, 0, 0, 0, 0, 0, 0, 0, 0, 0, 0, 0, 0, 0, 0, 0, 0, 0, 0, 0, 0, 0, 0, 0, 0, 0, 0, 0, 0, 0, 0, 0, 0, 0, 0, 0, 0, 0, 0, 0, 0, 0, 0, 0, 0, 0, 0, 0, 0, 0, 0, 0, 0, 0, 0, 0, 1, 0, 0, 0, 0, 0, 0, 0, 0, 0, 0, 0, 0, 0, 0, 0, 0, 0, 0, 0, 0, 0, 0, 0, 0, 0, 0, 0, 0, 0, 0, 0, 0, 0, 0, 0, 0, 0, 0, 0, 0, 0, 0, 0, 0, 0, 0, 0, 0, 0, 0, 0, 0, 0, 0, 0, 0, 0, 0, 0, 0, 0, 0, 0, 0, 0, 0, 0, 0, 0, 0, 0, 0, 0, 0, 0, 0, 0, 0, 0, 0, 0, 0, 0, 0, 0, 0, 0, 0, 0, 0, 0, 0, 0, 0, 0, 0, 0, 0, 0, 0, 0, 0, 0, 0, 0, 0, 0, 0, 0, 0, 0, 0, 0, 0, 0, 0, 0, 0, 0, 0, 0, 0, 0, 0, 0, 0, 0, 0, 0, 0, 0, 0, 0, 0, 0, 0, 0, 0, 0, 0, 0, 0, 0, 0, 0, 0, 0, 0, 0, 0, 0, 0, 0, 0, 0, 0, 0, 0, 0, 0, 0, 0, 0, 0, 0, 0, 0, 0, 0, 0, 0, 0, 0, 0, 0, 0, 0, 0, 0, 0, 0, 0, 0, 0, 0, 0, 0, 0, 0, 0, 0, 0, 0, 0, 0, 0, 0, 0, 0, 0, 0, 0, 0, 0, 0, 0, 0, 0, 0, 0, 0, 0, 0, 0, 0, 0, 0, 0, 0, 0, 0, 0, 0, 0, 0, 0, 0, 0, 0, 0, 0, 0, 0, 0, 0, 0, 0, 0, 0, 0, 0, 0, 0, 0, 0, 0, 0, 0, 0, 0, 0, 0, 0, 0, 0, 0, 0, 0, 0, 0, 0, 0, 0, 0, 0, 0, 0, 0, 0, 0, 0, 0, 0, 0, 0, 0, 0, 0, 0, 0, 0, 0, 0, 0, 0, 0, 0, 0, 0, 0, 0, 0, 0, 0, 0, 0, 0, 0, 0, 0, 0, 0, 0, 0, 0, 0, 0, 0, 0, 0, 0, 0, 0, 0, 0, 0, 0, 0, 0, 0, 0, 0, 0, 0, 0, 0, 0, 0, 0, 0, 0, 0, 0, 0, 0, 0, 0, 0, 0, 0, 0, 0, 0, 0, 0, 0, 0, 0, 0, 0, 0, 0, 0, 0, 0, 0, 0, 0, 0, 0, 0, 0, 0, 0, 0, 0, 0, 0, 0, 0, 0, 0, 0, 0, 0, 0, 0, 0, 0, 0, 0, 0, 0, 0, 0, 0, 0, 0, 0, 0, 0, 0, 0, 0, 0, 0, 0, 0, 0, 0, 0, 0, 0, 0, 0, 0, 0, 0, 0, 0, 0, 0, 0, 0, 0, 0, 0, 0, 0, 0, 0, 0, 0, 0, 0, 0, 0, 0, 0, 0, 0, 0, 0, 0, 0, 0, 0, 0, 0, 0, 0, 0, 0, 0, 0, 0, 0, 0, 0, 0, 0, 0, 0, 0, 0, 0, 0, 0, 0, 0, 0, 0, 0, 0, 0, 0, 0, 0, 0, 0, 0, 0, 0, 0, 0, 0, 0, 0, 0, 0, 0, 0, 0, 0, 0, 0, 0, 0, 0, 0, 0, 0, 0, 0, 0, 0, 0, 0, 0, 0, 0, 0, 0, 0, 0, 0, 0, 0, 0, 0, 0, 0, 1, 0, 0, 0, 0, 0, 0, 0, 0, 0, 0, 0, 0, 0, 0, 0, 0, 0, 0, 0, 0, 0, 0, 0, 0, 0, 0, 0, 0, 0, 0, 0, 0, 0, 0, 0, 2, 0, 0, 0, 0, 0, 0, 0, 0, 0, 0, 0, 0, 0, 0, 0, 0, 0, 0, 0, 0, 0, 0, 0, 0, 0, 0, 0, 0, 0, 0, 0, 0, 0, 0, 0, 0, 0, 0, 0, 0, 1, 0, 0, 0, 0, 0, 0, 0, 0, 0, 0, 0, 0, 0, 0, 0, 0, 0, 0, 0, 0, 0, 0, 0, 0, 0, 0, 0, 0, 0, 0, 0, 0, 0, 0, 0, 0, 0, 0, 0, 0, 0, 0, 0, 0, 0, 0, 0, 0, 0, 0, 0, 0, 0, 0, 0, 0, 0, 0, 0, 0, 0, 0, 0, 0, 0, 0, 0, 0, 0, 0, 0, 0, 0, 0, 0, 0, 0, 0, 0, 0, 0, 0, 0, 0, 0, 0, 0, 0, 0, 0, 0, 0, 0, 0, 0, 0, 0, 0, 0, 0, 0, 0, 0, 0, 0, 0, 0, 0, 0, 0, 0, 0, 0, 0, 0, 0, 0, 0, 0, 0, 0, 0, 0, 0, 0, 0, 0, 0, 0, 0, 0, 0, 0, 0, 0, 0, 0, 0, 0, 0, 0, 0, 0, 0, 0, 0, 0, 0, 0, 0, 0, 0, 0, 0, 0, 0, 0, 0, 0, 0, 0, 0, 0, 0, 0, 0, 0, 0, 0, 0, 0, 0, 0, 0, 0, 0, 0, 0, 0, 0, 0, 0, 0, 0, 0, 0, 0, 0, 0, 0, 0, 0, 0, 0, 0, 0, 0, 0, 0, 0, 0, 0, 0, 0, 0, 0, 0, 0, 0, 0, 0, 0, 0, 0, 0, 0, 0, 0, 0, 0, 0, 0, 0, 0, 0, 0, 0, 0, 0, 0, 0, 0, 0, 0, 0, 0, 0, 0, 0, 0, 0, 0, 0, 0, 0, 0, 0, 0, 0, 0, 0, 0, 0, 0, 0, 0, 0, 0, 0, 0, 0, 0, 0, 0, 0, 0, 0, 0, 0, 0, 0, 0, 0, 0, 0, 0, 0, 0, 0, 0, 0, 0, 0, 0, 0, 0, 0, 0, 0, 0, 0, 0, 0, 0, 0, 0, 0, 0, 0, 0, 0, 0, 0, 0, 0, 0, 0, 0, 0, 0, 0, 0, 0, 0, 0, 0, 0, 0, 0, 0, 0, 0, 0, 0, 0, 0, 0, 0, 0, 0, 0, 0, 0, 0, 0, 0, 0, 0, 0, 0, 0, 0, 0, 0, 0, 0, 0, 0, 0, 0, 0, 0, 0, 0, 0, 0, 0, 0, 0, 0, 0, 0, 0, 0, 0, 0, 0, 0, 0, 0, 0, 0, 0, 0, 0, 0, 0, 0, 0, 0, 0, 0, 0, 0, 0, 0, 0, 0, 0, 0, 0, 0, 0, 0, 0, 0, 0, 0, 0, 0, 0, 0, 0, 0, 0, 0, 0, 0, 0, 0, 0, 0, 0, 0, 0, 0, 0, 0, 0, 0, 0, 0, 0, 0, 0, 0, 0, 0, 0, 0, 0, 0, 0, 0, 0, 0, 0, 0, 0, 0, 0, 0, 0, 0, 0, 0, 0, 0, 0, 0, 0, 0, 0, 0, 0, 0, 0, 0, 0, 0, 0, 0, 0, 0, 0, 0, 0, 0, 0, 0, 0, 0, 0, 0, 0, 0, 0, 0, 0, 0, 0, 0, 0, 0, 0, 0, 0, 0, 0, 0, 0, 0, 0, 0, 0, 0, 0, 1, 0, 0, 0, 0, 0, 0, 0, 0, 0, 0, 0, 0, 0, 0, 0, 0, 0, 0, 0, 0, 0, 0, 0, 0, 0, 0, 0, 0, 0, 0, 0, 0, 0, 0, 0, 0, 0, 0, 0, 0, 0, 0, 0, 0, 0, 0, 0, 0, 0, 0, 0, 0, 0, 0, 0, 0, 0, 0, 0, 0, 0, 0, 0, 0, 0, 0, 0, 0, 0, 0, 0, 0, 0, 0, 0, 0, 0, 0, 0, 0, 0, 0, 0, 0, 0, 0, 0, 0, 0, 0, 0, 0, 0, 0, 0, 0, 0, 0, 0, 0, 0, 0, 0, 0, 0, 0, 0, 0, 0, 0, 2, 0, 0, 0, 0, 0, 0, 0, 0, 0, 0, 0, 0, 0, 0, 0, 0, 0, 0, 0, 0, 0, 0, 0, 0, 0, 0, 0, 0, 0, 0, 0, 0, 0, 0, 0, 0, 0, 0, 0, 0, 0, 0, 0, 0, 0, 0, 0, 0, 0, 0, 0, 0, 0, 0, 0, 0, 0, 0, 0, 0, 0, 0, 0, 0, 0, 0, 0, 0, 0, 0, 0, 0, 0, 0, 0, 0, 0, 0, 0, 0, 0, 0, 0, 0, 0, 0, 0, 0, 0, 0, 0, 0, 0, 0, 0, 0, 0, 0, 0, 0, 0, 0, 0, 0, 0, 0, 0, 0, 0, 0, 0, 0, 0, 0, 0, 0, 0, 0, 0, 0, 0, 0, 0, 0, 0, 0, 0, 0, 0, 0, 0, 0, 0, 0, 0, 0, 0, 0, 0, 0, 0, 0, 0, 0, 0, 0, 0, 0, 0, 0, 0, 0, 0, 0, 0, 0, 0, 0, 0, 0, 0, 0, 0, 0, 0, 0, 0, 0, 0, 0, 0, 0, 0, 0, 0, 0, 0, 0, 0, 0, 0, 0, 0, 0, 0, 0, 0, 0, 0, 0, 0, 0, 0, 0, 0, 0, 0, 0, 0, 0, 0, 0, 0, 0, 0, 0, 0, 0, 0, 0, 0, 0, 0, 0, 0, 0, 0, 0, 0, 0, 0, 0, 0, 0, 0, 0, 0, 0, 0, 0, 0, 0, 0, 0, 0, 0, 0, 0, 0, 0, 0, 0, 0, 0, 0, 0, 0, 0, 0, 0, 0, 0, 0, 0, 0, 0, 0, 0, 0, 0, 0, 0, 0, 0, 0, 0, 0, 0, 0, 0, 0, 0, 0, 0, 0, 0, 0, 0, 0, 0, 0, 0, 0, 0, 0, 0, 0, 0, 0, 0, 0, 0, 0, 0, 0, 0, 0, 0, 0, 0, 0, 0, 0, 0, 0, 0, 0, 0, 0, 0, 0, 0, 0, 0, 0, 0, 0, 0, 0, 0, 0, 0, 0, 0, 0, 0, 0, 0, 0, 0, 0, 0, 0, 0, 0, 0, 0, 0, 0, 0, 0, 0, 0, 0, 0, 0, 0, 0, 0, 0, 0, 0, 0, 0, 0, 0, 0, 0, 0, 0, 0, 0, 0, 0, 0, 0, 0, 0, 0, 0, 0, 0, 0, 0, 0, 0, 0, 0, 0, 0, 0, 0, 0, 0, 0, 0, 0, 0, 0, 0, 0, 0, 0, 0, 0, 0, 0, 0, 0, 0, 0, 0, 0, 0, 0, 0, 0, 0, 0, 0, 0, 0, 0, 0, 0, 0, 0, 0, 0, 0, 0, 0, 0, 0, 0, 0, 0, 0, 0, 0, 0, 0, 0, 0, 0, 0, 0, 0, 0, 0, 0, 0, 0, 0, 0, 0, 0, 0, 0, 0, 0, 0, 0, 0, 0, 0, 0, 0, 0, 0, 0, 0, 0, 0, 0, 0, 0, 0, 0, 0, 0, 0, 0, 0, 0, 0, 0, 0, 0, 0, 0, 0, 0, 0, 0, 0, 0, 0, 0, 0, 0, 0, 0, 0, 0, 0, 0, 0, 0, 0, 0, 0, 0, 0, 0, 0, 0, 0, 0, 0, 0, 0, 0, 0, 0, 0, 0, 0, 0, 0, 0, 0, 0, 0, 0, 0, 0, 0, 0, 0, 0, 0, 0, 0, 0, 0, 0, 0, 0, 0, 0, 0, 0, 0, 0, 0, 0, 0, 0, 0, 0, 0, 0, 0, 0, 0, 0, 0, 0, 0, 0, 0, 0, 0, 0, 0, 0, 0, 0, 0, 0, 0, 0, 0, 0, 0, 0, 0, 0, 0, 0, 0, 0, 0, 0, 0, 0, 0, 0, 0, 0, 0, 0, 0, 0, 0, 0, 0, 0, 0, 0, 0, 0, 0, 0, 0, 0, 0, 0, 0, 0, 0, 0, 0, 0, 0, 0, 0, 0, 0, 0, 0, 0, 0, 0, 0, 0, 0, 0, 0, 0, 0, 0, 0, 0, 0, 0, 0, 0, 0, 0, 0, 0, 0, 0, 0, 0, 0, 0, 0, 0, 0, 0, 0, 0, 0, 0, 0, 0, 0, 0, 0, 0, 0, 0, 0, 0, 0, 0, 0, 0, 0, 0, 0, 0, 0, 0, 0, 0, 0, 0, 0, 0, 0, 0, 0, 0, 0, 0, 0, 1, 0, 0, 0, 0, 0, 0, 0, 0, 0, 0, 0, 0, 0, 0, 0, 0, 0, 0, 0, 0, 0, 0, 0, 0, 0, 0, 0, 0, 0, 0, 0, 0, 0, 0, 0, 0, 0, 0, 0, 0, 0, 0, 0, 0, 0, 0, 0, 0, 0, 0, 0, 0, 0, 0, 0, 0, 0, 0, 0, 0, 0, 0, 0, 0, 0, 0, 0, 0, 0, 0, 0, 0, 0, 0, 0, 0, 0, 0, 0, 0, 0, 0, 0, 0, 0, 0, 0, 0, 0, 0, 0, 0, 0, 0, 0, 0, 0, 0, 0, 0, 0, 0, 0, 0, 0, 0, 0, 1, 0, 0, 0, 0, 0, 0, 0, 0, 0, 0, 0, 0, 0, 0, 0, 0, 0, 0, 0, 0, 0, 0, 0, 0, 0, 0, 0, 0, 0, 0, 0, 0, 0, 0, 0, 0, 0, 0, 0, 0, 0, 0, 0, 0, 0, 0, 0, 0, 0, 0, 0, 0, 0, 0, 0, 0, 0, 0, 0, 0, 0, 0, 0, 0, 0, 0, 0, 0, 0, 0, 0, 0, 0, 0, 0, 0, 0, 0, 0, 0, 0, 0, 0, 0, 0, 0, 0, 0, 0, 0, 0, 0, 0, 0, 0, 0, 0, 0, 0, 0, 0, 0, 0, 0, 0, 0, 0, 0, 0, 0, 0, 0, 0, 0, 0, 0, 0, 0, 0, 0, 0, 0, 0, 0, 0, 0, 0, 0, 0, 0, 0, 0, 0, 0, 0, 0, 0, 0, 0, 0, 0, 0, 0, 0, 0, 0, 0, 0, 0, 0, 0, 0, 0, 0, 0, 0, 0, 0, 0, 0, 0, 0, 0, 0, 0, 0, 0, 0, 0, 0, 0, 0, 0, 0, 0, 0, 0, 0, 0, 0, 0, 0, 0, 0, 0, 0, 0, 0, 0, 0, 0, 0, 0, 0, 0, 0, 0, 0, 0, 0, 0, 0, 0, 0, 0, 0, 0, 0, 0, 0, 0, 0, 0, 0, 0, 0, 0, 0, 0, 0, 0, 0, 0, 0, 0, 0, 0, 0, 0, 0, 0, 0, 0, 0, 0, 0, 0, 0, 0, 0, 0, 0, 0, 0, 0, 0, 0, 0, 0, 0, 0, 0, 0, 0, 0, 0, 0, 0, 0, 0, 0, 0, 0, 0, 0, 0, 0, 0, 0, 0, 0, 0, 0, 0, 0, 0, 0, 0, 0, 0, 0, 0, 0, 0, 0, 0, 0, 0, 0, 0, 0, 0, 0, 0, 0, 0, 0, 0, 0, 0, 0, 0, 0, 0, 0, 0, 0, 0, 0, 0, 0, 0, 0, 0, 0, 0, 0, 0, 0, 0, 0, 0, 0, 0, 0, 0, 0, 0, 0, 0, 0, 0, 0, 0, 0, 0, 0, 0, 0, 0, 0, 0, 0, 0, 0, 0, 0, 0, 0, 0, 0, 0, 0, 0, 0, 0, 0, 0, 0, 0, 0, 0, 0, 0, 0, 0, 0, 0, 0, 0, 0, 0, 0, 0, 0, 0, 0, 0, 0, 0, 0, 0, 0, 0, 0, 0, 0, 0, 0, 0, 0, 0, 0, 0, 0, 0, 0, 0, 0, 0, 0, 0, 0, 0, 0, 0, 0, 0, 0, 0, 0, 0, 0, 0, 0, 0, 0, 0, 0, 0, 0, 0, 0, 0, 0, 0, 0, 0, 0, 0, 0, 0, 0, 0, 0, 0, 0, 0, 0, 0, 0, 0, 0, 0, 0, 0, 0, 0, 0, 0, 0, 0, 0, 0, 0, 0, 0, 0, 0, 0, 0, 0, 0, 2, 0, 1, 0], type: <class 'list'>, valid types: <class 'bytes'>, <class 'bytearray'>, file-like object"
     ]
    }
   ],
   "source": [
    "response = runtime.invoke_endpoint(EndpointName = xgb_predictor.endpoint, # The name of the endpoint we created\n",
    "                                       ContentType = 'text/csv',                     # The data format that is expected\n",
    "                                       Body = test_bow)"
   ]
  },
  {
   "cell_type": "markdown",
   "metadata": {},
   "source": [
    "So why did we get an error?\n",
    "\n",
    "Because we tried to send the endpoint a list of integers but it expected us to send data of type `text/csv`. So, we need to convert it."
   ]
  },
  {
   "cell_type": "code",
   "execution_count": 59,
   "metadata": {},
   "outputs": [],
   "source": [
    "response = runtime.invoke_endpoint(EndpointName = xgb_predictor.endpoint, # The name of the endpoint we created\n",
    "                                       ContentType = 'text/csv',                     # The data format that is expected\n",
    "                                       Body = ','.join([str(val) for val in test_bow]).encode('utf-8'))"
   ]
  },
  {
   "cell_type": "code",
   "execution_count": 60,
   "metadata": {},
   "outputs": [
    {
     "name": "stdout",
     "output_type": "stream",
     "text": [
      "{'ResponseMetadata': {'RequestId': 'e92d2508-d3ee-434c-b796-b5c5ae71953b', 'HTTPStatusCode': 200, 'HTTPHeaders': {'x-amzn-requestid': 'e92d2508-d3ee-434c-b796-b5c5ae71953b', 'x-amzn-invoked-production-variant': 'AllTraffic', 'date': 'Mon, 27 Apr 2020 20:04:08 GMT', 'content-type': 'text/csv; charset=utf-8', 'content-length': '18'}, 'RetryAttempts': 0}, 'ContentType': 'text/csv; charset=utf-8', 'InvokedProductionVariant': 'AllTraffic', 'Body': <botocore.response.StreamingBody object at 0x7f1363f029e8>}\n"
     ]
    }
   ],
   "source": [
    "print(response)"
   ]
  },
  {
   "cell_type": "markdown",
   "metadata": {},
   "source": [
    "As we can see, the response from our model is a somewhat complicated looking dict that contains a bunch of information. The bit that we are most interested in is `'Body'` object which is a streaming object that we need to `read` in order to make use of."
   ]
  },
  {
   "cell_type": "code",
   "execution_count": 61,
   "metadata": {},
   "outputs": [
    {
     "name": "stdout",
     "output_type": "stream",
     "text": [
      "0.3681224584579468\n"
     ]
    }
   ],
   "source": [
    "response = response['Body'].read().decode('utf-8')\n",
    "print(response)"
   ]
  },
  {
   "cell_type": "markdown",
   "metadata": {},
   "source": [
    "Now that we know how to process the incoming user data we can start setting up the infrastructure to make our simple web app work. To do this we will make use of two different services. Amazon's Lambda and API Gateway services.\n",
    "\n",
    "Lambda is a service which allows someone to write some relatively simple code and have it executed whenever a chosen trigger occurs. For example, you may want to update a database whenever new data is uploaded to a folder stored on S3.\n",
    "\n",
    "API Gateway is a service that allows you to create HTTP endpoints (url addresses) which are connected to other AWS services. One of the benefits to this is that you get to decide what credentials, if any, are required to access these endpoints.\n",
    "\n",
    "In our case we are going to set up an HTTP endpoint through API Gateway which is open to the public. Then, whenever anyone sends data to our public endpoint we will trigger a Lambda function which will send the input (in our case a review) to our model's endpoint and then return the result."
   ]
  },
  {
   "cell_type": "markdown",
   "metadata": {},
   "source": [
    "### Setting up a Lambda function\n",
    "\n",
    "The first thing we are going to do is set up a Lambda function. This Lambda function will be executed whenever our public API has data sent to it. When it is executed it will receive the data, perform any sort of processing that is required, send the data (the review) to the SageMaker endpoint we've created and then return the result.\n",
    "\n",
    "#### Part A: Create an IAM Role for the Lambda function\n",
    "\n",
    "Since we want the Lambda function to call a SageMaker endpoint, we need to make sure that it has permission to do so. To do this, we will construct a role that we can later give the Lambda function.\n",
    "\n",
    "Using the AWS Console, navigate to the **IAM** page and click on **Roles**. Then, click on **Create role**. Make sure that the **AWS service** is the type of trusted entity selected and choose **Lambda** as the service that will use this role, then click **Next: Permissions**.\n",
    "\n",
    "In the search box type `sagemaker` and select the check box next to the **AmazonSageMakerFullAccess** policy. Then, click on **Next: Review**.\n",
    "\n",
    "Lastly, give this role a name. Make sure you use a name that you will remember later on, for example `LambdaSageMakerRole`. Then, click on **Create role**."
   ]
  },
  {
   "cell_type": "markdown",
   "metadata": {},
   "source": [
    "#### Part B: Create a Lambda function\n",
    "\n",
    "Now it is time to actually create the Lambda function. Remember from earlier that in order to process the user provided input and send it to our endpoint we need to gather two pieces of information:\n",
    "\n",
    " - The name of the endpoint, and\n",
    " - the vocabulary object.\n",
    "\n",
    "We will copy these pieces of information to our Lambda function after we create it.\n",
    "\n",
    "To start, using the AWS Console, navigate to the AWS Lambda page and click on **Create a function**. When you get to the next page, make sure that **Author from scratch** is selected. Now, name your Lambda function, using a name that you will remember later on, for example `sentiment_analysis_xgboost_func`. Make sure that the **Python 3.6** runtime is selected and then choose the role that you created in the previous part. Then, click on **Create Function**.\n",
    "\n",
    "On the next page you will see some information about the Lambda function you've just created. If you scroll down you should see an editor in which you can write the code that will be executed when your Lambda function is triggered. Collecting the code we wrote above to process a single review and adding it to the provided example `lambda_handler` we arrive at the following.\n",
    "\n",
    "```python\n",
    "# We need to use the low-level library to interact with SageMaker since the SageMaker API\n",
    "# is not available natively through Lambda.\n",
    "import boto3\n",
    "\n",
    "# And we need the regular expression library to do some of the data processing\n",
    "import re\n",
    "\n",
    "REPLACE_NO_SPACE = re.compile(\"(\\.)|(\\;)|(\\:)|(\\!)|(\\')|(\\?)|(\\,)|(\\\")|(\\()|(\\))|(\\[)|(\\])\")\n",
    "REPLACE_WITH_SPACE = re.compile(\"(<br\\s*/><br\\s*/>)|(\\-)|(\\/)\")\n",
    "\n",
    "def review_to_words(review):\n",
    "    words = REPLACE_NO_SPACE.sub(\"\", review.lower())\n",
    "    words = REPLACE_WITH_SPACE.sub(\" \", words)\n",
    "    return words\n",
    "    \n",
    "def bow_encoding(words, vocabulary):\n",
    "    bow = [0] * len(vocabulary) # Start by setting the count for each word in the vocabulary to zero.\n",
    "    for word in words.split():  # For each word in the string\n",
    "        if word in vocabulary:  # If the word is one that occurs in the vocabulary, increase its count.\n",
    "            bow[vocabulary[word]] += 1\n",
    "    return bow\n",
    "\n",
    "\n",
    "def lambda_handler(event, context):\n",
    "    \n",
    "    vocab = \"*** ACTUAL VOCABULARY GOES HERE ***\"\n",
    "    \n",
    "    words = review_to_words(event['body'])\n",
    "    bow = bow_encoding(words, vocab)\n",
    "\n",
    "    # The SageMaker runtime is what allows us to invoke the endpoint that we've created.\n",
    "    runtime = boto3.Session().client('sagemaker-runtime')\n",
    "\n",
    "    # Now we use the SageMaker runtime to invoke our endpoint, sending the review we were given\n",
    "    response = runtime.invoke_endpoint(EndpointName = '***ENDPOINT NAME HERE***',# The name of the endpoint we created\n",
    "                                       ContentType = 'text/csv',                 # The data format that is expected\n",
    "                                       Body = ','.join([str(val) for val in bow]).encode('utf-8')) # The actual review\n",
    "\n",
    "    # The response is an HTTP response whose body contains the result of our inference\n",
    "    result = response['Body'].read().decode('utf-8')\n",
    "    \n",
    "    # Round the result so that our web app only gets '1' or '0' as a response.\n",
    "    result = round(float(result))\n",
    "\n",
    "    return {\n",
    "        'statusCode' : 200,\n",
    "        'headers' : { 'Content-Type' : 'text/plain', 'Access-Control-Allow-Origin' : '*' },\n",
    "        'body' : str(result)\n",
    "    }\n",
    "```"
   ]
  },
  {
   "cell_type": "markdown",
   "metadata": {},
   "source": [
    "Once you have copy and pasted the code above into the Lambda code editor, replace the `**ENDPOINT NAME HERE**` portion with the name of the endpoint that we deployed earlier. You can determine the name of the endpoint using the code cell below."
   ]
  },
  {
   "cell_type": "code",
   "execution_count": 62,
   "metadata": {},
   "outputs": [
    {
     "data": {
      "text/plain": [
       "'sagemaker-xgboost-2020-04-27-16-49-15-125'"
      ]
     },
     "execution_count": 62,
     "metadata": {},
     "output_type": "execute_result"
    }
   ],
   "source": [
    "xgb_predictor.endpoint"
   ]
  },
  {
   "cell_type": "markdown",
   "metadata": {},
   "source": [
    "In addition, you will need to copy the vocabulary dict to the appropriate place in the code at the beginning of the `lambda_handler` method. The cell below prints out the vocabulary dict in a way that is easy to copy and paste."
   ]
  },
  {
   "cell_type": "code",
   "execution_count": 63,
   "metadata": {},
   "outputs": [
    {
     "name": "stdout",
     "output_type": "stream",
     "text": [
      "{'et': 1526, 'is': 2360, 'mess': 2818, 'of': 3083, 'movie': 2926, 'which': 4867, 'will': 4886, 'probably': 3407, 'as': 311, 'many': 2732, 'viewers': 4739, 'it': 2366, 'focuses': 1768, 'by': 642, 'turns': 4609, 'on': 3105, 'ex': 1549, 'lovers': 2673, 'they': 4442, 'each': 1395, 'major': 2711, 'crisis': 1060, 'in': 2257, 'their': 4431, 'now': 3054, 'separate': 3883, 'lives': 2628, 'while': 4868, 'story': 4207, 'played': 3297, 'straight': 4210, 'and': 226, 'tone': 4517, 'mainly': 2708, 'for': 1784, 'laughs': 2534, 'although': 201, 'its': 2370, 'not': 3040, 'particularly': 3195, 'funny': 1852, 'the': 4426, 'illness': 2230, 'her': 2085, 'father': 1666, 'louis': 2665, 'his': 2118, 'sudden': 4272, 'mental': 2808, 'hospital': 2172, 'at': 331, 'mysterious': 2955, 'third': 4455, 'party': 3200, 'are': 285, 'just': 2437, 'two': 4620, 'who': 4871, 'have': 2052, 'life': 2592, 'turn': 4605, 'been': 438, 'most': 2909, 'notable': 3041, 'others': 3136, 'being': 448, 'deceased': 1146, 'first': 1736, 'lover': 2672, 'young': 4989, 'son': 4070, 'events': 1536, 'past': 3207, 'present': 3374, 'out': 3141, 'audience': 352, 'become': 433, 'involved': 2346, 'once': 3106, 'more': 2904, 'gradually': 1952, 'that': 4424, 'personal': 3240, 'take': 4349, 'may': 2775, 'be': 418, 'less': 2575, 'than': 4420, 'meets': 2795, 'eye': 1611, 'cult': 1077, 'director': 1264, 'has': 2043, 'fashioned': 1660, 'considerable': 950, 'here': 2086, 'one': 3107, 'france': 1816, 'he': 2056, 'established': 1524, 'narrative': 2966, 'develops': 1226, 'via': 4726, 'series': 3890, 'dramatic': 1348, 'mood': 2898, 'had': 2003, 'this': 4457, 'approach': 282, 'coherent': 871, 'core': 995, 'idea': 2213, 'or': 3124, 'theme': 4433, 'might': 2835, 'worked': 4941, 'but': 636, 'clear': 839, 'end': 1468, 'what': 4858, 'exactly': 1551, 'film': 1716, 'actually': 109, 'about': 67, 'heavy': 2070, 'handed': 2016, 'to': 4507, 'greek': 1970, 'theory': 4437, 'with': 4911, 'meaning': 2780, 'least': 2554, 'remain': 3609, 'characters': 760, 'other': 3135, 'times': 4497, 'treatment': 4574, 'into': 2332, 'use': 4692, 'moon': 2900, 'river': 3707, 'films': 1721, 'tune': 4602, 'suggests': 4282, 'spoiler': 4123, 'alert': 178, 'suspect': 4327, 'very': 4723, 'original': 3129, 'how': 2181, 'we': 4823, 'see': 3855, 'ourselves': 3140, 'can': 665, 'from': 1840, 'us': 4690, 'even': 1533, 'think': 4452, 'obviously': 3072, 'represented': 3638, 'violent': 4748, 'death': 1141, 'revelation': 3674, 'contained': 963, 'secret': 3849, 'unfortunately': 4654, 'both': 547, 'seem': 3861, 'entirely': 1503, 'otherwise': 3137, 'revealed': 3671, 'relationships': 3598, 'seems': 3864, 'part': 3193, 'if': 2222, 'upon': 4684, 'form': 1798, 'rather': 3528, 'natural': 2973, 'course': 1019, 'surreal': 4317, 'touches': 4535, 'presence': 3373, 'an': 223, 'largely': 2518, 'world': 4946, 'persons': 3244, 'bare': 398, 'again': 146, 'these': 4441, 'felt': 1692, 'pretentious': 3383, 'making': 2718, 'technique': 4383, 'deeper': 1155, 'truth': 4599, 'fact': 1621, 'all': 187, 'hints': 2113, 'depth': 1190, 'creators': 1044, 'ideas': 2215, 'people': 3221, 'real': 3547, 'own': 3158, 'right': 3696, 'much': 2934, 'detail': 1217, 'example': 1553, 'constantly': 958, 'reminded': 3619, 'player': 3298, 'hours': 2177, 'pass': 3201, 'before': 440, 'hear': 2061, 'him': 2110, 'play': 3296, 'effect': 1428, 'chosen': 805, 'personality': 3242, 'never': 3001, 'hence': 2083, 'well': 4843, 'artist': 307, 'brings': 587, 'certain': 737, 'charm': 767, 'ultimately': 4628, 'found': 1811, 'however': 2183, 'meanwhile': 2785, 'jean': 2389, 'paul': 3214, 'wounded': 4961, 'make': 2713, 'biggest': 480, 'impact': 2244, 'amongst': 218, 'supporting': 4304, 'actors': 104, 'catherine': 719, 'too': 4522, 'though': 4461, 'role': 3726, 'little': 2624, 'self': 3869, 'cameo': 657, 'taste': 4369, 'should': 3951, 'fail': 1625, 'push': 3477, 'your': 4991, 'likely': 2601, 'you': 4986, 'somehow': 4063, 'keep': 2449, 'watching': 4815, 'such': 4268, 'promise': 3430, 'great': 1964, 'team': 4378, 'struggling': 4236, 'recognition': 3568, 'glory': 1922, 'only': 3110, 'lose': 2654, 'speed': 4103, 'due': 1382, 'bad': 382, 'poor': 3328, 'editing': 1421, 'half': 2007, 'written': 4972, 'beginning': 443, 'were': 4848, 'interesting': 2325, 'way': 4820, 'through': 4477, 'dimensional': 1253, 'tired': 4501, 'liners': 2611, 'maybe': 2776, 'spent': 4108, 'some': 4061, 'time': 4495, 'would': 4957, 'instead': 2307, 'almost': 193, 'effort': 1432, 'seen': 3865, 'virtually': 4751, 'me': 2778, 'funniest': 1851, 'reminds': 3620, 'early': 1400, 'jackie': 2374, 'chan': 746, 'movies': 2927, 'admittedly': 123, 'ms': 2931, 'greatest': 1966, 'actress': 105, 'she': 3923, 'good': 1937, 'watch': 4811, 'martial': 2747, 'cute': 1090, 'lady': 2507, 'best': 469, 'was': 4805, 'entertaining': 1499, 'surface': 4310, 'show': 3953, 'money': 2888, 'finished': 1733, 'full': 1846, 'season': 3843, 'always': 203, 'william': 4887, 'host': 2173, 'surrounded': 4318, 'dozen': 1338, 'beautiful': 428, 'models': 2881, 'called': 652, 'million': 2847, 'dollar': 1314, 'dancers': 1105, 'stories': 4205, 'tell': 4395, 'presumably': 3380, 'knew': 2486, 'lot': 2661, 'pop': 3330, 'culture': 1079, 'big': 478, 'so': 4046, 'went': 4847, 'wrong': 4973, 'format': 1799, 'game': 1864, 'failure': 1629, 'needs': 2990, 'three': 4469, 'things': 4451, 'simple': 3983, 'rules': 3754, 'exciting': 1563, 'pacing': 3163, 'ability': 65, 'viewer': 4738, 'along': 195, 'home': 2142, 'ones': 3108, 'none': 3028, 'among': 217, 'complex': 923, 'any': 256, 'prime': 3395, 'history': 2121, 'let': 2579, 'try': 4600, 'explain': 1586, 'briefly': 580, 'possible': 3350, 'began': 441, 'single': 3996, 'word': 4937, 'short': 3946, 'followed': 1773, 'choice': 797, 'letters': 2582, 'subtle': 4260, 'network': 3000, 'letter': 2581, 'connected': 945, 'question': 3487, 'starting': 4158, 'chose': 804, 'could': 1007, 'either': 1438, 'answer': 251, 'second': 3846, 'passed': 3202, 'got': 1944, 'view': 4736, 'next': 3007, 'same': 3778, 'required': 3641, 'after': 143, 'correct': 1000, 'then': 4436, '13': 4, 'stage': 4139, 'different': 1248, 'amount': 219, 'side': 3965, 'added': 116, 'pot': 3354, 'still': 4188, 'far': 1653, 'addition': 118, 'there': 4438, 'dancer': 1104, 'held': 2074, 'something': 4066, 'known': 2492, 'killer': 2470, 'card': 681, 'gotten': 1947, 'safe': 3771, 'continued': 970, 'final': 1722, 'no': 3020, 'walking': 4779, 'away': 369, 'earned': 1401, 'until': 4680, 'six': 4010, 'questions': 3489, 'hole': 2132, 'couldnt': 1008, 'enough': 1491, 'get': 1899, 'back': 378, 'okay': 3099, 'problem': 3408, 'saw': 3798, 'complete': 921, 'lack': 2502, 'tension': 4404, 'because': 432, 'design': 1202, 'didnt': 1242, 'know': 2489, 'did': 1241, 'find': 1726, 'low': 2676, 'missing': 2869, 'meant': 2784, 'wasnt': 4807, 'drama': 1346, 'five': 1743, 'chance': 747, 'win': 4892, 'mistake': 2871, 'deadly': 1133, 'slow': 4031, 'often': 3095, 'obvious': 3071, 'ridiculous': 3693, 'create': 1036, 'doubt': 1332, 'common': 906, 'answers': 252, 'point': 3316, 'during': 1387, 'those': 4460, 'complicated': 925, 'program': 3424, 'working': 4944, 'despite': 1211, 'talents': 4356, 'magnificent': 2705, 'dont': 1324, 'decent': 1147, 'please': 3304, 'understand': 4643, 'getting': 1901, 'does': 1308, 'necessarily': 2983, 'mean': 2779, 'youve': 4995, 'gone': 1935, 'school': 3813, 'shooting': 3943, 'becomes': 434, 'above': 68, 'event': 1535, 'also': 199, 'whatever': 4859, 'reason': 3557, 'pain': 3170, 'endure': 1475, 'case': 707, 'contrast': 975, 'between': 475, 'rage': 3505, 'obsession': 3070, 'creates': 1038, 'atmosphere': 333, 'halfway': 2008, 'wonder': 4926, 'possibly': 3351, 'pull': 3461, 'happy': 2032, 'ending': 1471, 'hat': 2045, 'thankfully': 4422, 'given': 1913, 'credit': 1049, 'human': 2188, 'beings': 449, 'our': 3139, 'intelligence': 2313, 'sappy': 3784, 'beyond': 476, 'head': 2057, 'fiction': 1702, 'yet': 4984, 'must': 2950, 'admit': 122, 'cried': 1054, 'like': 2599, 'lost': 2660, 'baby': 376, 'hit': 2122, 'close': 853, 'opened': 3113, 'up': 4683, 'old': 3100, 'quite': 3495, 'thing': 4450, 'rated': 3527, 'perfect': 3224, '10': 0, 'outstanding': 3147, 'consistently': 954, 'high': 2100, 'quality': 3484, 'character': 758, 'development': 1225, 'last': 2521, 'episode': 1507, 'where': 4864, 'certainly': 738, 'appear': 273, 'killed': 2469, 'off': 3084, 'rushed': 3760, 'unconvincing': 4638, 'fashion': 1659, 'left': 2561, 'disbelief': 1277, 'extremely': 1610, 'originally': 3131, 'occur': 3076, 'over': 3148, 'my': 2951, 'guess': 1989, 'position': 3345, 'stargate': 4151, 'franchise': 1817, 'direct': 1258, 'dvd': 1391, 'moves': 2925, 'unless': 4669, 'return': 3665, 'future': 1856, 'explanation': 1590, 'apparent': 269, 'fans': 1650, 'cheated': 775, 'clean': 838, 'loose': 2650, 'ends': 1474, 'brilliant': 583, 'sci': 3815, 'fi': 1701, 'satire': 3788, 'memorable': 2802, 'title': 4504, 'war': 4792, 'john': 2409, 'cusack': 1088, 'traveling': 4568, 'country': 1014, 'help': 2079, 'american': 213, 'government': 1948, 'message': 2819, 'across': 96, 'reporter': 3636, 'lonely': 2643, 'man': 2721, 'hot': 2174, 'somewhere': 4069, 'mix': 2876, 'star': 4150, 'named': 2961, 'gets': 1900, 'thrown': 4481, 'important': 2247, 'president': 3378, 'subplot': 4255, 'created': 1037, 'somewhat': 4068, 'starts': 4159, 'bar': 396, 'fifteen': 1706, 'seconds': 3848, 'later': 2525, 'amusing': 221, 'intriguing': 2335, 'insight': 2298, 'politics': 3326, 'running': 3756, 'blows': 517, 'action': 100, 'expected': 1577, 'occasional': 3074, 'scene': 3809, 'choreographed': 801, 'fights': 1710, 'scenes': 3811, 'murder': 2939, 'isnt': 2362, 'deep': 1154, 'simplicity': 3984, 'makes': 2716, 'critics': 1064, 'alike': 185, 'act': 97, 'thought': 4462, 'executed': 1565, 'disagree': 1269, 'why': 4878, 'twist': 4617, 'true': 4596, 'miss': 2866, 'situation': 4008, 'regardless': 3590, 'writers': 4969, 'mark': 2739, 'jeremy': 2394, 'fantastic': 1651, 'job': 2405, 'creating': 1039, 'realistic': 3550, 'todays': 4509, 'excellent': 1555, 'integrity': 2311, 'material': 2766, 'afraid': 140, 'happen': 2026, 'crafted': 1029, 'perfectly': 3226, 'harsh': 2040, 'reality': 3551, 'them': 4432, 'feel': 1684, 'really': 3556, 'pays': 3218, 'completely': 922, 'hopefully': 2157, 'takes': 4351, 'directorial': 1265, 'jobs': 2406, 'look': 2646, 'sexy': 3911, 'silly': 3976, 'acting': 99, 'kind': 2476, 'everyone': 1542, 'theater': 4427, 'festival': 1697, 'myself': 2953, 'frequently': 1832, 'laughing': 2533, 'loud': 2664, 'else': 1448, 'moved': 2922, 'serious': 3891, 'parts': 3199, 'unique': 4662, 'doctors': 1305, 'want': 4788, 'give': 1912, 'anything': 260, 'powerful': 3360, 'plus': 3311, 'dialogue': 1234, 'wood': 4933, 'harris': 2038, 'relationship': 3597, 'girlfriend': 1910, 'brian': 576, 'white': 4870, 'roles': 3727, 'go': 1924, 'wont': 4932, 'disappointed': 1273, 'worth': 4953, 'seeing': 3857, 'deserves': 1201, 'award': 366, 'aired': 165, 'television': 4394, 'installment': 2303, 'columbo': 881, 'successful': 4266, 'mystery': 2956, 'writing': 4971, 'unseen': 4678, 'mafia': 2700, 'group': 1980, 'said': 3774, 'shows': 3960, 'work': 4940, 'late': 2523, 'jack': 2373, 'peter': 3247, 'falk': 1636, 'besides': 468, 'directed': 1259, 'steven': 4182, 'spielberg': 4110, 'air': 164, 'stars': 4155, 'barbara': 397, 'share': 3920, 'several': 3905, 'together': 4511, 'poignant': 3315, 'die': 1243, 'within': 4912, 'decade': 1144, 'filming': 1718, 'apartment': 265, 'fire': 1734, 'hands': 2020, 'decades': 1145, 'mysteries': 2954, 'favorite': 1671, 'tom': 4514, 'jerry': 2396, 'cartoon': 704, 'halloween': 2010, 'trick': 4582, 'treat': 4572, 'window': 4894, 'blind': 506, 'shirt': 3937, 'hanging': 2023, 'ghost': 1902, 'put': 3480, 'list': 2617, 'cartoons': 705, 'listening': 2620, 'hour': 2176, 'radio': 3504, 'horror': 2168, 'told': 4513, 'hair': 2005, 'standing': 4146, 'heart': 2064, 'throat': 4476, 'begin': 442, 'happening': 2028, 'literally': 2622, 'whole': 4873, 'himself': 2111, 'fears': 1677, 'love': 2669, 'four': 1812, 'attacks': 339, 'shoes': 3941, 'mouse': 2919, 'house': 2178, 'witty': 4917, 'twenty': 4612, 'speaks': 4096, 'cat': 713, 'trouble': 4592, 'comes': 891, 'dinner': 1254, 'quiet': 3492, 'trap': 4563, 'solid': 4057, 'texas': 4418, 'below': 462, 'chuck': 812, 'jones': 2418, 'sure': 4308, 'reviews': 3679, 'bang': 393, 'night': 3013, 'tv': 4610, 'bored': 541, 'nonsensical': 3031, 'random': 3514, 'plot': 3309, 'screen': 3829, 'entire': 1502, 'nothing': 3047, 'exercise': 1568, 'meaningless': 2782, 'filmmaker': 1719, 'writer': 4968, 'goes': 1930, 'name': 2960, 'sense': 3877, 'interested': 2324, 'indie': 2276, 'flicks': 1755, 'better': 472, 'looking': 2648, 'dare': 1113, 'say': 3799, 'waste': 4808, 'im': 2232, 'laugh': 2529, 'open': 3112, 'mind': 2849, 'tight': 4492, 'seriously': 3892, 'seemed': 3862, 'ben': 463, 'stiller': 4189, 'black': 493, 'tried': 4584, 'hard': 2033, 'men': 2805, 'doesnt': 1309, 'going': 1931, 'comedy': 890, 'shouldnt': 3952, 'made': 2697, 'jokes': 2415, 'stupid': 4247, 'sort': 4077, 'impressed': 2251, 'sorry': 4076, 'cannot': 670, 'lower': 2677, 'thats': 4425, 'giving': 1915, 'slaughter': 4021, '80s': 59, 'slasher': 4020, 'flick': 1754, 'hand': 2015, 'leaving': 2557, 'guy': 2000, 'horribly': 2164, 'few': 1700, 'years': 4979, 'returns': 3668, 'killing': 2472, 'hurt': 2202, 'sound': 4081, 'horrible': 2163, 'rest': 3657, 'flaws': 1752, 'errors': 1516, 'horrendous': 2162, 'every': 1539, 'lead': 2545, 'carol': 693, 'easily': 1406, 'shes': 3930, 'supposed': 4306, 'root': 3737, 'mention': 2810, 'stereotypical': 4180, 'themselves': 4435, 'downright': 1337, 'when': 4862, 'anyone': 259, 'care': 684, 'unintentional': 4658, 'laughter': 2535, 'potential': 3355, 'talent': 4354, 'puts': 3481, 'down': 1335, 'level': 2584, 'awful': 372, 'cast': 710, 'poorly': 3329, 'attempts': 343, 'mid': 2832, '30s': 44, 'teenager': 4390, 'teenagers': 4391, 'playing': 3300, 'around': 297, 'age': 148, 'do': 1302, 'adults': 126, 'song': 4071, 'hilariously': 2107, 'metal': 2823, 'accompanied': 86, 'voice': 4761, 'ill': 2228, 'cheesy': 781, 'entertainment': 1500, 'value': 4709, 'perhaps': 3235, 'essential': 1522, 'hardcore': 2034, 'expect': 1575, 'suspense': 4330, 'credibility': 1047, 'totally': 4532, 'shelley': 3928, 'waitress': 4773, '2007': 37, 'talented': 4355, 'managed': 2723, 'everyday': 1541, 'absurd': 73, 'humor': 2192, 'warm': 4794, 'steals': 4172, 'terrific': 4409, 'performance': 3228, 'woman': 4921, 'fallen': 1638, 'edge': 1418, 'male': 2719, 'nelson': 2997, 'fine': 1729, 'stand': 4143, 'suffering': 4277, 'sea': 3838, 'matter': 2769, 'sun': 4292, 'bring': 585, 'youre': 4992, 'rain': 3506, 'door': 1328, 'live': 2625, 'pulled': 3462, 'visual': 4757, 'beauty': 430, 'epic': 1506, 'appears': 278, 'fascinating': 1658, 'except': 1556, 'dragon': 1344, 'long': 2644, 'studio': 4240, 'ever': 1538, 'come': 886, 'knowledge': 2491, 'place': 3282, 'amateurish': 207, 'sign': 3970, 'legend': 2564, 'cure': 1081, 'lousy': 2667, 'execution': 1566, 'another': 250, 'cheap': 774, 'featuring': 1681, 'hundreds': 2196, 'brothers': 599, 'weird': 4841, 'becoming': 435, 'brave': 567, 'warriors': 4803, 'strong': 4229, 'bold': 528, 'save': 3794, 'native': 2972, 'land': 2511, 'ive': 2372, 'expensive': 1579, 'budget': 610, 'worse': 4951, 'strike': 4224, 'gorgeous': 1942, 'print': 3399, 'without': 4913, 'advertising': 132, 'sold': 4052, 'based': 404, 'alone': 194, 'feeling': 1685, 'throughout': 4478, 'fairy': 1632, 'tale': 4353, 'princess': 3397, 'bride': 577, 'definitely': 1162, 'wonderful': 4928, 'fantasy': 1652, '1990s': 25, 'hilarious': 2106, 'imagery': 2234, 'unforgettable': 4652, 'michelle': 2830, 'robert': 3713, 'especially': 1520, 'challenge': 743, 'smile': 4036, 'ten': 4399, 'minutes': 2859, 'journey': 2421, 'start': 4156, 'finish': 1732, 'leave': 2555, 'ned': 2986, 'kelly': 2452, 'initially': 2291, 'heard': 2062, 'hearted': 2065, 'decided': 1149, 'since': 3990, 'video': 4733, 'soundtrack': 4085, 'viewings': 4741, 'am': 204, 'underlying': 4641, 'australian': 357, 'appreciate': 279, 'earth': 1403, 'ask': 316, 'absence': 70, 'proves': 3447, 'fancy': 1649, 'costumes': 1006, 'set': 3898, 'millions': 2848, 'dollars': 1315, 'bonus': 534, 'including': 2264, 'variety': 4714, 'add': 115, 'note': 3044, 'criticism': 1063, 'regarding': 3589, 'lines': 2612, 'focus': 1766, 'number': 3060, 'basic': 406, 'elements': 1443, 'closer': 856, 'discovered': 1280, 'joe': 2407, 'responsible': 3656, 'gang': 1867, 'explored': 1595, 'overlooked': 3154, 'efforts': 1433, 'provided': 3449, 'police': 3322, 'yes': 4982, 'interpretation': 2328, 'understandable': 4644, 'grab': 1949, 'attention': 345, 'accept': 80, 'historical': 2119, 'particular': 3194, 'interest': 2323, 'behind': 447, 'inspired': 2301, 'closely': 855, 'decide': 1148, 'yourself': 4993, 'opinion': 3118, 'id': 2212, 'call': 651, 'breath': 573, 'fresh': 1833, 'fun': 1848, 'couple': 1016, 'remember': 3616, 'car': 680, 'favorites': 1672, 'quote': 3496, 'versions': 4721, 'words': 4938, 'amazing': 209, 'michael': 2829, 'keaton': 2448, 'attempt': 340, 'revenge': 3675, 'family': 1645, 'married': 2744, 'english': 1483, 'language': 2516, 'leads': 2548, 'marriage': 2743, 'large': 2517, 'irish': 2353, 'fortune': 1806, 'mistaken': 2872, 'gags': 1862, 'main': 2707, 'pay': 3216, 'cleverly': 842, 'turning': 4608, 'using': 4698, 'wall': 4781, 'meat': 2787, 'photo': 3257, 'slowly': 4032, 'floor': 1759, 'camera': 659, 'loses': 2657, 'beer': 439, 'massive': 2756, 'built': 618, 'stops': 4203, 'score': 3822, 'piano': 3264, 'effects': 1431, 'science': 3816, 'walk': 4775, '40': 48, 'wife': 4884, 'ignorant': 2223, 'masses': 2755, 'entertained': 1498, 'drawn': 1351, 'logical': 2639, 'offended': 3085, 'nonsense': 3030, 'presented': 3376, 'under': 4639, 'picked': 3266, 'book': 535, 'watched': 4813, 'matrix': 2767, 'thousand': 4465, 'write': 4967, 'washington': 4806, 'crime': 1055, 'experiment': 1583, 'done': 1322, 'brief': 579, 'search': 3841, 'reveal': 3670, 'methods': 2825, 'groups': 1981, 'san': 3780, 'etc': 1527, 'pretty': 3384, 'wide': 4880, 'scream': 3826, 'amanda': 205, 'blake': 498, 'don': 1320, 'clearly': 840, 'having': 2054, 'ball': 388, 'easier': 1405, 'ahead': 159, 'production': 3419, 'guys': 2001, 'hill': 2108, 'lewis': 2586, 'timing': 4498, 'ancient': 225, 'kept': 2456, 'audiences': 353, 'sheer': 3925, 'enjoyment': 1488, 'doing': 1312, 'sad': 3767, 'clown': 862, 'touching': 4536, 'manner': 2729, 'personally': 3243, 'hes': 2093, 'bought': 552, 'stuff': 4243, 'fond': 1776, 'run': 3755, 'check': 777, 'fan': 1648, 'curious': 1083, 'imdb': 2240, 'rating': 3529, '75': 57, 'comments': 901, 'friends': 1837, 'sat': 3786, 'wanted': 4789, 'cool': 989, 'versus': 4722, 'naked': 2959, 'blood': 512, 'sucked': 4270, 'likes': 2602, 'eat': 1411, 'already': 197, 'stop': 4201, 'hype': 2207, 'rate': 3526, 'carpenter': 694, 'area': 286, 'special': 4097, 'pointless': 3318, 'placed': 3283, 'alongside': 196, 'equally': 1510, 'clichéd': 845, 'screenplay': 3831, 'hollow': 2135, 'useless': 4695, 'practically': 3362, 'everything': 1544, 'sequences': 3888, 'genuinely': 1892, 'element': 1442, 'impressive': 2253, 'hoping': 2160, 'invisible': 2344, 'hardly': 2036, 'itself': 2371, 'basis': 408, 'overly': 3155, 'familiar': 1643, 'bath': 411, 'mass': 2753, 'clichés': 846, 'fast': 1661, 'top': 4525, 'kevin': 2457, 'trying': 4601, 'points': 3319, 'competition': 918, 'mans': 2730, 'merit': 2816, 'notch': 3043, 'rescue': 3643, 'currently': 1085, 'taking': 4352, 'ho': 2127, 're': 3535, 'whilst': 4869, 'hero': 2088, 'day': 1129, 'throw': 4479, 'edward': 1426, 'winner': 4897, 'formula': 1802, 'nowhere': 3056, 'predictable': 3367, 'james': 2378, 'bond': 532, 'roger': 3724, 'moore': 2901, 'general': 1880, 'total': 4531, 'remake': 3612, 'heaven': 2068, 'wait': 4770, 'excuse': 1564, 'romantic': 3733, 'vehicle': 4718, 'rock': 3720, 'weak': 4824, 'generally': 1881, 'body': 527, 'fat': 1663, 'rich': 3685, 'dead': 1132, 'shown': 3959, 'coming': 896, 'blacks': 494, 'chemistry': 782, 'shot': 3949, 'rent': 3626, 'youll': 4988, 'eager': 1396, 'press': 3379, 'officer': 3092, 'ham': 2011, 'cliché': 844, 'ridden': 3691, 'cant': 671, 'blame': 499, 'surely': 4309, 'someone': 4064, 'perspective': 3245, 'standard': 4144, 'characterization': 759, 'exaggerated': 1552, 'unbelievable': 4634, 'notice': 3048, 'hbo': 2055, 'co': 867, 'stereotypes': 4179, 'explained': 1587, 'light': 2595, 'lacked': 2503, 'remotely': 3623, 'ring': 3698, 'waiting': 4772, 'skip': 4016, 'suspenseful': 4331, 'moments': 2887, 'described': 1195, 'amateur': 206, 'perry': 3237, 'appearance': 274, 'hunter': 2199, 'australia': 356, 'realizing': 3555, 'prequel': 3372, 'forward': 1808, 'incredibly': 2270, 'overrated': 3156, 'anime': 243, 'episodes': 1508, '25': 40, '14': 6, 'year': 4978, 'boy': 557, 'girl': 1909, 'giant': 1905, 'robot': 3717, 'defend': 1158, 'japan': 2381, 'against': 147, 'angels': 234, 'numbers': 3061, 'recent': 3566, 'attack': 337, 'humans': 2190, 'attempting': 342, 'destroy': 1213, 'fight': 1707, 'boring': 543, 'space': 4090, 'occurs': 3078, 'intrigued': 2334, 'references': 3583, 'shallow': 3917, 'religious': 3608, 'philosophical': 3253, 'randomly': 3515, 'zero': 4996, 'tedious': 4387, 'pathetic': 3210, 'simplistic': 3985, 'conflicts': 940, 'hate': 2046, 'repeated': 3631, 'face': 1616, 'wasting': 4810, 'anger': 235, 'inducing': 2279, 'garbage': 1870, 'endless': 1473, 'repetitive': 3633, 'kidding': 2465, 'sitting': 4007, 'living': 2629, 'room': 3735, 'table': 4346, 'damn': 1100, 'gotta': 1946, 'tonight': 4519, 'able': 66, 'uninteresting': 4660, 'opening': 3114, 'happily': 2030, 'sit': 4003, 'minute': 2858, 'indeed': 2271, 'purchased': 3470, 'dust': 1388, 'spending': 4106, 'pure': 3471, 'torture': 4529, 'highly': 2105, 'disaster': 1276, 'represents': 3639, 'dull': 1384, 'intelligent': 2314, 'cinema': 816, 'universal': 4665, 'piece': 3272, 'crap': 1031, 'simply': 3986, 'comment': 898, 'altogether': 202, 'documentary': 1307, 'strange': 4211, 'awards': 367, 'enjoy': 1484, 'bunch': 623, 'impression': 2252, 'thoroughly': 4459, 'creative': 1041, 'teacher': 4375, 'kinda': 2477, 'lion': 2614, 'green': 1971, 'animals': 240, 'neat': 2982, 'liked': 2600, 'garden': 1872, 'lots': 2662, 'colorful': 878, 'connect': 944, 'judy': 2426, 'looks': 2649, 'wise': 4903, 'previous': 3387, 'rendition': 3625, 'lol': 2640, 'lily': 2605, 'fall': 1637, 'date': 1118, 'meet': 2793, 'feelings': 1686, 'wars': 4804, 'cinematic': 818, 'intensity': 2317, 'moving': 2928, 'test': 4416, '20': 29, 'filled': 1715, 'climax': 849, 'trilogy': 4586, 'george': 1893, 'lucas': 2680, 'gives': 1914, 'saga': 3773, 'summary': 4290, 'contains': 964, 'spoilers': 4124, 'empire': 1464, 'strikes': 4225, 'finally': 1724, 'emotional': 1459, 'surprise': 4312, 'visit': 4755, 'new': 3003, 'construction': 960, 'ultimate': 4627, 'plan': 3287, 'rebel': 3561, 'luke': 2687, 'dark': 1115, 'travel': 4567, 'solo': 4058, 'lord': 2652, 'dying': 1393, 'learns': 2553, 'heroes': 2089, 'joined': 2413, 'species': 4098, 'heads': 2059, 'forest': 1791, 'mighty': 2836, 'intense': 2316, 'battle': 414, 'delivers': 1172, 'convince': 983, 'emotionally': 1460, 'emotions': 1461, 'wicked': 4879, 'master': 2757, 'sons': 4073, 'timeless': 4496, 'vs': 4767, 'evil': 1548, 'spectacular': 4101, 'sisters': 4002, 'holly': 2136, 'younger': 4990, 'teenage': 4389, 'problems': 3409, 'sister': 4001, 'women': 4923, 'planet': 3289, 'support': 4303, 'mistakes': 2873, 'sometimes': 4067, 'continue': 969, 'friendship': 1838, 'loved': 2670, 'jenny': 2393, 'plays': 3301, 'actresses': 106, 'gary': 1873, 'friend': 1835, 'wish': 4904, 'hasnt': 2044, 'western': 4853, 'flash': 1745, 'productions': 3420, 'non': 3027, 'imagination': 2236, 'sadly': 3769, 'society': 4050, 'available': 361, 'small': 4033, 'easy': 1410, 'grade': 1951, 'shakespeare': 3915, 'levels': 2585, 'achievement': 94, 'art': 304, 'sake': 3775, 'cop': 991, 'retired': 3664, 'dreams': 1355, 'unable': 4631, 'moment': 2886, 'needed': 2988, 'romance': 3732, 'triumph': 4590, 'cynical': 1093, 'person': 3238, 'existence': 1571, 'professional': 3421, 'business': 633, 'outside': 3146, 'artistic': 308, 'post': 3352, 'classes': 834, 'photography': 3260, 'glass': 1917, 'drawing': 1350, 'included': 2262, 'screening': 3830, 'lately': 2524, 'remote': 3622, 'california': 650, 'nearby': 2980, 'states': 4163, 'listen': 2619, 'record': 3573, 'sounds': 4084, 'background': 380, 'obsessed': 3069, 'content': 966, 'andy': 230, 'skills': 4014, 'cinematographer': 819, 'thomas': 4458, 'path': 3209, 'road': 3709, 'empty': 1465, 'martin': 2748, 'carradine': 695, 'murderous': 2942, 'kidnapped': 2466, 'christopher': 811, 'daring': 1114, 'modern': 2882, 'beloved': 461, 'glad': 1916, 'tied': 4489, 'actor': 103, 'allowed': 190, 'classic': 835, 'guilty': 1995, 'dislike': 1288, 'bit': 488, 'odd': 3080, 'enjoyed': 1486, 'picture': 3269, 'annoyed': 248, 'street': 4216, 'performer': 3231, 'craft': 1028, 'winds': 4895, 'conventional': 979, 'kid': 2464, 'slave': 4022, 'soon': 4074, 'discovers': 1281, 'front': 1841, 'tooth': 4524, 'manage': 2722, 'usually': 4700, 'nice': 3008, 'sentimental': 3882, 'carried': 698, '15': 7, 'overall': 3150, 'involving': 2349, 'sadness': 3770, 'importance': 2246, 'enjoying': 1487, 'experience': 1580, '70s': 56, 'italian': 2367, 'village': 4743, 'represent': 3637, 'aspects': 322, 'behavior': 446, 'drug': 1373, 'amazed': 208, 'script': 3834, 'twists': 4619, 'wow': 4962, 'recommend': 3571, 'shall': 3916, 'dance': 1103, 'dancing': 1107, 'flow': 1762, 'spirit': 4113, 'expression': 1602, 'birth': 486, 'humble': 2191, 'office': 3091, 'released': 3603, 'surprisingly': 4316, 'release': 3602, 'ashamed': 312, 'desire': 1205, 'passion': 3205, 'witness': 4914, 'days': 1130, 'viewed': 4737, 'genius': 1887, 'fellow': 1691, 'site': 4005, 'pile': 3275, 'redeeming': 3577, 'ended': 1470, 'chorus': 803, 'positive': 3346, 'sir': 4000, 'anthony': 253, 'reviewers': 3678, 'hollywood': 2137, 'anywhere': 263, 'risk': 3704, 'semi': 3874, 'famous': 1647, 'christian': 808, 'features': 1680, 'signed': 3971, 'reading': 3544, 'knowing': 2490, 'details': 1219, 'repeat': 3630, 'pity': 3281, 'individual': 2277, 'produced': 3414, 'masterpiece': 2759, 'believe': 454, 'fault': 1668, 'direction': 1261, 'style': 4249, 'overdone': 3152, 'absolutely': 72, 'distracting': 1297, 'substance': 4258, 'considered': 951, 'quotes': 3497, 'deserved': 1200, 'current': 1084, 'revealing': 3672, 'inner': 2292, 'unfortunate': 4653, 'condition': 937, 'artists': 309, 'regard': 3588, 'onto': 3111, 'hunters': 2200, 'guns': 1998, 'sex': 3907, 'oh': 3096, 'popular': 3333, 'plots': 3310, 'annoying': 249, 'overwhelming': 3157, 'music': 2946, 'emotion': 1458, 'information': 2288, 'took': 4523, 'lacks': 2505, 'subtlety': 4261, 'genre': 1888, 'aware': 368, 'soul': 4079, 'wisdom': 4902, 'commented': 900, 'compare': 911, 'gandhi': 1866, 'godfather': 1927, 'rings': 3699, 'crew': 1053, 'need': 2987, 'hope': 2155, 'luck': 2681, 'nights': 3016, 'ago': 154, 'premise': 3370, 'promising': 3433, 'fails': 1628, 'deliver': 1169, 'laughed': 2532, 'line': 2610, 'cares': 690, 'walken': 4777, 'developed': 1223, 'thin': 4449, 'nearly': 2981, 'read': 3543, 'negative': 2991, 'viewing': 4740, 'started': 4157, 'unexpected': 4650, 'chases': 771, 'explosions': 1597, 'gratuitous': 1961, 'violence': 4747, 'welcome': 4842, 'used': 4693, 'paying': 3217, 'requires': 3642, 'actual': 108, 'change': 749, 'terms': 4406, 'generic': 1885, 'subject': 4253, 'influence': 2286, 'essentially': 1523, 'unlike': 4670, 'study': 4242, 'jackson': 2375, 'city': 825, 'trust': 4598, 'corrupt': 1001, 'department': 1182, 'gun': 1996, 'specific': 4099, 'similarities': 3979, 'hall': 2009, 'struck': 4232, 'parallel': 3185, 'political': 3324, 'public': 3460, 'knows': 2493, 'following': 1774, 'complexity': 924, 'reasons': 3560, 'unrealistic': 4677, 'expectations': 1576, 'watches': 4814, 'row': 3744, 'superb': 4296, 'directing': 1260, 'flawless': 1751, 'weakest': 4825, 'link': 2613, 'accent': 78, 'members': 2801, 'reaction': 3541, 'terrifying': 4410, 'lacking': 2504, 'fear': 1676, 'screaming': 3827, 'albeit': 173, 'mansion': 2731, 'property': 3438, 'scary': 3807, 'flop': 1760, 'guarantee': 1987, 'witnessed': 4915, 'hoped': 2156, 'alex': 179, 'shut': 3961, 'buried': 624, 'alive': 186, 'lame': 2510, 'horrific': 2166, 'draws': 1352, 'sympathy': 4343, 'whose': 4877, 'haunted': 2050, 'husband': 2204, 'wannabe': 4787, 'smooth': 4041, 'tough': 4537, 'ah': 158, 'mickey': 2831, 'order': 3126, 'estate': 1525, 'airplane': 166, 'persona': 3239, 'providing': 3451, 'slight': 4027, 'saying': 3800, 'mary': 2751, 'cops': 993, 'delightful': 1168, 'medium': 2792, 'lets': 2580, 'contrived': 976, 'uninspired': 4657, 'irritating': 2359, 'hitchcock': 2123, 'pictures': 3270, 'starring': 4154, 'dressed': 1358, 'grace': 1950, 'convincing': 985, 'introduced': 2337, 'purpose': 3474, 'deals': 1137, 'defined': 1160, 'period': 3236, 'issue': 2364, 'mill': 2845, 'performances': 3229, 'finale': 1723, 'central': 735, 'station': 4164, 'york': 4985, 'section': 3853, 'clever': 841, 'smart': 4035, 'charles': 764, 'result': 3660, 'engaging': 1481, 'thriller': 4472, 'competent': 917, 'veteran': 4724, 'effective': 1429, 'de': 1131, 'buddy': 609, 'returning': 3667, 'powers': 3361, 'ii': 2226, 'leading': 2547, '60s': 54, 'appearances': 275, 'losing': 2658, 'bitter': 491, 'blow': 514, 'actions': 101, 'anti': 254, 'struggle': 4234, 'happens': 2029, 'suffice': 4279, 'physically': 3263, 'weekend': 4838, 'motivation': 2914, 'survival': 4320, 'former': 1800, 'arguably': 289, 'latter': 2528, 'ugly': 4625, 'adds': 119, 'quest': 3486, 'forget': 1793, 'method': 2824, 'spoil': 4121, 'delight': 1167, 'nature': 2975, 'uk': 4626, 'image': 2233, 'subtitles': 4259, 'hearing': 2063, 'punch': 3466, 'recommended': 3572, 'worst': 4952, 'apparently': 270, 'succeeded': 4263, 'revolves': 3682, 'centered': 733, 'source': 4086, 'confidence': 938, 'pair': 3176, 'wreck': 4965, 'broke': 593, 'screenwriter': 3833, 'agent': 150, 'gross': 1978, 'forced': 1787, 'eccentric': 1414, 'manager': 2724, 'ron': 3734, 'whom': 4875, 'serial': 3889, 'murderer': 2941, 'costume': 1005, 'victims': 4730, 'makers': 2715, 'discover': 1279, 'loss': 2659, 'deserve': 1199, 'exceptional': 1558, 'mediocre': 2791, 'comedic': 888, 'commentary': 899, 'david': 1124, 'shines': 3932, 'career': 686, 'considering': 952, 'hamilton': 2012, 'photographer': 3259, 'slightly': 4029, 'surprised': 4313, 'books': 536, 'movement': 2923, 'girls': 1911, 'relations': 3596, 'lesbian': 2573, 'laura': 2536, 'developing': 1224, 'female': 1693, 'model': 2880, 'photos': 3261, 'average': 362, 'reduced': 3579, 'collection': 874, 'acceptable': 81, 'erotic': 1515, 'german': 1896, 'soft': 4051, 'type': 4621, 'report': 3635, 'usual': 4699, 'works': 4945, 'destiny': 1212, 'nude': 3058, 'shower': 3957, 'rooms': 3736, 'clothes': 860, 'territory': 4411, 'shoot': 3942, 'follows': 1775, 'shots': 3950, 'remind': 3618, 'presents': 3377, 'confused': 941, 'thinking': 4453, 'mostly': 2910, 'regular': 3592, 'suppose': 4305, 'introduces': 2338, 'kung': 2498, 'fu': 1844, 'trained': 4557, 'sends': 3876, 'student': 4238, 'suspects': 4328, 'students': 4239, 'committed': 905, 'combination': 883, 'styles': 4250, 'match': 2762, 'wrapped': 4964, 'signs': 3973, 'choreography': 802, 'dubbing': 1380, 'fighting': 1709, 'range': 3516, 'greatly': 1967, 'holds': 2131, 'occasionally': 3075, 'receives': 3565, 'themes': 4434, 'whats': 4860, 'greedy': 1969, 'selfish': 3870, 'greed': 1968, 'destroyed': 1214, 'planning': 3291, 'overcome': 3151, 'odds': 3082, 'rocks': 3722, 'blair': 497, 'witch': 4909, 'nonetheless': 3029, 'appreciated': 280, 'various': 4715, 'describe': 1194, 'alas': 172, 'engage': 1479, 'respect': 3652, 'gore': 1941, 'aspect': 321, 'severe': 3906, 'theres': 4440, 'profound': 3423, 'ok': 3098, 'stands': 4147, 'worthwhile': 4955, 'stretch': 4221, 'feature': 1678, 'dialogs': 1233, 'steps': 4177, 'experiences': 1582, 'flaw': 1749, 'location': 2635, 'failed': 1626, 'whatsoever': 4861, 'realize': 3552, 'thanks': 4423, 'sloppy': 4030, 'daniel': 1111, 'golden': 1934, 'structure': 4233, 'lessons': 2578, 'border': 539, 'constant': 957, 'state': 4160, 'army': 295, 'everywhere': 1545, 'bleak': 503, 'imagine': 2238, 'enormous': 1490, 'further': 1853, 'gay': 1876, 'accepted': 82, 'limits': 2607, 'conflict': 939, 'peoples': 3222, 'thus': 4486, 'extra': 1606, 'tells': 4397, 'speak': 4094, 'wedding': 4836, 'newly': 3004, 'bomb': 531, 'funeral': 1849, 'suicide': 4283, 'kill': 2468, 'arrives': 302, 'sees': 3866, 'middle': 2833, 'reaches': 3538, 'vengeance': 4719, 'prince': 3396, 'peace': 3219, 'sides': 3967, 'false': 1641, 'impossible': 2249, 'stronger': 4230, 'prisoners': 3403, 'wearing': 4831, 'yellow': 4981, 'pink': 3277, 'shocking': 3940, 'exist': 1569, 'thousands': 4466, 'britain': 588, 'deal': 1135, 'today': 4508, 'solution': 4059, 'succeed': 4262, 'avoid': 363, 'discussion': 1284, 'forbidden': 1785, 'children': 792, 'soldiers': 4054, 'concept': 930, 'dr': 1340, 'university': 4667, 'paris': 3189, 'eyes': 1613, 'rural': 3758, 'town': 4541, 'revolution': 3680, 'genuine': 1891, 'worthy': 4956, 'names': 2963, 'cuba': 1075, 'merely': 2815, 'market': 2740, 'julia': 2427, 'european': 1530, 'rambo': 3511, 'daily': 1097, 'honest': 2146, 'dealing': 1136, 'excessive': 1560, 'narrator': 2967, 'clips': 852, 'visually': 4758, 'fair': 1630, 'lifestyle': 2593, 'julie': 2428, 'awesome': 371, 'sweet': 4336, 'anyway': 261, 'bothered': 549, 'normal': 3033, 'cable': 644, 'company': 910, 'talking': 4360, 'apart': 264, 'acted': 98, 'personalities': 3241, 'fit': 1740, 'shame': 3918, 'canadian': 667, 'dog': 1310, 'angry': 238, 'daughter': 1121, 'visits': 4756, 'winning': 4898, 'break': 569, 'decides': 1150, 'coach': 868, 'train': 4556, 'elvis': 1451, 'spot': 4131, 'lies': 2591, 'describes': 1196, 'friendly': 1836, 'near': 2979, 'felix': 1689, 'figure': 1711, 'results': 3662, 'images': 2235, 'charming': 768, 'gritty': 1977, 'paced': 3162, 'sleazy': 4023, 'corny': 997, 'class': 833, 'pace': 3161, 'delivery': 1173, 'breathtaking': 574, 'brilliance': 582, 'matched': 2763, 'realism': 3549, 'taken': 4350, 'contemporary': 965, 'code': 869, 'ignored': 2225, 'critical': 1062, 'spoke': 4125, 'directly': 1263, 'depression': 1189, 'vision': 4754, 'potentially': 3356, 'factory': 1623, 'lazy': 2543, 'exists': 1573, 'service': 3896, 'handled': 2019, 'caring': 691, 'douglas': 1334, 'affair': 135, 'sutherland': 4333, 'pal': 3177, 'believes': 456, 'badly': 383, 'clark': 832, 'gave': 1875, '2003': 33, 'mechanical': 2788, 'phone': 3255, 'eva': 1531, 'exposed': 1598, 'century': 736, 'basically': 407, 'desperate': 1208, '100': 1, 'barely': 399, 'truly': 4597, 'marketing': 2741, 'punishment': 3467, 'locations': 2636, 'channel': 753, 'soap': 4047, 'opera': 3116, 'tries': 4585, 'exotic': 1574, 'phony': 3256, 'contest': 967, 'proceeds': 3411, 'hook': 2152, 'beat': 423, 'situations': 4009, 'interaction': 2322, 'motion': 2913, 'escape': 1517, 'types': 4622, 'hooked': 2153, 'cup': 1080, 'tea': 4373, 'drivel': 1364, 'hiding': 2099, '2000': 30, 'slick': 4026, 'runs': 3757, 'island': 2361, 'brady': 561, 'benefit': 465, 'initial': 2290, 'diana': 1237, 'paint': 3173, 'kick': 2460, 'ass': 323, 'vampire': 4711, 'theyll': 4444, 'offer': 3087, 'trash': 4565, 'junk': 2436, 'food': 1778, 'ie': 2221, 'protagonists': 3442, 'jimmy': 2403, 'bargain': 400, 'basement': 405, 'producers': 3416, 'lights': 2597, 'theyre': 4445, 'seat': 3845, 'whether': 4866, 'understood': 4647, 'lighting': 2596, 'mixture': 2878, 'songs': 4072, 'bizarre': 492, 'appeal': 271, 'improvement': 2256, 'freak': 1824, 'ways': 4822, 'imagined': 2239, 'richard': 3686, 'cry': 1073, 'freedom': 1828, 'denzel': 1181, 'donald': 1321, 'woods': 4935, 'south': 4087, 'africa': 141, 'newspaper': 3006, 'editor': 1423, 'civil': 826, 'rights': 3697, 'steve': 4181, 'difficult': 1249, 'hatred': 2049, 'attitude': 346, 'wins': 4899, 'law': 2538, 'citizen': 824, 'system': 4345, 'keeps': 2451, 'illegal': 2229, 'meeting': 2794, 'arrested': 298, 'beaten': 424, 'huge': 2185, 'nightmare': 3014, 'charisma': 762, 'enemy': 1477, 'banned': 395, 'means': 2783, 'flashbacks': 1747, 'argue': 290, 'captivating': 675, 'tears': 4380, 'composed': 926, 'reached': 3537, 'incredible': 2269, 'cinematography': 820, 'power': 3359, 'redemption': 3578, 'conclusion': 936, 'saving': 3797, 'grown': 1984, 'struggles': 4235, 'builds': 617, 'arent': 288, 'resolution': 3649, 'wasted': 4809, 'cooper': 990, 'compelling': 916, 'twice': 4613, 'cross': 1066, 'mountains': 2918, 'ice': 2210, 'cold': 872, 'water': 4816, 'snow': 4045, 'mountain': 2917, 'loves': 2674, 'typical': 4623, 'animated': 241, 'national': 2970, 'delivering': 1171, 'bland': 500, 'bore': 540, 'fest': 1696, 'mixed': 2877, 'kids': 2467, 'entertain': 1497, 'remaining': 3610, 'handful': 2017, 'horse': 2170, 'nor': 3032, 'leader': 2546, 'spirited': 4114, 'horses': 2171, 'includes': 2263, 'mom': 2885, 'captured': 677, 'americans': 214, 'process': 3412, 'wild': 4885, 'west': 4852, 'cruel': 1070, 'folks': 1771, 'computer': 927, 'animation': 242, 'traditional': 4550, 'suffered': 4276, 'chasing': 772, 'sequence': 3887, 'uses': 4697, 'downhill': 1336, 'multiple': 2936, 'similar': 3978, 'dialog': 1232, 'asleep': 320, 'disney': 1289, 'musicals': 2948, 'wind': 4893, 'telling': 4396, 'adams': 112, 'stay': 4166, 'talk': 4358, 'monsters': 2893, 'showing': 3958, 'pulling': 3463, 'destroying': 1215, 'happened': 2027, 'occasion': 3073, 'soldier': 4053, 'victim': 4729, 'putting': 3482, 'resulting': 3661, 'deaths': 1142, 'quickly': 3491, 'aside': 315, 'kicking': 2462, 'bottom': 551, 'musical': 2947, 'bill': 481, 'favor': 1670, 'necessary': 2984, 'thank': 4421, 'helen': 2075, 'hunt': 2198, 'jeff': 2390, 'hated': 2047, 'lesson': 2577, 'key': 2458, 'wwii': 4975, 'training': 4558, 'riding': 3695, 'vote': 4766, '18': 10, 'wouldnt': 4958, 'scale': 3802, 'comparison': 914, 'portrayed': 3342, 'spanish': 4092, 'pride': 3391, 'free': 1827, 'poverty': 3357, 'include': 2261, 'african': 142, 'roots': 3738, 'research': 3644, 'che': 773, 'king': 2479, 'revolutionary': 3681, 'helped': 2080, 'boat': 523, 'america': 212, 'bright': 581, 'proud': 3444, 'views': 4742, 'iran': 2350, 'soccer': 4048, 'games': 1865, 'forms': 1801, 'tricks': 4583, 'caught': 722, 'hold': 2129, 'cage': 645, 'pick': 3265, 'insane': 2296, 'touched': 4534, 'heroic': 2090, 'march': 2734, 'judge': 2424, 'thief': 4448, 'walter': 4784, 'red': 3576, 'earlier': 1399, 'stewart': 4184, 'scenery': 3810, 'splendid': 4119, 'offers': 3090, 'remarkable': 3613, 'thirty': 4456, 'beautifully': 429, 'filmed': 1717, 'convincingly': 986, 'french': 1830, 'standards': 4145, 'perfection': 3225, 'finding': 1727, 'review': 3676, 'leonard': 2572, 'whoever': 4872, 'wrote': 4974, 'forever': 1792, 'access': 83, 'ludicrous': 2685, 'motivations': 2915, 'dad': 1095, 'ignore': 2224, 'idiots': 2220, 'philosophy': 3254, 'nuclear': 3057, 'alternate': 200, 'urban': 4688, 'shelf': 3926, 'curiosity': 1082, 'hip': 2114, 'hop': 2154, 'havent': 2053, 'multi': 2935, 'cultural': 1078, 'suck': 4269, 'relate': 3593, 'heres': 2087, 'sequel': 3885, 'smoking': 4040, 'crack': 1027, 'drunken': 1376, 'forgot': 1796, 'props': 3439, 'directors': 1266, 'bet': 470, 'reference': 3582, 'cover': 1022, 'expecting': 1578, 'switch': 4339, 'rex': 3683, 'reed': 3580, 'uncle': 4636, 'buck': 605, 'ego': 1435, 'academy': 77, 'trip': 4588, 'accident': 84, 'brazil': 568, 'jim': 2402, 'carrey': 696, 'target': 4366, 'conceived': 929, 'argument': 291, 'buying': 641, 'dvds': 1392, 'dennis': 1179, 'hopper': 2161, 'significant': 3972, 'storytelling': 4209, 'empathy': 1462, 'attractive': 351, 'females': 1694, 'boredom': 542, 'trailer': 4554, 'warned': 4798, 'honestly': 2147, 'college': 875, 'field': 1704, 'ireland': 2352, 'disappear': 1270, 'teens': 4392, 'plenty': 3307, 'ginger': 1908, 'taylor': 4372, 'nudity': 3059, 'display': 1291, 'combined': 885, 'skin': 4015, 'feels': 1687, 'guts': 1999, 'torn': 4528, 'inventive': 2341, 'knife': 2487, 'em': 1452, 'clip': 851, 'creature': 1045, 'fx': 1858, 'helps': 2082, 'faith': 1633, '90': 60, 'bottle': 550, 'cube': 1076, 'trapped': 4564, 'inside': 2297, 'paranoia': 3186, 'covered': 1023, 'compared': 912, 'suggested': 4281, 'fell': 1690, 'brought': 600, 'ties': 4490, 'unnecessary': 4672, 'touch': 4533, 'locked': 2637, 'spirits': 4115, 'casting': 711, 'villains': 4745, 'normally': 3034, 'depressing': 1188, 'purely': 3472, 'comical': 894, 'hint': 2112, 'shocked': 3939, 'abc': 63, 'week': 4837, 'pushing': 3479, 'seasons': 3844, 'base': 402, 'dropped': 1370, 'underrated': 4642, 'humour': 2194, 'un': 4630, 'bloody': 513, 'criminals': 1058, 'arnold': 296, 'response': 3654, 'gem': 1877, 'pilot': 3276, 'countless': 1012, 'batman': 413, 'camp': 662, 'partner': 3198, 'speech': 4102, 'stood': 4199, 'exact': 1550, 'says': 3801, 'letting': 2583, 'kissing': 2484, 'fooled': 1780, 'kiss': 2483, 'terrible': 4407, 'illogical': 2231, 'elaborate': 1439, 'move': 2921, 'madness': 2698, 'granted': 1957, 'cut': 1089, 'explaining': 1588, 'technical': 4381, 'frustration': 1843, 'sight': 3969, 'laughable': 2530, 'looked': 2647, 'feet': 1688, 'intent': 2318, 'paper': 3183, 'dream': 1354, 'teen': 4388, 'jump': 2429, 'heck': 2071, 'wet': 4855, 'embarrassed': 1453, 'cgi': 740, 'reasonable': 3558, 'werent': 4849, 'monster': 2892, 'pro': 3406, 'descent': 1193, 'setting': 3900, 'club': 863, 'balance': 387, 'testament': 4417, 'gods': 1928, 'polished': 3323, 'jessica': 2398, 'simpson': 3987, 'skill': 4013, 'stopped': 4202, 'online': 3109, 'anymore': 258, 'southern': 4088, 'slapstick': 4019, 'flat': 1748, 'page': 3167, 'wilson': 4891, 'producer': 3415, 'suffers': 4278, 'hired': 2117, 'buy': 640, 'talks': 4361, 'remains': 3611, 'involve': 2345, 'isolated': 2363, 'cabin': 643, 'surrounding': 4319, 'eventually': 1537, 'reasonably': 3559, 'confusion': 943, 'justify': 2439, 'pointed': 3317, 'opportunities': 3120, 'driven': 1365, 'adding': 117, 'inspiration': 2300, 'missed': 2867, 'evident': 1547, 'effectively': 1430, 'unknown': 4668, 'towards': 4540, 'faced': 1617, 'warning': 4800, 'tongue': 4518, 'cheek': 779, 'convinced': 984, 'psychological': 3458, 'scares': 3806, 'successfully': 4267, 'avoided': 364, 'homage': 2141, 'intended': 2315, 'ghosts': 1903, 'logic': 2638, 'reviewer': 3677, 'website': 4834, 'scare': 3803, 'sentence': 3881, 'supernatural': 4302, 'haunting': 2051, 'stick': 4185, 'hell': 2077, 'sub': 4252, 'obscure': 3068, 'ultra': 4629, 'surprises': 4314, 'store': 4204, 'advise': 134, 'plague': 3285, 'knock': 2488, 'gripping': 1976, 'holiday': 2134, 'faces': 1618, 'instantly': 2306, 'advantage': 129, 'cases': 708, 'lloyd': 2630, 'miserably': 2864, 'miscast': 2862, 'portrayal': 3341, 'criminal': 1057, 'provide': 3448, 'movements': 2924, 'pants': 3182, 'lie': 2590, 'mad': 2696, 'superior': 4300, 'suddenly': 4273, 'carrying': 701, 'child': 789, 'factor': 1622, 'travesty': 4570, 'paid': 3169, 'daughters': 1122, 'poetry': 3314, 'hotel': 2175, 'blue': 518, 'leaves': 2556, 'machine': 2693, 'latest': 2526, 'cats': 721, 'rats': 3531, 'mothers': 2912, 'pleasure': 3306, 'mine': 2853, 'mother': 2911, 'occurred': 3077, 'laughably': 2531, 'learning': 2552, 'comic': 893, 'longer': 2645, 'unusual': 4681, 'progresses': 3426, 'ordinary': 3128, '30': 42, 'credits': 1050, 'nazi': 2977, 'scientist': 3818, 'opens': 3115, 'mouth': 2920, 'survive': 4321, 'double': 1331, 'turned': 4606, 'lived': 2626, '3000': 43, 'believing': 457, 'zombies': 4998, 'classics': 837, 'nine': 3017, 'outer': 3143, 'sports': 4130, 'cars': 702, 'iraq': 2351, 'bank': 394, 'bacall': 377, 'oscar': 3133, 'era': 1513, 'industry': 2280, 'building': 615, 'forgotten': 1797, 'realized': 3553, 'spoiled': 4122, 'blew': 505, 'morality': 2903, 'drinking': 1362, 'psychiatrist': 3455, 'claims': 830, 'accidentally': 85, 'escapes': 1519, 'chased': 770, 'wants': 4791, 'staff': 4138, 'crazy': 1035, 'incompetent': 2266, 'mentally': 2809, 'energy': 1478, 'chase': 769, 'wonders': 4931, 'race': 3499, 'shortly': 3947, 'painted': 3174, 'appeared': 276, 'came': 656, 'mirror': 2861, 'cg': 739, 'capture': 676, 'neither': 2996, 'noir': 3023, 'sin': 3988, 'blade': 495, 'generation': 1883, 'achieved': 93, 'scenario': 3808, 'thrillers': 4473, 'bob': 524, 'mini': 2854, 'embarrassing': 1454, 'claim': 828, 'creator': 1043, 'bourne': 554, 'identity': 2217, 'importantly': 2248, 'continues': 971, 'manages': 2725, 'adaptation': 113, 'passing': 3204, 'introduction': 2339, 'examples': 1554, 'continuity': 972, 'changed': 750, 'generous': 1886, 'fascinated': 1657, 'stupidity': 4248, 'lawrence': 2539, 'olivier': 3103, 'farce': 1654, '1968': 16, 'naive': 2958, 'latin': 2527, 'priest': 3392, 'communist': 907, 'secretary': 3850, 'spiritual': 4116, 'compelled': 915, 'ease': 1404, 'prisoner': 3402, 'china': 795, 'miracle': 2860, 'solve': 4060, 'minor': 2857, 'shining': 3933, 'workers': 4943, 'worried': 4949, 'calls': 654, 'chinese': 796, 'acts': 107, 'roll': 3728, 'demands': 1175, 'sacrifice': 3766, 'cause': 723, 'social': 4049, 'justice': 2438, 'wealth': 4826, 'catholic': 720, 'church': 813, 'feed': 1683, 'christ': 807, 'saves': 3796, 'oscars': 3134, 'unlikely': 4671, 'plausible': 3295, 'secondly': 3847, 'remarks': 3615, 'difference': 1246, 'became': 431, 'fed': 1682, 'ralph': 3510, 'sunshine': 4294, 'agree': 155, 'choices': 798, 'nomination': 3026, 'nominated': 3025, 'proved': 3446, 'won': 4925, 'park': 3190, 'woody': 4936, 'allen': 188, 'ann': 244, 'adapted': 114, '1970s': 17, 'novel': 3052, 'lifetime': 2594, 'showed': 3956, 'version': 4720, 'commercials': 903, 'flynn': 1765, 'threw': 4470, 'transformation': 4560, 'kennedy': 2454, 'center': 732, 'wives': 4918, 'mild': 2839, 'serves': 3895, 'robin': 3715, 'williams': 4888, 'combine': 884, 'pamela': 3179, 'marvelous': 2750, 'rough': 3741, 'spots': 4132, 'nicely': 3009, 'official': 3094, 'warn': 4797, 'sexual': 3908, 'assault': 324, 'repeatedly': 3632, 'throws': 4482, 'force': 1786, 'sexually': 3910, 'jerk': 2395, 'womans': 4922, 'bone': 533, 'notion': 3050, 'sexuality': 3909, 'arts': 310, 'fighter': 1708, 'unbearable': 4633, 'patients': 3212, 'possibility': 3349, 'medical': 2790, 'searching': 3842, 'dangerous': 1110, 'patient': 3211, 'weapon': 4828, 'protect': 3443, 'suitable': 4285, 'depiction': 1185, 'copy': 994, 'interviews': 2330, 'disappointment': 1275, 'interview': 2329, 'careful': 688, 'hills': 2109, 'kane': 2442, 'majority': 2712, 'dubbed': 1379, 'superficial': 4298, 'military': 2844, 'questionable': 3488, 'facts': 1624, 'raised': 3508, 'desert': 1198, 'conversations': 981, 'colonel': 876, 'hey': 2095, 'private': 3404, 'nobody': 3022, 'slightest': 4028, 'command': 897, 'aliens': 184, 'futuristic': 1857, 'allow': 189, 'equal': 1509, 'dreadful': 1353, 'values': 4710, 'shock': 3938, 'fate': 1665, 'tend': 4400, 'spin': 4112, 'merits': 2817, 'iron': 2354, 'japanese': 2382, 'brown': 601, 'explains': 1589, 'bobby': 525, 'mario': 2738, 'players': 3299, 'lawyer': 2541, 'handle': 2018, 'served': 3894, 'surprising': 4315, 'kitchen': 2485, 'tense': 4403, 'usa': 4691, 'stayed': 4167, 'enjoyable': 1485, 'beast': 422, 'concerns': 934, 'catch': 714, 'curse': 1086, 'flashback': 1746, 'ride': 3692, 'explicit': 1591, 'graphic': 1958, 'rarely': 3524, '3rd': 47, 'insulting': 2310, 'bear': 420, 'dire': 1257, 'proper': 3436, 'tear': 4379, 'mentioning': 2812, 'born': 544, 'utterly': 4702, 'embarrassment': 1455, 'fox': 1814, 'wonderfully': 4929, 'comfortable': 892, 'painting': 3175, 'artificial': 306, 'moral': 2902, 'british': 589, 'screams': 3828, 'angle': 236, 'ken': 2453, 'acid': 95, 'older': 3101, 'hundred': 2195, 'glimpse': 1919, 'abysmal': 76, 'worlds': 4947, 'unwatchable': 4682, 'received': 3564, 'international': 2326, 'happiness': 2031, 'watchable': 4812, 'task': 4368, 'thrills': 4475, 'makeup': 2717, 'intention': 2319, 'amazingly': 210, 'prostitute': 3440, 'wondering': 4930, 'rental': 3627, 'couples': 1017, 'friday': 1834, '13th': 5, 'killings': 2473, 'brain': 562, 'nose': 3037, 'renting': 3629, 'bother': 548, 'ran': 3513, 'september': 3884, 'believable': 453, 'danny': 1112, 'drunk': 1375, 'driver': 1366, 'brother': 598, 'jesse': 2397, 'joey': 2408, 'dave': 1123, 'raise': 3507, 'cameron': 661, 'kate': 2446, 'ashley': 313, 'months': 2897, 'eight': 1436, 'description': 1197, 'portraying': 3343, 'parent': 3187, 'comedian': 887, 'tremendous': 4579, 'donna': 1323, 'success': 4265, 'according': 88, 'enthusiasm': 1501, 'recognized': 3570, 'focused': 1767, 'teach': 4374, 'tragedy': 4551, 'member': 2800, 'buff': 611, 'nowadays': 3055, 'send': 3875, 'led': 2558, 'pitch': 3279, 'scientific': 3817, 'dated': 1119, 'subplots': 4256, 'follow': 1772, 'arrival': 299, 'picks': 3268, 'undoubtedly': 4648, 'length': 2569, 'techniques': 4384, 'samurai': 3779, 'helicopter': 2076, 'extras': 1608, 'foot': 1781, 'sam': 3777, 'influenced': 2287, 'westerns': 4854, 'vice': 4727, 'east': 1407, 'melting': 2799, 'immensely': 2243, 'higher': 2101, 'sorts': 4078, 'flies': 1756, 'bullet': 620, 'wolf': 4920, 'hitting': 2126, 'notes': 3046, 'par': 3184, '3d': 46, 'adventure': 130, 'adult': 125, 'fly': 1763, 'alien': 183, 'nicholson': 3011, 'zombie': 4997, '12': 3, 'hidden': 2096, 'attached': 336, 'fish': 1738, 'afford': 138, 'slap': 4018, 'fred': 1825, 'storyline': 4208, 'ad': 110, 'product': 3418, 'intrigue': 2333, 'willing': 4889, 'panic': 3181, 'streets': 4217, 'capturing': 679, 'decision': 1151, 'borrowed': 545, 'masters': 2761, 'melodrama': 2797, 'murdered': 2940, 'bay': 416, 'widmark': 4882, 'health': 2060, 'chief': 788, 'horrifying': 2167, 'depicted': 1183, 'virus': 4752, 'noted': 3045, 'assume': 328, 'nevertheless': 3002, 'killers': 2471, 'underground': 4640, 'widely': 4881, 'believed': 455, 'population': 3335, 'destruction': 1216, 'devil': 1228, 'satan': 3787, 'charismatic': 763, 'fits': 1741, 'terror': 4412, 'falls': 1640, 'fever': 1699, 'cousin': 1021, 'irony': 2357, 'valuable': 4708, 'object': 3066, 'arms': 294, 'unsettling': 4679, 'board': 522, 'ship': 3934, 'primary': 3394, 'spread': 4133, 'europe': 1529, 'fatal': 1664, 'jr': 2423, 'turner': 4607, 'jason': 2383, 'goal': 1925, 'sinister': 3998, 'joke': 2414, 'apes': 267, 'notorious': 3051, 'bettie': 473, 'supposedly': 4307, 'queen': 3485, '1950s': 14, 'monkeys': 2891, 'raped': 3522, 'innocent': 2294, 'unaware': 4632, 'jesus': 2399, 'enjoys': 1489, 'herself': 2092, 'feminist': 1695, 'boyfriend': 558, 'intimate': 2331, 'detailed': 1218, 'photographed': 3258, 'color': 877, 'assumed': 329, 'smiling': 4037, 'provides': 3450, 'likable': 2598, 'leo': 2571, 'learned': 2551, 'react': 3540, 'finds': 1728, 'dealt': 1138, 'appealing': 272, 'wanting': 4790, 'naturally': 2974, 'inevitably': 2283, 'loads': 2633, 'covers': 1024, 'holy': 2140, 'iii': 2227, 'symbolism': 4341, 'confusing': 942, 'saved': 3795, 'wandering': 4785, 'fool': 1779, 'magic': 2703, 'vivid': 4760, 'stays': 4169, 'creep': 1051, 'mask': 2752, 'causing': 726, 'dressing': 1359, 'express': 1600, 'footage': 1782, 'aged': 149, 'split': 4120, 'strength': 4219, 'dignity': 1252, 'wound': 4960, 'constructed': 959, 'emphasis': 1463, 'disappointing': 1274, 'recording': 3575, 'crude': 1069, 'sounding': 4083, 'project': 3427, 'staying': 4168, 'satisfied': 3789, 'league': 2549, 'finest': 1730, 'staged': 4140, 'physical': 3262, 'creation': 1040, 'andrews': 229, 'gene': 1879, 'taxi': 4371, 'brand': 565, 'craig': 1030, 'stevens': 4183, 'beating': 425, 'sympathetic': 4342, 'tracks': 4545, 'fully': 1847, 'frame': 1815, 'protagonist': 3441, 'typically': 4624, 'yesterday': 4983, 'mexico': 2827, 'countries': 1013, 'foreign': 1790, 'la': 2500, 'cheating': 776, 'tiger': 4491, 'costs': 1004, 'frank': 1821, 'sinatra': 3989, 'sidney': 3968, 'navy': 2976, 'dean': 1139, 'aunt': 355, 'singing': 3995, 'sings': 3997, 'voices': 4763, 'mgm': 2828, 'guessing': 1991, 'sick': 3963, 'marks': 2742, 'snl': 4044, 'lowest': 2678, 'magazine': 2701, 'wanna': 4786, 'bin': 483, 'memory': 2804, 'purchase': 3469, 'england': 1482, 'ratings': 3530, 'complaint': 920, 'myers': 2952, 'jamie': 2379, 'lee': 2559, 'curtis': 1087, 'popcorn': 3331, 'sequels': 3886, 'god': 1926, 'rob': 3710, 'quirky': 3493, 'taught': 4370, 'dickens': 1240, 'grey': 1973, 'broadway': 592, 'edie': 1419, 'utter': 4701, 'track': 4544, 'religion': 3607, 'fame': 1642, 'band': 391, 'joan': 2404, 'distant': 1295, 'simon': 3982, 'al': 170, 'rule': 3753, 'ted': 4386, 'allowing': 191, 'contact': 961, 'bodies': 526, 'youth': 4994, 'sets': 3899, 'seeks': 3860, 'nightmares': 3015, 'abandoned': 62, 'belief': 451, 'inspiring': 2302, 'achieve': 92, 'defeat': 1157, 'step': 4175, 'surviving': 4323, 'kenneth': 2455, 'bands': 392, 'ages': 152, 'thumbs': 4485, 'terribly': 4408, 'unintentionally': 4659, 'flight': 1757, 'jane': 2380, 'murders': 2943, 'price': 3389, 'fake': 1635, 'ups': 4686, 'shy': 3962, 'plain': 3286, 'blatant': 502, 'super': 4295, 'spy': 4135, 'worry': 4950, 'minds': 2852, 'cia': 814, 'bringing': 586, 'tie': 4488, 'corruption': 1002, 'allows': 192, 'context': 968, 'jumping': 2431, 'matt': 2768, 'damon': 1101, 'matters': 2770, 'cox': 1026, 'chain': 741, 'duty': 1390, 'capable': 672, 'albert': 174, 'edgar': 1417, 'sent': 3880, 'pat': 3208, 'domino': 1319, 'tony': 4521, 'scott': 3824, 'cuts': 1091, 'environment': 1505, 'oliver': 3102, 'rise': 3702, 'mentioned': 2811, 'jungle': 2434, 'planned': 3290, 'americas': 215, 'involvement': 2347, 'larger': 2519, 'satisfying': 3791, 'del': 1165, 'nancy': 2964, 'drew': 1360, 'toilet': 4512, 'pre': 3365, 'crowd': 1067, 'refreshing': 3586, 'emma': 1457, 'roberts': 3714, 'treated': 4573, 'owner': 3159, 'dress': 1357, 'arm': 292, 'bell': 458, 'creepy': 1052, 'cameos': 658, 'eddie': 1416, 'chris': 806, 'bruce': 602, 'willis': 4890, 'dragged': 1343, 'gas': 1874, 'wouldve': 4959, 'christmas': 810, 'tree': 4576, 'aids': 161, 'begins': 444, 'recently': 3567, 'ranks': 3519, 'racial': 3501, 'jewish': 2401, 'angel': 231, 'morris': 2908, 'refuses': 3587, 'doubts': 1333, 'translation': 4562, 'shop': 3945, 'directs': 1267, 'bed': 436, 'convey': 982, 'calling': 653, 'danger': 1109, 'died': 1244, 'desperation': 1210, 'gift': 1906, 'thrilling': 4474, 'magical': 2704, 'grand': 1953, 'packed': 3166, 'scope': 3821, 'childhood': 790, 'flying': 1764, 'floating': 1758, 'castle': 712, 'pig': 3274, 'mob': 2879, 'singers': 3994, 'sally': 3776, 'mummy': 2937, 'nicholas': 3010, 'tour': 4538, 'buildings': 616, 'drag': 1342, 'treasure': 4571, 'community': 908, 'doctor': 1304, 'primarily': 3393, 'draw': 1349, 'grew': 1972, 'count': 1010, 'bird': 484, 'eating': 1413, 'mr': 2929, 'prior': 3400, 'families': 1644, 'parents': 3188, 'discuss': 1283, 'talked': 4359, 'month': 2896, 'round': 3742, 'related': 3594, 'minimal': 2855, 'spend': 4105, 'cook': 988, 'prison': 3401, 'unbelievably': 4635, 'tame': 4363, 'twelve': 4611, 'sunday': 4293, 'solely': 4056, 'liking': 2604, 'raymond': 3534, 'proceedings': 3410, 'evidence': 1546, 'portion': 3338, 'court': 1020, 'presentation': 3375, 'obnoxious': 3067, 'individuals': 2278, '2nd': 41, 'narration': 2965, 'sensitive': 3879, 'toys': 4543, 'hits': 2125, 'reveals': 3673, 'local': 2634, 'global': 1920, 'circle': 821, 'guilt': 1994, 'everyones': 1543, 'adam': 111, 'sandler': 3781, 'trade': 4547, 'statement': 4162, 'cruise': 1071, 'aforementioned': 139, 'size': 4012, 'unoriginal': 4673, 'charge': 761, 'rogers': 3725, 'figured': 1712, 'stuck': 4237, 'psycho': 3457, 'darkness': 1117, 'asked': 317, 'eyed': 1612, 'closet': 858, 'breaks': 571, '2001': 31, 'technology': 4385, 'eighties': 1437, 'temple': 4398, 'doom': 1326, 'segment': 3867, 'swedish': 4335, 'journalist': 2420, 'promised': 3431, 'miserable': 2863, 'extended': 1604, 'rolling': 3730, 'honesty': 2148, 'seeking': 3859, 'billy': 482, 'displays': 1293, 'overacting': 3149, 'forth': 1804, '2005': 35, 'horrid': 2165, 'blah': 496, 'wishing': 4907, 'crappy': 1032, 'caused': 724, 'lucky': 2683, 'ruined': 3751, 'visuals': 4759, 'inferior': 2285, 'forces': 1788, 'bits': 490, 'weeks': 4839, 'aka': 168, 'branagh': 564, 'celebrity': 729, 'projects': 3428, 'manhattan': 2726, 'exposure': 1599, 'lust': 2689, 'failing': 1627, 'proof': 3434, 'dirty': 1268, 'prom': 3429, 'enemies': 1476, 'pg': 3250, 'crying': 1074, 'asian': 314, 'kills': 2474, '24': 39, 'met': 2822, 'ready': 3546, 'quick': 3490, 'ps': 3453, 'united': 4664, 'attracted': 349, 'luckily': 2682, 'digital': 1251, 'bbc': 417, 'goodness': 1938, 'darker': 1116, 'upset': 4687, 'button': 639, 'stylish': 4251, 'deeply': 1156, 'disturbed': 1299, 'consists': 955, 'lovely': 2671, 'hello': 2078, 'theyve': 4446, 'balls': 390, 'steel': 4173, 'mike': 2838, 'saturday': 3792, 'spoof': 4127, 'fairly': 1631, 'unfunny': 4655, 'painful': 3171, 'mildly': 2840, 'campy': 664, 'text': 4419, 'bible': 477, 'pulp': 3465, 'teachers': 4376, 'immediately': 2242, 'plane': 3288, 'disjointed': 1287, 'glorious': 1921, 'therefore': 4439, 'rented': 3628, 'scared': 3805, 'extreme': 1609, 'van': 4713, 'ear': 1397, 'category': 718, 'dies': 1245, 'nail': 2957, 'regret': 3591, 'returned': 3666, 'spring': 4134, 'poem': 3312, 'likewise': 2603, 'travels': 4569, 'innocence': 2293, 'dry': 1377, 'sean': 3840, 'stole': 4194, 'block': 508, 'investigation': 2343, 'anyways': 262, 'wrestling': 4966, 'stunning': 4244, 'rick': 3689, 'johnny': 2410, 'heat': 2067, 'producing': 3417, 'da': 1094, 'seventies': 3904, 'carries': 699, 'moody': 2899, 'mature': 2773, 'understanding': 4645, 'raw': 3532, 'shark': 3921, 'blockbuster': 509, 'hide': 2097, 'cutting': 1092, 'carry': 700, 'summer': 4291, '1996': 26, 'babe': 375, 'checking': 778, 'candy': 668, 'absolute': 71, 'stinker': 4191, 'homer': 2144, 'italy': 2368, 'colors': 879, 'nasty': 2968, 'opinions': 3119, 'anybody': 257, 'appalling': 268, 'pieces': 3273, 'hysterical': 2208, 'trek': 4578, 'giallo': 1904, 'explosion': 1596, 'brutal': 603, 'places': 3284, 'broken': 594, 'reminiscent': 3621, 'london': 2641, 'houses': 2180, 'seemingly': 3863, 'tiny': 4500, 'toward': 4539, '1940s': 13, 'catches': 715, 'boot': 538, 'everybody': 1540, 'mel': 2796, 'brooks': 596, 'stinks': 4192, 'fourth': 1813, 'dorothy': 1330, 'parker': 3191, 'existent': 1572, 'wooden': 4934, 'attitudes': 347, 'studios': 4241, 'theaters': 4428, 'sky': 4017, 'beach': 419, 'boys': 559, 'hadnt': 2004, 'kurt': 2499, 'russell': 3761, 'angles': 237, 'combat': 882, 'wear': 4830, 'korean': 2495, 'germany': 1898, 'troops': 4591, 'admire': 121, 'awe': 370, 'atrocious': 335, 'ought': 3138, 'hopes': 2159, 'advice': 133, 'timothy': 4499, 'suspend': 4329, 'fill': 1714, 'degree': 1164, 'circumstances': 822, 'prize': 3405, 'introduce': 2336, 'worn': 4948, 'expert': 1585, 'wave': 4818, 'breaking': 570, 'shake': 3914, 'miles': 2843, 'contract': 973, 'pseudo': 3454, 'disease': 1285, 'conspiracy': 956, 'scripted': 3835, 'convoluted': 987, '45': 50, 'brutally': 604, 'werewolf': 4850, 'wondered': 4927, 'annie': 247, 'trashy': 4566, 'focusing': 1769, 'tiresome': 4502, 'awfully': 373, 'settings': 3901, 'montage': 2894, 'media': 2789, 'los': 2653, 'angeles': 233, 'orange': 3125, 'comics': 895, 'punk': 3468, 'belong': 459, 'routine': 3743, 'vulnerable': 4768, 'retarded': 3663, 'universe': 4666, 'humanity': 2189, 'disturbing': 1300, 'lying': 2690, 'suffer': 4275, 'misery': 2865, 'mtv': 2933, 'justin': 2440, 'pie': 3271, 'dude': 1381, 'humorous': 2193, 'sarah': 3785, 'parody': 3192, 'hudson': 2184, 'staring': 4152, 'aging': 153, 'ford': 1789, 'evening': 1534, 'drive': 1363, 'swimming': 4338, 'replaced': 3634, 'monkey': 2890, 'hates': 2048, 'deaf': 1134, 'frustrated': 1842, 'assistant': 326, 'jail': 2376, 'lips': 2615, 'useful': 4694, 'recognize': 3569, 'intellectual': 2312, 'poetic': 3313, 'superbly': 4297, 'pulls': 3464, 'string': 4227, 'whos': 4876, 'troubled': 4593, 'plight': 3308, 'ya': 4976, 'agreed': 156, 'messed': 2821, 'demented': 1176, '17': 9, 'accents': 79, '1930s': 11, 'fictional': 1703, 'abilities': 64, '80': 58, 'closed': 854, 'genres': 1889, 'infamous': 2284, 'ryan': 3765, 'lemmon': 2567, 'dumb': 1385, 'author': 359, 'reads': 3545, 'realizes': 3554, 'captures': 678, 'essence': 1521, '1973': 19, 'showcase': 3954, 'learn': 2550, 'sum': 4289, 'intentions': 2321, 'kubrick': 2496, 'favourite': 1673, 'captain': 674, 'seven': 3903, 'loving': 2675, 'harry': 2039, 'determined': 1221, 'respected': 3653, 'chooses': 800, 'prevent': 3385, 'alice': 182, 'falling': 1639, 'theyd': 4443, 'youd': 4987, 'pushed': 3478, 'stone': 4197, 'fare': 1655, 'creativity': 1042, 'relatively': 3600, '1999': 27, 'critic': 1061, 'loaded': 2632, 'theatre': 4429, 'strangers': 4214, 'freddy': 1826, 'spare': 4093, 'scripts': 3836, 'shadow': 3912, 'previously': 3388, 'afterwards': 145, 'steal': 4170, 'vincent': 4746, 'highlights': 2104, 'icon': 2211, '50s': 52, 'suggest': 4280, 'boss': 546, 'businessman': 634, 'rival': 3706, '70': 55, 'appropriate': 283, 'liberal': 2588, 'boxing': 556, 'championship': 745, 'ward': 4793, 'warner': 4799, 'resident': 3647, 'alan': 171, 'stated': 4161, 'masterful': 2758, 'ed': 1415, 'featured': 1679, 'davis': 1126, 'possessed': 3347, 'smith': 4038, 'independent': 2272, 'victoria': 4732, 'ingredients': 2289, 'blend': 504, 'maintain': 2710, 'furthermore': 1854, 'authentic': 358, 'francisco': 1819, 'dynamic': 1394, 'johnson': 2411, 'term': 4405, 'hire': 2116, 'portray': 3340, 'memories': 2803, 'sullivan': 4288, 'carrie': 697, 'grandfather': 1954, 'kirk': 2482, 'theatrical': 4430, 'trailers': 4555, 'starred': 4153, 'wacky': 4769, 'pleasantly': 3303, 'murphy': 2944, 'accomplished': 87, 'identify': 2216, 'audio': 354, 'accurate': 90, 'brilliantly': 584, 'performed': 3230, 'tad': 4347, 'wayne': 4821, 'minded': 2850, 'thoughtful': 4463, 'reflection': 3585, 'greater': 1965, 'nations': 2971, 'striking': 4226, 'figures': 1713, 'rising': 3703, 'nation': 2969, 'ocean': 3079, 'ships': 3935, 'increasingly': 2268, 'raising': 3509, 'jennifer': 2392, 'stress': 4220, 'spends': 4107, 'walked': 4776, 'stolen': 4195, 'disneys': 1290, 'oil': 3097, 'surfing': 4311, 'joy': 2422, 'inane': 2258, 'choose': 799, 'news': 3005, 'bears': 421, 'mere': 2814, 'frankly': 1823, 'rangers': 3517, 'toy': 4542, 'tommy': 4516, 'contain': 962, 'drop': 1369, 'someones': 4065, 'finger': 1731, 'holes': 2133, 'thru': 4483, 'titles': 4506, 'dig': 1250, 'teeth': 4393, 'idiot': 2218, 'homosexual': 2145, 'conversation': 980, 'asks': 319, 'sing': 3992, 'atlantis': 332, 'homeless': 2143, '11': 2, 'notably': 3042, 'dawn': 1127, 'creatures': 1046, 'brains': 563, 'catching': 716, 'bus': 631, 'asking': 318, 'shoots': 3944, 'jaw': 2384, 'chest': 784, 'neck': 2985, 'funnier': 1850, 'holding': 2130, 'bucks': 606, 'santa': 3783, 'beneath': 464, 'stomach': 4196, 'superhero': 4299, 'trite': 4589, 'kinds': 2478, 'trademark': 4548, 'gory': 1943, 'incoherent': 2265, '90s': 61, 'savage': 3793, 'causes': 725, 'commit': 904, 'rape': 3521, 'threatening': 4468, 'smoke': 4039, 'rubber': 3747, 'cole': 873, 'limited': 2606, 'grow': 1982, 'armed': 293, 'officers': 3093, 'chick': 786, 'fabulous': 1615, 'ape': 266, 'box': 555, 'loosely': 2651, 'tribute': 4581, 'commercial': 902, 'midnight': 2834, 'demon': 1177, 'splatter': 4118, 'insult': 2309, 'user': 4696, 'ray': 3533, 'uneven': 4649, 'worthless': 4954, 'jay': 2386, 'richardson': 3688, 'gangster': 1868, 'mistress': 2874, 'karen': 2444, 'psychic': 3456, 'claire': 831, 'filmmakers': 1720, '2004': 34, 'professor': 3422, 'wealthy': 4827, 'consequences': 947, 'facial': 1619, 'dogs': 1311, 'guard': 1988, 'neighbor': 2992, 'russian': 3762, 'blowing': 515, 'vast': 4716, 'burned': 626, 'mexican': 2826, 'abuse': 74, 'shed': 3924, 'rubbish': 3748, 'domestic': 1318, 'whereas': 4865, 'silver': 3977, 'voiced': 4762, 'dub': 1378, 'crucial': 1068, 'develop': 1222, 'concerned': 932, 'consider': 949, 'detective': 1220, 'prefer': 3368, 'valley': 4707, 'racist': 3503, 'comparing': 913, 'joseph': 2419, 'roman': 3731, 'crash': 1033, 'survivors': 4325, 'union': 4661, 'unpleasant': 4674, 'pregnant': 3369, 'helping': 2081, 'improve': 2254, 'rocky': 3723, 'operation': 3117, 'arrogant': 303, 'butt': 638, 'relief': 3605, 'areas': 287, 'hurts': 2203, 'stilted': 4190, 'stephen': 4176, 'tragic': 4552, 'passionate': 3206, 'dear': 1140, 'leslie': 2574, 'burn': 625, 'vicious': 4728, 'rocket': 3721, 'tim': 4494, 'jet': 2400, 'li': 2587, 'battles': 415, 'twilight': 4614, 'zone': 4999, 'silent': 3975, 'melodramatic': 2798, 'scientists': 3819, 'gordon': 1940, 'ladies': 2506, 'equipment': 1511, 'pursuit': 3476, 'jon': 2416, 'con': 928, 'sidekick': 3966, 'hoffman': 2128, 'landscape': 2513, 'adventures': 131, 'florida': 1761, 'losers': 2656, 'cowboy': 1025, 'facing': 1620, 'blunt': 520, 'alright': 198, 'spooky': 4128, 'dentist': 1180, 'uwe': 4703, 'boll': 529, 'truck': 4595, 'howard': 2182, 'strictly': 4223, 'forty': 1807, 'endings': 1472, 'resemblance': 3645, 'heavily': 2069, 'omen': 3104, 'waited': 4771, 'afternoon': 144, 'disgusting': 1286, 'urge': 4689, 'nostalgic': 3039, 'noticed': 3049, 'generated': 1882, 'idiotic': 2219, 'grave': 1962, 'videos': 4734, 'transfer': 4559, 'nervous': 2999, 'channels': 754, 'countryside': 1015, 'gothic': 1945, 'practice': 3363, 'exploitation': 1592, 'depicting': 1184, 'pleasant': 3302, 'tunes': 4603, 'animal': 239, 'tall': 4362, 'corner': 996, 'lees': 2560, 'glenn': 1918, 'aint': 163, 'closest': 857, 'vhs': 4725, 'hearts': 2066, 'wallace': 4782, 'arrive': 300, 'villain': 4744, 'aimed': 162, 'demand': 1174, 'cinemas': 817, 'warmth': 4796, 'weve': 4856, 'sid': 3964, 'adorable': 124, 'depressed': 1187, 'gender': 1878, 'eg': 1434, 'deliberately': 1166, 'exception': 1557, 'porn': 3336, 'sleep': 4024, 'plastic': 3294, 'frightening': 1839, 'baseball': 403, 'cared': 685, 'colour': 880, 'mainstream': 2709, 'needless': 2989, 'fbi': 1675, 'trial': 4580, 'singer': 3993, 'preview': 3386, 'ellen': 1446, 'motives': 2916, 'dating': 1120, 'dracula': 1341, 'honor': 2150, 'beats': 426, 'sounded': 4082, 'changes': 751, 'discovery': 1282, 'irrelevant': 2358, 'virginia': 4750, 'junior': 2435, 'involves': 2348, 'courage': 1018, '1960s': 15, 'gangsters': 1869, 'settle': 3902, 'hong': 2149, 'kong': 2494, 'trio': 4587, 'elizabeth': 1445, 'goldberg': 1933, 'orson': 3132, 'welles': 4844, 'judging': 2425, 'massacre': 2754, 'cash': 709, 'faster': 1662, 'superman': 4301, 'museum': 2945, 'meaningful': 2781, '20th': 38, 'eric': 1514, 'desperately': 1209, 'measure': 2786, 'flawed': 1750, 'virgin': 4749, 'debut': 1143, 'inept': 2281, 'weapons': 4829, 'titanic': 4503, 'rank': 3518, 'mst3k': 2932, 'grant': 1956, 'grinch': 1975, 'synopsis': 4344, 'wit': 4908, 'designed': 1203, 'ensues': 1493, 'behave': 445, 'chaos': 755, 'perform': 3227, 'morning': 2906, 'roy': 3745, 'unfolds': 4651, 'simmons': 3981, 'advance': 127, 'sword': 4340, 'rat': 3525, 'survivor': 4324, 'suspicious': 4332, 'hanks': 2025, 'maggie': 2702, 'subsequent': 4257, 'stunts': 4246, 'sharp': 3922, 'stunt': 4245, 'fortunately': 1805, 'imaginative': 2237, 'legendary': 2565, 'mall': 2720, 'instance': 2304, 'comedies': 889, 'thoughts': 4464, 'walls': 4783, 'ensemble': 1492, 'guessed': 1990, 'ridiculously': 3694, 'bat': 410, 'documentaries': 1306, 'internet': 2327, 'stan': 4142, 'cave': 727, 'awkward': 374, 'reactions': 3542, 'strangely': 4212, 'catchy': 717, 'sticks': 4186, 'technically': 4382, 'desired': 1206, 'companion': 909, 'von': 4765, 'max': 2774, 'cost': 1003, 'financial': 1725, 'selling': 3873, 'georges': 1894, 'anna': 245, 'serving': 3897, 'secretly': 3851, 'disc': 1278, 'edition': 1422, 'restored': 3659, 'literature': 2623, 'load': 2631, 'noble': 3021, 'outcome': 3142, 'rip': 3700, 'kings': 2481, '1990': 24, 'control': 977, 'suits': 4287, 'cagney': 646, 'hood': 2151, 'changing': 752, 'eerie': 1427, 'mindless': 2851, 'reach': 3536, 'square': 4136, 'bound': 553, 'unpredictable': 4675, 'busy': 635, 'remarkably': 3614, 'atmospheric': 334, 'exceptionally': 1559, 'hitler': 2124, 'propaganda': 3435, 'cardboard': 682, 'loser': 2655, '16': 8, 'alfred': 181, 'chances': 748, 'lisa': 2616, 'existed': 1570, 'drugs': 1374, 'awake': 365, 'hal': 2006, 'laurel': 2537, 'hardy': 2037, 'escaped': 1518, 'devils': 1229, 'kudos': 2497, 'controversial': 978, 'subjects': 4254, 'opposite': 3123, 'household': 2179, 'attempted': 341, 'portrait': 3339, 'qualities': 3483, 'grasp': 1960, 'twin': 4615, 'vietnam': 4735, 'invasion': 2340, 'arthur': 305, 'map': 2733, 'mile': 2842, 'lumet': 2688, 'gray': 1963, 'ethan': 1528, 'hank': 2024, 'thinks': 4454, 'robbery': 3711, 'speaking': 4095, 'hed': 2072, 'frankenstein': 1822, 'unhappy': 4656, 'jumps': 2432, 'philip': 3252, 'executive': 1567, 'calm': 655, 'scheme': 3812, 'relation': 3595, 'lasted': 2522, 'properly': 3437, 'rush': 3759, 'norman': 3035, 'transition': 4561, 'stealing': 4171, 'gifted': 1907, 'sitcom': 4004, 'enter': 1494, 'disappoint': 1272, 'anderson': 227, 'waves': 4819, 'seek': 3858, 'mann': 2728, 'cd': 728, 'issues': 2365, 'sue': 4274, 'relative': 3599, 'bridge': 578, 'mrs': 2930, 'pleased': 3305, 'tortured': 4530, 'soviet': 4089, 'dedicated': 1153, 'bumbling': 622, 'twisted': 4618, 'royal': 3746, 'folk': 1770, 'web': 4833, 'resembles': 3646, 'whenever': 4863, 'ballet': 389, 'strongly': 4231, 'birthday': 487, 'engaged': 1480, 'fathers': 1667, 'bullets': 621, 'terrorists': 4414, 'henry': 2084, 'mission': 2870, 'tradition': 4549, 'lincoln': 2608, 'cary': 706, 'throwing': 4480, 'lone': 2642, 'fix': 1744, 'delivered': 1170, 'gag': 1861, 'grows': 1985, 'blonde': 511, 'wizard': 4919, 'painfully': 3172, 'doll': 1313, 'dawson': 1128, 'incident': 2260, 'patrick': 3213, 'teaching': 4377, 'upper': 4685, 'portrays': 3344, 'scottish': 3825, 'earl': 1398, 'sadistic': 3768, 'cell': 730, 'chair': 742, 'accused': 91, 'sheriff': 3929, 'imitation': 2241, 'crimes': 1056, 'lesser': 2576, 'niro': 3019, 'bollywood': 530, 'driving': 1368, 'lovable': 2668, 'khan': 2459, 'wake': 4774, 'polanski': 3321, 'jonathan': 2417, 'pretending': 3382, 'barry': 401, 'morgan': 2905, 'freeman': 1829, 'clint': 850, 'eastwood': 1409, 'bull': 619, 'india': 2273, 'indian': 2274, 'rap': 3520, 'excited': 1561, 'beliefs': 452, 'maria': 2736, 'somebody': 4062, 'yelling': 4980, 'christians': 809, 'civilization': 827, 'vampires': 4712, 'defense': 1159, 'ruth': 3763, 'daddy': 1096, 'growing': 1983, 'warming': 4795, 'assigned': 325, 'investigate': 2342, 'bud': 607, 'handsome': 2021, 'gold': 1932, 'shape': 3919, 'wore': 4939, 'jumped': 2430, 'drags': 1345, 'nick': 3012, 'wells': 4845, 'highest': 2102, 'sucks': 4271, 'matthew': 2772, 'cannibal': 669, 'franco': 1820, 'lengthy': 2570, 'neo': 2998, 'chaplin': 756, 'resist': 3648, 'pit': 3278, 'instinct': 2308, 'improved': 2255, 'removed': 3624, 'attend': 344, 'security': 3854, 'lane': 2515, 'attacked': 338, 'thugs': 4484, 'ruthless': 3764, 'implausible': 2245, 'pool': 3327, 'moronic': 2907, 'indians': 2275, 'encounter': 1466, 'amitabh': 216, 'impress': 2250, 'generations': 1884, 'excitement': 1562, 'explore': 1594, 'demons': 1178, 'uncomfortable': 4637, 'lou': 2663, 'spite': 4117, 'understated': 4646, 'neighbors': 2994, 'yeah': 4977, 'gonna': 1936, 'priceless': 3390, 'vacation': 4704, 'fired': 1735, 'sophisticated': 4075, 'pearl': 3220, 'relevant': 3604, 'historically': 2120, 'elsewhere': 1449, 'album': 175, 'lynch': 2691, 'grandmother': 1955, 'forgettable': 1794, 'bigger': 479, 'wholly': 4874, 'enterprise': 1495, 'titled': 4505, 'guide': 1993, 'tape': 4365, 'scores': 3823, 'worker': 4942, 'corporate': 998, 'lay': 2542, 'authority': 360, 'turkey': 4604, 'legal': 2563, 'troubles': 4594, 'ripped': 3701, 'mail': 2706, 'spain': 4091, 'rare': 3523, 'nurse': 3063, 'till': 4493, 'weight': 4840, 'overlook': 3153, 'childrens': 793, 'build': 614, 'hung': 2197, 'harvey': 2042, 'displayed': 1292, 'walks': 4780, 'sits': 4006, 'spoken': 4126, 'suit': 4284, 'opportunity': 3121, 'witches': 4910, 'numerous': 3062, 'realise': 3548, 'sell': 3871, 'chicks': 787, 'cameras': 660, 'ironically': 2356, 'clue': 864, 'associated': 327, 'credible': 1048, 'devoid': 1230, 'burning': 627, 'strip': 4228, 'bag': 384, 'eaten': 1412, 'status': 4165, 'instant': 2305, 'dozens': 1339, '1984': 23, 'breasts': 572, 'recorded': 3574, 'closing': 859, '2002': 32, 'tracy': 4546, 'prove': 3445, 'relies': 3606, 'offered': 3088, 'butler': 637, 'frequent': 1831, 'swim': 4337, 'doc': 1303, 'bush': 632, 'blown': 516, 'kicks': 2463, 'stanwyck': 4149, 'phantom': 3251, 'caine': 647, 'lake': 2509, 'fetched': 1698, 'chicago': 785, 'juvenile': 2441, 'devoted': 1231, 'duo': 1386, 'ruins': 3752, 'modesty': 2883, 'sleeping': 4025, 'ground': 1979, 'mentions': 2813, 'survived': 4322, 'cliche': 843, 'contrary': 974, 'wears': 4832, 'concerning': 933, 'equivalent': 1512, 'provoking': 3452, 'cringe': 1059, 'distinct': 1296, 'challenging': 744, 'exploration': 1593, 'molly': 2884, 'carefully': 689, 'dramas': 1347, 'womens': 4924, 'burt': 629, 'pretend': 3381, 'alcohol': 176, 'faithful': 1634, 'edited': 1420, 'copies': 992, 'poster': 3353, 'praise': 3364, 'hollywoods': 2138, 'kingdom': 2480, 'reel': 3581, 'clothing': 861, 'le': 2544, 'silence': 3974, 'concern': 931, 'huh': 2187, 'macy': 2695, 'satisfy': 3790, 'inspector': 2299, 'gadget': 1860, 'sole': 4055, 'grim': 1974, 'shadows': 3913, 'bite': 489, 'tender': 4401, 'larry': 2520, 'elderly': 1440, 'topless': 4527, 'wes': 4851, 'consistent': 953, 'terrorist': 4413, 'nyc': 3065, 'fury': 1855, 'wing': 4896, '1983': 22, 'novels': 3053, 'extent': 1605, 'holmes': 2139, 'heroine': 2091, 'wendy': 4846, 'keeping': 2450, 'oz': 3160, 'precious': 3366, 'resources': 3651, 'childish': 791, 'bugs': 613, 'innovative': 2295, 'per': 3223, 'dan': 1102, 'cliff': 847, 'stock': 4193, 'neil': 2995, 'gain': 1863, 'reaching': 3539, 'gabriel': 1859, 'eve': 1532, 'rid': 3690, 'manipulative': 2727, 'sellers': 3872, 'hippie': 2115, 'cinderella': 815, 'definition': 1163, 'definite': 1161, 'senseless': 3878, 'affect': 136, 'performing': 3233, 'chilling': 794, 'stretched': 4222, 'minimum': 2856, 'eyre': 1614, 'rochester': 3719, 'charlotte': 766, 'dialogues': 1235, 'ruin': 3750, '50': 51, 'despair': 1207, 'st': 4137, 'ian': 2209, 'brad': 560, 'pitt': 3280, 'divorce': 1301, 'victor': 4731, 'kicked': 2461, 'trees': 4577, 'boom': 537, 'burton': 630, 'amounts': 220, 'drink': 1361, 'plant': 3293, 'flesh': 1753, 'farm': 1656, 'reunion': 3669, 'treats': 4575, 'pacino': 3164, 'snake': 4042, 'june': 2433, 'belongs': 460, 'hammer': 2014, '1980': 20, 'entry': 1504, 'monk': 2889, 'shine': 3931, 'horrors': 2169, 'highlight': 2103, 'sandra': 3782, 'climactic': 848, 'arrived': 301, 'dolph': 1317, 'intentionally': 2320, 'messages': 2820, 'bela': 450, 'lugosi': 2686, 'gruesome': 1986, 'tons': 4520, 'stanley': 4148, 'dutch': 1389, 'backgrounds': 381, 'germans': 1897, 'stale': 4141, 'dick': 1239, 'antics': 255, 'inappropriate': 2259, 'offensive': 3086, 'join': 2412, 'terry': 4415, 'schools': 3814, 'ruby': 3749, 'wed': 4835, '2006': 36, 'riveting': 3708, 'tales': 4357, 'mundane': 2938, 'formulaic': 1803, 'recall': 3562, 'karloff': 2445, '60': 53, 'foul': 1810, 'rotten': 3740, 'birds': 485, 'expressed': 1601, 'graphics': 1959, 'legs': 2566, 'politically': 3325, 'wishes': 4906, 'mitchell': 2875, 'rachel': 3500, 'lucy': 2684, 'susan': 4326, 'sincere': 3991, 'akshay': 169, 'unreal': 4676, 'kim': 2475, 'charlie': 765, 'crush': 1072, 'secrets': 3852, 'experienced': 1581, 'powell': 3358, 'device': 1227, 'marry': 2745, 'godzilla': 1929, 'pet': 3246, 'goofy': 1939, 'complain': 919, 'pack': 3165, 'swear': 4334, 'dances': 1106, 'vague': 4705, 'jeffrey': 2391, 'mate': 2765, '1st': 28, 'connection': 946, 'campbell': 663, 'basketball': 409, 'disappeared': 1271, 'screens': 3832, 'alexander': 180, 'racism': 3502, 'blob': 507, 'threat': 4467, 'similarly': 3980, 'shell': 3927, 'hopeless': 2158, 'margaret': 2735, 'familys': 1646, 'wished': 4905, 'husbands': 2205, 'alcoholic': 177, 'twins': 4616, 'unit': 4663, 'offering': 3089, 'brosnan': 597, 'remembered': 3617, 'attorney': 348, 'nuts': 3064, 'football': 1783, 'mars': 2746, 'dropping': 1371, 'hideous': 2098, 'purposes': 3475, 'capital': 673, 'extraordinary': 1607, 'anne': 246, 'doors': 1329, 'hang': 2022, 'forgive': 1795, 'lab': 2501, 'popularity': 3334, 'opposed': 3122, 'winter': 4900, 'suited': 4286, 'clues': 865, 'account': 89, 'vaguely': 4706, 'ears': 1402, 'originality': 3130, 'stiff': 4187, 'nazis': 2978, 'bette': 471, 'kay': 2447, 'francis': 1818, 'possibilities': 3348, 'agrees': 157, 'appreciation': 281, 'advanced': 128, 'broad': 590, 'performers': 3232, 'nostalgia': 3038, 'hunting': 2201, 'succeeds': 4264, 'oddly': 3081, 'sport': 4129, 'careers': 687, 'responsibility': 3655, '35': 45, 'serve': 3893, 'andrew': 228, 'ramones': 3512, 'couldve': 1009, 'witnesses': 4916, 'outrageous': 3145, 'drops': 1372, 'produce': 3413, 'concert': 935, 'broadcast': 591, 'education': 1424, 'lively': 2627, 'drives': 1367, 'fonda': 1777, 'wrap': 4963, 'reputation': 3640, 'showdown': 3955, '1972': 18, 'dinosaurs': 1256, 'warren': 4801, 'beatty': 427, 'madonna': 2699, 'psychotic': 3459, 'hugh': 2186, 'library': 2589, 'promises': 3432, 'cheese': 780, 'educational': 1425, 'pokemon': 3320, 'north': 3036, 'partly': 3197, 'laws': 2540, 'pan': 3180, 'richards': 3687, 'kapoor': 2443, 'canada': 666, 'thrill': 4471, 'ideal': 2214, 'listed': 2618, 'jake': 2377, 'matthau': 2771, 'classical': 836, 'paltrow': 3178, 'scarecrow': 3804, 'betty': 474, 'ha': 2002, 'carter': 703, 'gerard': 1895, 'endearing': 1469, 'receive': 3563, 'specifically': 4100, 'menace': 2806, 'depicts': 1186, 'doomed': 1327, 'distance': 1294, 'heights': 2073, 'brooklyn': 595, 'robinson': 3716, 'bedroom': 437, 'neighborhood': 2993, 'stranger': 4213, 'abusive': 75, 'purple': 3473, 'astaire': 330, '1980s': 21, 'porno': 3337, 'claimed': 829, 'prepared': 3371, 'lyrics': 2692, 'winters': 4901, 'segments': 3868, 'menacing': 2807, 'masterpieces': 2760, 'bathroom': 412, 'machines': 2694, 'tarzan': 4367, 'craven': 1034, 'jealous': 2388, 'reynolds': 3684, 'attraction': 350, 'appearing': 277, 'duke': 1383, 'clumsy': 866, 'headed': 2058, 'misses': 2868, 'directions': 1262, 'abraham': 69, 'blues': 519, 'incomprehensible': 2267, 'petty': 3249, 'foster': 1809, 'aid': 160, 'derek': 1192, 'walker': 4778, 'seagal': 3839, 'hamlet': 2013, 'davies': 1125, 'writes': 4970, 'designs': 1204, 'loyal': 2679, 'counter': 1011, 'elegant': 1441, 'blond': 510, 'corpse': 999, 'buddies': 608, 'berlin': 467, 'cards': 683, 'agents': 151, 'passes': 3203, '40s': 49, 'rabbit': 3498, 'stellar': 4174, 'gentle': 1890, 'landscapes': 2514, 'leg': 2562, 'sixties': 4011, 'rose': 3739, 'experiments': 1584, 'progress': 3425, 'jazz': 2387, 'dalton': 1098, 'burns': 628, 'analysis': 224, 'dolls': 1316, 'smaller': 4034, 'brando': 566, 'enters': 1496, 'itll': 2369, 'ironic': 2355, 'adequate': 120, 'heston': 2094, 'gundam': 1997, 'encounters': 1467, 'topic': 4526, 'caliber': 649, 'ninja': 3018, 'buffs': 612, 'sink': 3999, 'firstly': 1737, 'reflect': 3584, 'principal': 3398, 'ritter': 3705, 'plans': 3292, 'orders': 3127, 'outfit': 3144, 'tap': 4364, 'baker': 385, 'fields': 1705, 'montana': 2895, 'fisher': 1739, 'inevitable': 2282, 'marie': 2737, 'maker': 2714, 'affected': 137, 'sneak': 4043, 'chapter': 757, 'dreary': 1356, 'cake': 648, 'centers': 734, 'ambitious': 211, 'harder': 2035, 'scrooge': 3837, 'picking': 3267, 'stereotype': 4178, 'rolled': 3729, 'tag': 4348, 'spike': 4111, 'matches': 2764, 'storm': 4206, 'shorts': 3948, 'brenda': 575, 'ticket': 4487, 'glover': 1923, 'safety': 3772, 'spider': 4109, 'elephant': 1444, 'widow': 4883, 'eastern': 1408, 'peters': 3248, 'lit': 2621, 'coffee': 870, 'spell': 4104, 'seed': 3856, 'bergman': 466, 'amy': 222, 'april': 284, 'streisand': 4218, 'garbo': 1871, 'warrior': 4802, 'hart': 2041, 'marty': 2749, 'scooby': 3820, 'doo': 1325, 'fitting': 1742, 'guest': 1992, 'waters': 4817, 'mayor': 2777, 'pops': 3332, 'carl': 692, 'thick': 4447, 'miller': 2846, 'parties': 3196, 'faults': 1669, 'activities': 102, 'voight': 4764, 'decisions': 1152, 'laid': 2508, 'resort': 3650, 'bo': 521, 'whale': 4857, 'tends': 4402, 'airport': 167, 'differences': 1247, 'backdrop': 379, 'shirley': 3936, 'blank': 501, 'damage': 1099, 'diane': 1238, 'quit': 3494, 'elvira': 1450, 'vegas': 4717, 'conservative': 948, 'celluloid': 731, 'restaurant': 3658, 'relatives': 3601, 'visible': 4753, 'jaws': 2385, 'dinosaur': 1255, 'noise': 3024, 'muslim': 2949, 'bakshi': 386, 'lena': 2568, 'pages': 3168, 'expressions': 1603, '1933': 12, 'emily': 1456, 'stones': 4198, 'louise': 2666, 'souls': 4080, 'diamond': 1236, 'performs': 3234, 'hyde': 2206, 'trail': 4553, 'robots': 3718, 'angela': 232, 'landing': 2512, 'danes': 1108, 'paulie': 3215, 'miike': 2837, 'linda': 2609, 'cities': 823, 'chess': 783, 'robbins': 3712, 'der': 1191, 'fulci': 1845, 'namely': 2962, 'todd': 4510, 'tomatoes': 4515, 'distribution': 1298, 'stooges': 4200, 'streep': 4215, 'fay': 1674, 'crocodile': 1065, 'mildred': 2841, 'elm': 1447}\n"
     ]
    }
   ],
   "source": [
    "print(str(vocabulary))"
   ]
  },
  {
   "cell_type": "markdown",
   "metadata": {},
   "source": [
    "Once you have added the endpoint name to the Lambda function, click on **Save**. Your Lambda function is now up and running. Next we need to create a way for our web app to execute the Lambda function."
   ]
  },
  {
   "cell_type": "markdown",
   "metadata": {},
   "source": [
    "### Setting up API Gateway\n",
    "\n",
    "Now that our Lambda function is set up, it is time to create a new API using API Gateway that will trigger the Lambda function we have just created.\n",
    "\n",
    "Using AWS Console, navigate to **Amazon API Gateway** and then click on **Get started**.\n",
    "\n",
    "On the next page, make sure that **New API** is selected and give the new api a name, for example, `sentiment_analysis_web_app`. Then, click on **Create API**.\n",
    "\n",
    "Now we have created an API, however it doesn't currently do anything. What we want it to do is to trigger the Lambda function that we created earlier.\n",
    "\n",
    "Select the **Actions** dropdown menu and click **Create Method**. A new blank method will be created, select its dropdown menu and select **POST**, then click on the check mark beside it.\n",
    "\n",
    "For the integration point, make sure that **Lambda Function** is selected and click on the **Use Lambda Proxy integration**. This option makes sure that the data that is sent to the API is then sent directly to the Lambda function with no processing. It also means that the return value must be a proper response object as it will also not be processed by API Gateway.\n",
    "\n",
    "Type the name of the Lambda function you created earlier into the **Lambda Function** text entry box and then click on **Save**. Click on **OK** in the pop-up box that then appears, giving permission to API Gateway to invoke the Lambda function you created.\n",
    "\n",
    "The last step in creating the API Gateway is to select the **Actions** dropdown and click on **Deploy API**. You will need to create a new Deployment stage and name it anything you like, for example `prod`.\n",
    "\n",
    "You have now successfully set up a public API to access your SageMaker model. Make sure to copy or write down the URL provided to invoke your newly created public API as this will be needed in the next step. This URL can be found at the top of the page, highlighted in blue next to the text **Invoke URL**."
   ]
  },
  {
   "cell_type": "markdown",
   "metadata": {},
   "source": [
    "## Step 7: Deploying our web app\n",
    "\n",
    "Now that we have a publicly available API, we can start using it in a web app. For our purposes, we have provided a simple static html file which can make use of the public api you created earlier.\n",
    "\n",
    "In the `website` folder there should be a file called `index.html`. Download the file to your computer and open that file up in a text editor of your choice. There should be a line which contains **\\*\\*REPLACE WITH PUBLIC API URL\\*\\***. Replace this string with the url that you wrote down in the last step and then save the file.\n",
    "\n",
    "Now, if you open `index.html` on your local computer, your browser will behave as a local web server and you can use the provided site to interact with your SageMaker model.\n",
    "\n",
    "If you'd like to go further, you can host this html file anywhere you'd like, for example using github or hosting a static site on Amazon's S3. Once you have done this you can share the link with anyone you'd like and have them play with it too!\n",
    "\n",
    "> **Important Note** In order for the web app to communicate with the SageMaker endpoint, the endpoint has to actually be deployed and running. This means that you are paying for it. Make sure that the endpoint is running when you want to use the web app but that you shut it down when you don't need it, otherwise you will end up with a surprisingly large AWS bill."
   ]
  },
  {
   "cell_type": "markdown",
   "metadata": {},
   "source": [
    "### Delete the endpoint\n",
    "\n",
    "Remember to always shut down your endpoint if you are no longer using it. You are charged for the length of time that the endpoint is running so if you forget and leave it on you could end up with an unexpectedly large bill."
   ]
  },
  {
   "cell_type": "code",
   "execution_count": 64,
   "metadata": {},
   "outputs": [],
   "source": [
    "xgb_predictor.delete_endpoint()"
   ]
  },
  {
   "cell_type": "markdown",
   "metadata": {},
   "source": [
    "## Optional: Clean up\n",
    "\n",
    "The default notebook instance on SageMaker doesn't have a lot of excess disk space available. As you continue to complete and execute notebooks you will eventually fill up this disk space, leading to errors which can be difficult to diagnose. Once you are completely finished using a notebook it is a good idea to remove the files that you created along the way. Of course, you can do this from the terminal or from the notebook hub if you would like. The cell below contains some commands to clean up the created files from within the notebook."
   ]
  },
  {
   "cell_type": "code",
   "execution_count": 65,
   "metadata": {},
   "outputs": [
    {
     "ename": "OSError",
     "evalue": "[Errno 12] Cannot allocate memory",
     "output_type": "error",
     "traceback": [
      "\u001b[0;31m---------------------------------------------------------------------------\u001b[0m",
      "\u001b[0;31mOSError\u001b[0m                                   Traceback (most recent call last)",
      "\u001b[0;32m<ipython-input-65-2c87d8eefdf2>\u001b[0m in \u001b[0;36m<module>\u001b[0;34m()\u001b[0m\n\u001b[1;32m      1\u001b[0m \u001b[0;31m# First we will remove all of the files contained in the data_dir directory\u001b[0m\u001b[0;34m\u001b[0m\u001b[0;34m\u001b[0m\u001b[0m\n\u001b[0;32m----> 2\u001b[0;31m \u001b[0mget_ipython\u001b[0m\u001b[0;34m(\u001b[0m\u001b[0;34m)\u001b[0m\u001b[0;34m.\u001b[0m\u001b[0msystem\u001b[0m\u001b[0;34m(\u001b[0m\u001b[0;34m'rm $data_dir/*'\u001b[0m\u001b[0;34m)\u001b[0m\u001b[0;34m\u001b[0m\u001b[0m\n\u001b[0m\u001b[1;32m      3\u001b[0m \u001b[0;34m\u001b[0m\u001b[0m\n\u001b[1;32m      4\u001b[0m \u001b[0;31m# And then we delete the directory itself\u001b[0m\u001b[0;34m\u001b[0m\u001b[0;34m\u001b[0m\u001b[0m\n\u001b[1;32m      5\u001b[0m \u001b[0mget_ipython\u001b[0m\u001b[0;34m(\u001b[0m\u001b[0;34m)\u001b[0m\u001b[0;34m.\u001b[0m\u001b[0msystem\u001b[0m\u001b[0;34m(\u001b[0m\u001b[0;34m'rmdir $data_dir'\u001b[0m\u001b[0;34m)\u001b[0m\u001b[0;34m\u001b[0m\u001b[0m\n",
      "\u001b[0;32m~/anaconda3/envs/python3/lib/python3.6/site-packages/IPython/core/interactiveshell.py\u001b[0m in \u001b[0;36msystem_piped\u001b[0;34m(self, cmd)\u001b[0m\n\u001b[1;32m   2259\u001b[0m         \u001b[0;31m# a non-None value would trigger :func:`sys.displayhook` calls.\u001b[0m\u001b[0;34m\u001b[0m\u001b[0;34m\u001b[0m\u001b[0m\n\u001b[1;32m   2260\u001b[0m         \u001b[0;31m# Instead, we store the exit_code in user_ns.\u001b[0m\u001b[0;34m\u001b[0m\u001b[0;34m\u001b[0m\u001b[0m\n\u001b[0;32m-> 2261\u001b[0;31m         \u001b[0mself\u001b[0m\u001b[0;34m.\u001b[0m\u001b[0muser_ns\u001b[0m\u001b[0;34m[\u001b[0m\u001b[0;34m'_exit_code'\u001b[0m\u001b[0;34m]\u001b[0m \u001b[0;34m=\u001b[0m \u001b[0msystem\u001b[0m\u001b[0;34m(\u001b[0m\u001b[0mself\u001b[0m\u001b[0;34m.\u001b[0m\u001b[0mvar_expand\u001b[0m\u001b[0;34m(\u001b[0m\u001b[0mcmd\u001b[0m\u001b[0;34m,\u001b[0m \u001b[0mdepth\u001b[0m\u001b[0;34m=\u001b[0m\u001b[0;36m1\u001b[0m\u001b[0;34m)\u001b[0m\u001b[0;34m)\u001b[0m\u001b[0;34m\u001b[0m\u001b[0m\n\u001b[0m\u001b[1;32m   2262\u001b[0m \u001b[0;34m\u001b[0m\u001b[0m\n\u001b[1;32m   2263\u001b[0m     \u001b[0;32mdef\u001b[0m \u001b[0msystem_raw\u001b[0m\u001b[0;34m(\u001b[0m\u001b[0mself\u001b[0m\u001b[0;34m,\u001b[0m \u001b[0mcmd\u001b[0m\u001b[0;34m)\u001b[0m\u001b[0;34m:\u001b[0m\u001b[0;34m\u001b[0m\u001b[0m\n",
      "\u001b[0;32m~/anaconda3/envs/python3/lib/python3.6/site-packages/IPython/utils/_process_posix.py\u001b[0m in \u001b[0;36msystem\u001b[0;34m(self, cmd)\u001b[0m\n\u001b[1;32m    154\u001b[0m                 \u001b[0mchild\u001b[0m \u001b[0;34m=\u001b[0m \u001b[0mpexpect\u001b[0m\u001b[0;34m.\u001b[0m\u001b[0mspawnb\u001b[0m\u001b[0;34m(\u001b[0m\u001b[0mself\u001b[0m\u001b[0;34m.\u001b[0m\u001b[0msh\u001b[0m\u001b[0;34m,\u001b[0m \u001b[0margs\u001b[0m\u001b[0;34m=\u001b[0m\u001b[0;34m[\u001b[0m\u001b[0;34m'-c'\u001b[0m\u001b[0;34m,\u001b[0m \u001b[0mcmd\u001b[0m\u001b[0;34m]\u001b[0m\u001b[0;34m)\u001b[0m \u001b[0;31m# Pexpect-U\u001b[0m\u001b[0;34m\u001b[0m\u001b[0m\n\u001b[1;32m    155\u001b[0m             \u001b[0;32melse\u001b[0m\u001b[0;34m:\u001b[0m\u001b[0;34m\u001b[0m\u001b[0m\n\u001b[0;32m--> 156\u001b[0;31m                 \u001b[0mchild\u001b[0m \u001b[0;34m=\u001b[0m \u001b[0mpexpect\u001b[0m\u001b[0;34m.\u001b[0m\u001b[0mspawn\u001b[0m\u001b[0;34m(\u001b[0m\u001b[0mself\u001b[0m\u001b[0;34m.\u001b[0m\u001b[0msh\u001b[0m\u001b[0;34m,\u001b[0m \u001b[0margs\u001b[0m\u001b[0;34m=\u001b[0m\u001b[0;34m[\u001b[0m\u001b[0;34m'-c'\u001b[0m\u001b[0;34m,\u001b[0m \u001b[0mcmd\u001b[0m\u001b[0;34m]\u001b[0m\u001b[0;34m)\u001b[0m  \u001b[0;31m# Vanilla Pexpect\u001b[0m\u001b[0;34m\u001b[0m\u001b[0m\n\u001b[0m\u001b[1;32m    157\u001b[0m             \u001b[0mflush\u001b[0m \u001b[0;34m=\u001b[0m \u001b[0msys\u001b[0m\u001b[0;34m.\u001b[0m\u001b[0mstdout\u001b[0m\u001b[0;34m.\u001b[0m\u001b[0mflush\u001b[0m\u001b[0;34m\u001b[0m\u001b[0m\n\u001b[1;32m    158\u001b[0m             \u001b[0;32mwhile\u001b[0m \u001b[0;32mTrue\u001b[0m\u001b[0;34m:\u001b[0m\u001b[0;34m\u001b[0m\u001b[0m\n",
      "\u001b[0;32m~/anaconda3/envs/python3/lib/python3.6/site-packages/pexpect/pty_spawn.py\u001b[0m in \u001b[0;36m__init__\u001b[0;34m(self, command, args, timeout, maxread, searchwindowsize, logfile, cwd, env, ignore_sighup, echo, preexec_fn, encoding, codec_errors, dimensions, use_poll)\u001b[0m\n\u001b[1;32m    202\u001b[0m             \u001b[0mself\u001b[0m\u001b[0;34m.\u001b[0m\u001b[0mname\u001b[0m \u001b[0;34m=\u001b[0m \u001b[0;34m'<pexpect factory incomplete>'\u001b[0m\u001b[0;34m\u001b[0m\u001b[0m\n\u001b[1;32m    203\u001b[0m         \u001b[0;32melse\u001b[0m\u001b[0;34m:\u001b[0m\u001b[0;34m\u001b[0m\u001b[0m\n\u001b[0;32m--> 204\u001b[0;31m             \u001b[0mself\u001b[0m\u001b[0;34m.\u001b[0m\u001b[0m_spawn\u001b[0m\u001b[0;34m(\u001b[0m\u001b[0mcommand\u001b[0m\u001b[0;34m,\u001b[0m \u001b[0margs\u001b[0m\u001b[0;34m,\u001b[0m \u001b[0mpreexec_fn\u001b[0m\u001b[0;34m,\u001b[0m \u001b[0mdimensions\u001b[0m\u001b[0;34m)\u001b[0m\u001b[0;34m\u001b[0m\u001b[0m\n\u001b[0m\u001b[1;32m    205\u001b[0m         \u001b[0mself\u001b[0m\u001b[0;34m.\u001b[0m\u001b[0muse_poll\u001b[0m \u001b[0;34m=\u001b[0m \u001b[0muse_poll\u001b[0m\u001b[0;34m\u001b[0m\u001b[0m\n\u001b[1;32m    206\u001b[0m \u001b[0;34m\u001b[0m\u001b[0m\n",
      "\u001b[0;32m~/anaconda3/envs/python3/lib/python3.6/site-packages/pexpect/pty_spawn.py\u001b[0m in \u001b[0;36m_spawn\u001b[0;34m(self, command, args, preexec_fn, dimensions)\u001b[0m\n\u001b[1;32m    301\u001b[0m \u001b[0;34m\u001b[0m\u001b[0m\n\u001b[1;32m    302\u001b[0m         self.ptyproc = self._spawnpty(self.args, env=self.env,\n\u001b[0;32m--> 303\u001b[0;31m                                      cwd=self.cwd, **kwargs)\n\u001b[0m\u001b[1;32m    304\u001b[0m \u001b[0;34m\u001b[0m\u001b[0m\n\u001b[1;32m    305\u001b[0m         \u001b[0mself\u001b[0m\u001b[0;34m.\u001b[0m\u001b[0mpid\u001b[0m \u001b[0;34m=\u001b[0m \u001b[0mself\u001b[0m\u001b[0;34m.\u001b[0m\u001b[0mptyproc\u001b[0m\u001b[0;34m.\u001b[0m\u001b[0mpid\u001b[0m\u001b[0;34m\u001b[0m\u001b[0m\n",
      "\u001b[0;32m~/anaconda3/envs/python3/lib/python3.6/site-packages/pexpect/pty_spawn.py\u001b[0m in \u001b[0;36m_spawnpty\u001b[0;34m(self, args, **kwargs)\u001b[0m\n\u001b[1;32m    312\u001b[0m     \u001b[0;32mdef\u001b[0m \u001b[0m_spawnpty\u001b[0m\u001b[0;34m(\u001b[0m\u001b[0mself\u001b[0m\u001b[0;34m,\u001b[0m \u001b[0margs\u001b[0m\u001b[0;34m,\u001b[0m \u001b[0;34m**\u001b[0m\u001b[0mkwargs\u001b[0m\u001b[0;34m)\u001b[0m\u001b[0;34m:\u001b[0m\u001b[0;34m\u001b[0m\u001b[0m\n\u001b[1;32m    313\u001b[0m         \u001b[0;34m'''Spawn a pty and return an instance of PtyProcess.'''\u001b[0m\u001b[0;34m\u001b[0m\u001b[0m\n\u001b[0;32m--> 314\u001b[0;31m         \u001b[0;32mreturn\u001b[0m \u001b[0mptyprocess\u001b[0m\u001b[0;34m.\u001b[0m\u001b[0mPtyProcess\u001b[0m\u001b[0;34m.\u001b[0m\u001b[0mspawn\u001b[0m\u001b[0;34m(\u001b[0m\u001b[0margs\u001b[0m\u001b[0;34m,\u001b[0m \u001b[0;34m**\u001b[0m\u001b[0mkwargs\u001b[0m\u001b[0;34m)\u001b[0m\u001b[0;34m\u001b[0m\u001b[0m\n\u001b[0m\u001b[1;32m    315\u001b[0m \u001b[0;34m\u001b[0m\u001b[0m\n\u001b[1;32m    316\u001b[0m     \u001b[0;32mdef\u001b[0m \u001b[0mclose\u001b[0m\u001b[0;34m(\u001b[0m\u001b[0mself\u001b[0m\u001b[0;34m,\u001b[0m \u001b[0mforce\u001b[0m\u001b[0;34m=\u001b[0m\u001b[0;32mTrue\u001b[0m\u001b[0;34m)\u001b[0m\u001b[0;34m:\u001b[0m\u001b[0;34m\u001b[0m\u001b[0m\n",
      "\u001b[0;32m~/anaconda3/envs/python3/lib/python3.6/site-packages/ptyprocess/ptyprocess.py\u001b[0m in \u001b[0;36mspawn\u001b[0;34m(cls, argv, cwd, env, echo, preexec_fn, dimensions)\u001b[0m\n\u001b[1;32m    220\u001b[0m \u001b[0;34m\u001b[0m\u001b[0m\n\u001b[1;32m    221\u001b[0m         \u001b[0;32mif\u001b[0m \u001b[0muse_native_pty_fork\u001b[0m\u001b[0;34m:\u001b[0m\u001b[0;34m\u001b[0m\u001b[0m\n\u001b[0;32m--> 222\u001b[0;31m             \u001b[0mpid\u001b[0m\u001b[0;34m,\u001b[0m \u001b[0mfd\u001b[0m \u001b[0;34m=\u001b[0m \u001b[0mpty\u001b[0m\u001b[0;34m.\u001b[0m\u001b[0mfork\u001b[0m\u001b[0;34m(\u001b[0m\u001b[0;34m)\u001b[0m\u001b[0;34m\u001b[0m\u001b[0m\n\u001b[0m\u001b[1;32m    223\u001b[0m         \u001b[0;32melse\u001b[0m\u001b[0;34m:\u001b[0m\u001b[0;34m\u001b[0m\u001b[0m\n\u001b[1;32m    224\u001b[0m             \u001b[0;31m# Use internal fork_pty, for Solaris\u001b[0m\u001b[0;34m\u001b[0m\u001b[0;34m\u001b[0m\u001b[0m\n",
      "\u001b[0;32m~/anaconda3/envs/python3/lib/python3.6/pty.py\u001b[0m in \u001b[0;36mfork\u001b[0;34m()\u001b[0m\n\u001b[1;32m     95\u001b[0m \u001b[0;34m\u001b[0m\u001b[0m\n\u001b[1;32m     96\u001b[0m     \u001b[0mmaster_fd\u001b[0m\u001b[0;34m,\u001b[0m \u001b[0mslave_fd\u001b[0m \u001b[0;34m=\u001b[0m \u001b[0mopenpty\u001b[0m\u001b[0;34m(\u001b[0m\u001b[0;34m)\u001b[0m\u001b[0;34m\u001b[0m\u001b[0m\n\u001b[0;32m---> 97\u001b[0;31m     \u001b[0mpid\u001b[0m \u001b[0;34m=\u001b[0m \u001b[0mos\u001b[0m\u001b[0;34m.\u001b[0m\u001b[0mfork\u001b[0m\u001b[0;34m(\u001b[0m\u001b[0;34m)\u001b[0m\u001b[0;34m\u001b[0m\u001b[0m\n\u001b[0m\u001b[1;32m     98\u001b[0m     \u001b[0;32mif\u001b[0m \u001b[0mpid\u001b[0m \u001b[0;34m==\u001b[0m \u001b[0mCHILD\u001b[0m\u001b[0;34m:\u001b[0m\u001b[0;34m\u001b[0m\u001b[0m\n\u001b[1;32m     99\u001b[0m         \u001b[0;31m# Establish a new session.\u001b[0m\u001b[0;34m\u001b[0m\u001b[0;34m\u001b[0m\u001b[0m\n",
      "\u001b[0;31mOSError\u001b[0m: [Errno 12] Cannot allocate memory"
     ]
    }
   ],
   "source": [
    "# First we will remove all of the files contained in the data_dir directory\n",
    "!rm $data_dir/*\n",
    "\n",
    "# And then we delete the directory itself\n",
    "!rmdir $data_dir\n",
    "\n",
    "# Similarly we remove the files in the cache_dir directory and the directory itself\n",
    "!rm $cache_dir/*\n",
    "!rmdir $cache_dir"
   ]
  },
  {
   "cell_type": "code",
   "execution_count": null,
   "metadata": {},
   "outputs": [],
   "source": []
  }
 ],
 "metadata": {
  "kernelspec": {
   "display_name": "conda_python3",
   "language": "python",
   "name": "conda_python3"
  },
  "language_info": {
   "codemirror_mode": {
    "name": "ipython",
    "version": 3
   },
   "file_extension": ".py",
   "mimetype": "text/x-python",
   "name": "python",
   "nbconvert_exporter": "python",
   "pygments_lexer": "ipython3",
   "version": "3.6.5"
  }
 },
 "nbformat": 4,
 "nbformat_minor": 2
}
